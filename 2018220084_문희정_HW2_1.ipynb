{
 "cells": [
  {
   "cell_type": "markdown",
   "metadata": {},
   "source": [
    "# HW2_1"
   ]
  },
  {
   "cell_type": "markdown",
   "metadata": {},
   "source": [
    "###  R for Data Science 의 flight 데이터를 dplyr과 ggplot을 활용하여 시각화시키고, 해당 그래프를 요약하는 한 문장의 설명을 달 것"
   ]
  },
  {
   "cell_type": "markdown",
   "metadata": {},
   "source": [
    "##### 목표 : 그림은 이쁘게, 설명은 그림을 명확하게 설명할 수 있도록"
   ]
  },
  {
   "cell_type": "markdown",
   "metadata": {},
   "source": [
    "### 1. data 전처리"
   ]
  },
  {
   "cell_type": "code",
   "execution_count": 154,
   "metadata": {},
   "outputs": [],
   "source": [
    "#install.packages(\"nycflights13\")\n",
    "library(nycflights13)\n",
    "library(ggplot2) # ggplot() for plotting\n",
    "library(dplyr) # data reformatting\n",
    "library(tidyr) # data reformatting\n",
    "library(stringr) # string manipulation"
   ]
  },
  {
   "cell_type": "code",
   "execution_count": 39,
   "metadata": {},
   "outputs": [
    {
     "data": {
      "text/html": [
       "<ol class=list-inline>\n",
       "\t<li>'EWR'</li>\n",
       "\t<li>'LGA'</li>\n",
       "\t<li>'JFK'</li>\n",
       "</ol>\n"
      ],
      "text/latex": [
       "\\begin{enumerate*}\n",
       "\\item 'EWR'\n",
       "\\item 'LGA'\n",
       "\\item 'JFK'\n",
       "\\end{enumerate*}\n"
      ],
      "text/markdown": [
       "1. 'EWR'\n",
       "2. 'LGA'\n",
       "3. 'JFK'\n",
       "\n",
       "\n"
      ],
      "text/plain": [
       "[1] \"EWR\" \"LGA\" \"JFK\""
      ]
     },
     "metadata": {},
     "output_type": "display_data"
    },
    {
     "data": {
      "text/html": [
       "<ol class=list-inline>\n",
       "\t<li>'IAH'</li>\n",
       "\t<li>'MIA'</li>\n",
       "\t<li>'BQN'</li>\n",
       "\t<li>'ATL'</li>\n",
       "\t<li>'ORD'</li>\n",
       "\t<li>'FLL'</li>\n",
       "\t<li>'IAD'</li>\n",
       "\t<li>'MCO'</li>\n",
       "\t<li>'PBI'</li>\n",
       "\t<li>'TPA'</li>\n",
       "\t<li>'LAX'</li>\n",
       "\t<li>'SFO'</li>\n",
       "\t<li>'DFW'</li>\n",
       "\t<li>'BOS'</li>\n",
       "\t<li>'LAS'</li>\n",
       "\t<li>'MSP'</li>\n",
       "\t<li>'DTW'</li>\n",
       "\t<li>'RSW'</li>\n",
       "\t<li>'SJU'</li>\n",
       "\t<li>'PHX'</li>\n",
       "\t<li>'BWI'</li>\n",
       "\t<li>'CLT'</li>\n",
       "\t<li>'BUF'</li>\n",
       "\t<li>'DEN'</li>\n",
       "\t<li>'SNA'</li>\n",
       "\t<li>'MSY'</li>\n",
       "\t<li>'SLC'</li>\n",
       "\t<li>'XNA'</li>\n",
       "\t<li>'MKE'</li>\n",
       "\t<li>'SEA'</li>\n",
       "\t<li>'ROC'</li>\n",
       "\t<li>'SYR'</li>\n",
       "\t<li>'SRQ'</li>\n",
       "\t<li>'RDU'</li>\n",
       "\t<li>'CMH'</li>\n",
       "\t<li>'JAX'</li>\n",
       "\t<li>'CHS'</li>\n",
       "\t<li>'MEM'</li>\n",
       "\t<li>'PIT'</li>\n",
       "\t<li>'SAN'</li>\n",
       "\t<li>'DCA'</li>\n",
       "\t<li>'CLE'</li>\n",
       "\t<li>'STL'</li>\n",
       "\t<li>'MYR'</li>\n",
       "\t<li>'JAC'</li>\n",
       "\t<li>'MDW'</li>\n",
       "\t<li>'HNL'</li>\n",
       "\t<li>'BNA'</li>\n",
       "\t<li>'AUS'</li>\n",
       "\t<li>'BTV'</li>\n",
       "\t<li>'PHL'</li>\n",
       "\t<li>'STT'</li>\n",
       "\t<li>'EGE'</li>\n",
       "\t<li>'AVL'</li>\n",
       "\t<li>'PWM'</li>\n",
       "\t<li>'IND'</li>\n",
       "\t<li>'SAV'</li>\n",
       "\t<li>'CAK'</li>\n",
       "\t<li>'HOU'</li>\n",
       "\t<li>'LGB'</li>\n",
       "\t<li>'DAY'</li>\n",
       "\t<li>'ALB'</li>\n",
       "\t<li>'BDL'</li>\n",
       "\t<li>'MHT'</li>\n",
       "\t<li>'MSN'</li>\n",
       "\t<li>'GSO'</li>\n",
       "\t<li>'CVG'</li>\n",
       "\t<li>'BUR'</li>\n",
       "\t<li>'RIC'</li>\n",
       "\t<li>'GSP'</li>\n",
       "\t<li>'GRR'</li>\n",
       "\t<li>'MCI'</li>\n",
       "\t<li>'ORF'</li>\n",
       "\t<li>'SAT'</li>\n",
       "\t<li>'SDF'</li>\n",
       "\t<li>'PDX'</li>\n",
       "\t<li>'SJC'</li>\n",
       "\t<li>'OMA'</li>\n",
       "\t<li>'CRW'</li>\n",
       "\t<li>'OAK'</li>\n",
       "\t<li>'SMF'</li>\n",
       "\t<li>'TUL'</li>\n",
       "\t<li>'TYS'</li>\n",
       "\t<li>'OKC'</li>\n",
       "\t<li>'PVD'</li>\n",
       "\t<li>'DSM'</li>\n",
       "\t<li>'PSE'</li>\n",
       "\t<li>'BHM'</li>\n",
       "\t<li>'CAE'</li>\n",
       "\t<li>'HDN'</li>\n",
       "\t<li>'BZN'</li>\n",
       "\t<li>'MTJ'</li>\n",
       "\t<li>'EYW'</li>\n",
       "\t<li>'PSP'</li>\n",
       "\t<li>'ACK'</li>\n",
       "\t<li>'BGR'</li>\n",
       "\t<li>'ABQ'</li>\n",
       "\t<li>'ILM'</li>\n",
       "\t<li>'MVY'</li>\n",
       "\t<li>'SBN'</li>\n",
       "\t<li>'LEX'</li>\n",
       "\t<li>'CHO'</li>\n",
       "\t<li>'TVC'</li>\n",
       "\t<li>'ANC'</li>\n",
       "\t<li>'LGA'</li>\n",
       "</ol>\n"
      ],
      "text/latex": [
       "\\begin{enumerate*}\n",
       "\\item 'IAH'\n",
       "\\item 'MIA'\n",
       "\\item 'BQN'\n",
       "\\item 'ATL'\n",
       "\\item 'ORD'\n",
       "\\item 'FLL'\n",
       "\\item 'IAD'\n",
       "\\item 'MCO'\n",
       "\\item 'PBI'\n",
       "\\item 'TPA'\n",
       "\\item 'LAX'\n",
       "\\item 'SFO'\n",
       "\\item 'DFW'\n",
       "\\item 'BOS'\n",
       "\\item 'LAS'\n",
       "\\item 'MSP'\n",
       "\\item 'DTW'\n",
       "\\item 'RSW'\n",
       "\\item 'SJU'\n",
       "\\item 'PHX'\n",
       "\\item 'BWI'\n",
       "\\item 'CLT'\n",
       "\\item 'BUF'\n",
       "\\item 'DEN'\n",
       "\\item 'SNA'\n",
       "\\item 'MSY'\n",
       "\\item 'SLC'\n",
       "\\item 'XNA'\n",
       "\\item 'MKE'\n",
       "\\item 'SEA'\n",
       "\\item 'ROC'\n",
       "\\item 'SYR'\n",
       "\\item 'SRQ'\n",
       "\\item 'RDU'\n",
       "\\item 'CMH'\n",
       "\\item 'JAX'\n",
       "\\item 'CHS'\n",
       "\\item 'MEM'\n",
       "\\item 'PIT'\n",
       "\\item 'SAN'\n",
       "\\item 'DCA'\n",
       "\\item 'CLE'\n",
       "\\item 'STL'\n",
       "\\item 'MYR'\n",
       "\\item 'JAC'\n",
       "\\item 'MDW'\n",
       "\\item 'HNL'\n",
       "\\item 'BNA'\n",
       "\\item 'AUS'\n",
       "\\item 'BTV'\n",
       "\\item 'PHL'\n",
       "\\item 'STT'\n",
       "\\item 'EGE'\n",
       "\\item 'AVL'\n",
       "\\item 'PWM'\n",
       "\\item 'IND'\n",
       "\\item 'SAV'\n",
       "\\item 'CAK'\n",
       "\\item 'HOU'\n",
       "\\item 'LGB'\n",
       "\\item 'DAY'\n",
       "\\item 'ALB'\n",
       "\\item 'BDL'\n",
       "\\item 'MHT'\n",
       "\\item 'MSN'\n",
       "\\item 'GSO'\n",
       "\\item 'CVG'\n",
       "\\item 'BUR'\n",
       "\\item 'RIC'\n",
       "\\item 'GSP'\n",
       "\\item 'GRR'\n",
       "\\item 'MCI'\n",
       "\\item 'ORF'\n",
       "\\item 'SAT'\n",
       "\\item 'SDF'\n",
       "\\item 'PDX'\n",
       "\\item 'SJC'\n",
       "\\item 'OMA'\n",
       "\\item 'CRW'\n",
       "\\item 'OAK'\n",
       "\\item 'SMF'\n",
       "\\item 'TUL'\n",
       "\\item 'TYS'\n",
       "\\item 'OKC'\n",
       "\\item 'PVD'\n",
       "\\item 'DSM'\n",
       "\\item 'PSE'\n",
       "\\item 'BHM'\n",
       "\\item 'CAE'\n",
       "\\item 'HDN'\n",
       "\\item 'BZN'\n",
       "\\item 'MTJ'\n",
       "\\item 'EYW'\n",
       "\\item 'PSP'\n",
       "\\item 'ACK'\n",
       "\\item 'BGR'\n",
       "\\item 'ABQ'\n",
       "\\item 'ILM'\n",
       "\\item 'MVY'\n",
       "\\item 'SBN'\n",
       "\\item 'LEX'\n",
       "\\item 'CHO'\n",
       "\\item 'TVC'\n",
       "\\item 'ANC'\n",
       "\\item 'LGA'\n",
       "\\end{enumerate*}\n"
      ],
      "text/markdown": [
       "1. 'IAH'\n",
       "2. 'MIA'\n",
       "3. 'BQN'\n",
       "4. 'ATL'\n",
       "5. 'ORD'\n",
       "6. 'FLL'\n",
       "7. 'IAD'\n",
       "8. 'MCO'\n",
       "9. 'PBI'\n",
       "10. 'TPA'\n",
       "11. 'LAX'\n",
       "12. 'SFO'\n",
       "13. 'DFW'\n",
       "14. 'BOS'\n",
       "15. 'LAS'\n",
       "16. 'MSP'\n",
       "17. 'DTW'\n",
       "18. 'RSW'\n",
       "19. 'SJU'\n",
       "20. 'PHX'\n",
       "21. 'BWI'\n",
       "22. 'CLT'\n",
       "23. 'BUF'\n",
       "24. 'DEN'\n",
       "25. 'SNA'\n",
       "26. 'MSY'\n",
       "27. 'SLC'\n",
       "28. 'XNA'\n",
       "29. 'MKE'\n",
       "30. 'SEA'\n",
       "31. 'ROC'\n",
       "32. 'SYR'\n",
       "33. 'SRQ'\n",
       "34. 'RDU'\n",
       "35. 'CMH'\n",
       "36. 'JAX'\n",
       "37. 'CHS'\n",
       "38. 'MEM'\n",
       "39. 'PIT'\n",
       "40. 'SAN'\n",
       "41. 'DCA'\n",
       "42. 'CLE'\n",
       "43. 'STL'\n",
       "44. 'MYR'\n",
       "45. 'JAC'\n",
       "46. 'MDW'\n",
       "47. 'HNL'\n",
       "48. 'BNA'\n",
       "49. 'AUS'\n",
       "50. 'BTV'\n",
       "51. 'PHL'\n",
       "52. 'STT'\n",
       "53. 'EGE'\n",
       "54. 'AVL'\n",
       "55. 'PWM'\n",
       "56. 'IND'\n",
       "57. 'SAV'\n",
       "58. 'CAK'\n",
       "59. 'HOU'\n",
       "60. 'LGB'\n",
       "61. 'DAY'\n",
       "62. 'ALB'\n",
       "63. 'BDL'\n",
       "64. 'MHT'\n",
       "65. 'MSN'\n",
       "66. 'GSO'\n",
       "67. 'CVG'\n",
       "68. 'BUR'\n",
       "69. 'RIC'\n",
       "70. 'GSP'\n",
       "71. 'GRR'\n",
       "72. 'MCI'\n",
       "73. 'ORF'\n",
       "74. 'SAT'\n",
       "75. 'SDF'\n",
       "76. 'PDX'\n",
       "77. 'SJC'\n",
       "78. 'OMA'\n",
       "79. 'CRW'\n",
       "80. 'OAK'\n",
       "81. 'SMF'\n",
       "82. 'TUL'\n",
       "83. 'TYS'\n",
       "84. 'OKC'\n",
       "85. 'PVD'\n",
       "86. 'DSM'\n",
       "87. 'PSE'\n",
       "88. 'BHM'\n",
       "89. 'CAE'\n",
       "90. 'HDN'\n",
       "91. 'BZN'\n",
       "92. 'MTJ'\n",
       "93. 'EYW'\n",
       "94. 'PSP'\n",
       "95. 'ACK'\n",
       "96. 'BGR'\n",
       "97. 'ABQ'\n",
       "98. 'ILM'\n",
       "99. 'MVY'\n",
       "100. 'SBN'\n",
       "101. 'LEX'\n",
       "102. 'CHO'\n",
       "103. 'TVC'\n",
       "104. 'ANC'\n",
       "105. 'LGA'\n",
       "\n",
       "\n"
      ],
      "text/plain": [
       "  [1] \"IAH\" \"MIA\" \"BQN\" \"ATL\" \"ORD\" \"FLL\" \"IAD\" \"MCO\" \"PBI\" \"TPA\" \"LAX\" \"SFO\"\n",
       " [13] \"DFW\" \"BOS\" \"LAS\" \"MSP\" \"DTW\" \"RSW\" \"SJU\" \"PHX\" \"BWI\" \"CLT\" \"BUF\" \"DEN\"\n",
       " [25] \"SNA\" \"MSY\" \"SLC\" \"XNA\" \"MKE\" \"SEA\" \"ROC\" \"SYR\" \"SRQ\" \"RDU\" \"CMH\" \"JAX\"\n",
       " [37] \"CHS\" \"MEM\" \"PIT\" \"SAN\" \"DCA\" \"CLE\" \"STL\" \"MYR\" \"JAC\" \"MDW\" \"HNL\" \"BNA\"\n",
       " [49] \"AUS\" \"BTV\" \"PHL\" \"STT\" \"EGE\" \"AVL\" \"PWM\" \"IND\" \"SAV\" \"CAK\" \"HOU\" \"LGB\"\n",
       " [61] \"DAY\" \"ALB\" \"BDL\" \"MHT\" \"MSN\" \"GSO\" \"CVG\" \"BUR\" \"RIC\" \"GSP\" \"GRR\" \"MCI\"\n",
       " [73] \"ORF\" \"SAT\" \"SDF\" \"PDX\" \"SJC\" \"OMA\" \"CRW\" \"OAK\" \"SMF\" \"TUL\" \"TYS\" \"OKC\"\n",
       " [85] \"PVD\" \"DSM\" \"PSE\" \"BHM\" \"CAE\" \"HDN\" \"BZN\" \"MTJ\" \"EYW\" \"PSP\" \"ACK\" \"BGR\"\n",
       " [97] \"ABQ\" \"ILM\" \"MVY\" \"SBN\" \"LEX\" \"CHO\" \"TVC\" \"ANC\" \"LGA\""
      ]
     },
     "metadata": {},
     "output_type": "display_data"
    }
   ],
   "source": [
    "unique(flights$origin)\n",
    "unique(flights$dest)"
   ]
  },
  {
   "cell_type": "code",
   "execution_count": 151,
   "metadata": {},
   "outputs": [
    {
     "data": {
      "text/html": [
       "46595"
      ],
      "text/latex": [
       "46595"
      ],
      "text/markdown": [
       "46595"
      ],
      "text/plain": [
       "[1] 46595"
      ]
     },
     "metadata": {},
     "output_type": "display_data"
    },
    {
     "data": {
      "text/html": [
       "<table>\n",
       "<thead><tr><th scope=col>month</th><th scope=col>origin</th><th scope=col>dest</th><th scope=col>dep_delay_m</th><th scope=col>arr_delay_m</th><th scope=col>depfactor</th><th scope=col>arrfactor</th></tr></thead>\n",
       "<tbody>\n",
       "\t<tr><td>1         </td><td>EWR       </td><td>ALB       </td><td>41.396825 </td><td>35.1746032</td><td>40-60     </td><td>20-40     </td></tr>\n",
       "\t<tr><td>1         </td><td>EWR       </td><td>AVL       </td><td>25.500000 </td><td>23.5000000</td><td>20-40     </td><td>20-40     </td></tr>\n",
       "\t<tr><td>1                                               </td><td>EWR                                             </td><td>BOS                                             </td><td> 8.985915                                       </td><td>-0.8122066                                      </td><td>0-20                                            </td><td><span style=white-space:pre-wrap>&lt;0   </span></td></tr>\n",
       "\t<tr><td>1         </td><td>EWR       </td><td>BTV       </td><td>20.673469 </td><td>16.1938776</td><td>20-40     </td><td>0-20      </td></tr>\n",
       "\t<tr><td>1         </td><td>EWR       </td><td>CAE       </td><td>40.750000 </td><td>55.8750000</td><td>40-60     </td><td>40-60     </td></tr>\n",
       "\t<tr><td>1         </td><td>EWR       </td><td>DAY       </td><td>27.753425 </td><td>30.6712329</td><td>20-40     </td><td>20-40     </td></tr>\n",
       "</tbody>\n",
       "</table>\n"
      ],
      "text/latex": [
       "\\begin{tabular}{r|lllllll}\n",
       " month & origin & dest & dep\\_delay\\_m & arr\\_delay\\_m & depfactor & arrfactor\\\\\n",
       "\\hline\n",
       "\t 1          & EWR        & ALB        & 41.396825  & 35.1746032 & 40-60      & 20-40     \\\\\n",
       "\t 1          & EWR        & AVL        & 25.500000  & 23.5000000 & 20-40      & 20-40     \\\\\n",
       "\t 1          & EWR        & BOS        &  8.985915  & -0.8122066 & 0-20       & <0        \\\\\n",
       "\t 1          & EWR        & BTV        & 20.673469  & 16.1938776 & 20-40      & 0-20      \\\\\n",
       "\t 1          & EWR        & CAE        & 40.750000  & 55.8750000 & 40-60      & 40-60     \\\\\n",
       "\t 1          & EWR        & DAY        & 27.753425  & 30.6712329 & 20-40      & 20-40     \\\\\n",
       "\\end{tabular}\n"
      ],
      "text/markdown": [
       "\n",
       "| month | origin | dest | dep_delay_m | arr_delay_m | depfactor | arrfactor |\n",
       "|---|---|---|---|---|---|---|\n",
       "| 1          | EWR        | ALB        | 41.396825  | 35.1746032 | 40-60      | 20-40      |\n",
       "| 1          | EWR        | AVL        | 25.500000  | 23.5000000 | 20-40      | 20-40      |\n",
       "| 1          | EWR        | BOS        |  8.985915  | -0.8122066 | 0-20       | <0         |\n",
       "| 1          | EWR        | BTV        | 20.673469  | 16.1938776 | 20-40      | 0-20       |\n",
       "| 1          | EWR        | CAE        | 40.750000  | 55.8750000 | 40-60      | 40-60      |\n",
       "| 1          | EWR        | DAY        | 27.753425  | 30.6712329 | 20-40      | 20-40      |\n",
       "\n"
      ],
      "text/plain": [
       "  month origin dest dep_delay_m arr_delay_m depfactor arrfactor\n",
       "1 1     EWR    ALB  41.396825   35.1746032  40-60     20-40    \n",
       "2 1     EWR    AVL  25.500000   23.5000000  20-40     20-40    \n",
       "3 1     EWR    BOS   8.985915   -0.8122066  0-20      <0       \n",
       "4 1     EWR    BTV  20.673469   16.1938776  20-40     0-20     \n",
       "5 1     EWR    CAE  40.750000   55.8750000  40-60     40-60    \n",
       "6 1     EWR    DAY  27.753425   30.6712329  20-40     20-40    "
      ]
     },
     "metadata": {},
     "output_type": "display_data"
    }
   ],
   "source": [
    "sum(is.na(flights))\n",
    "flights1 <- na.omit(flights)\n",
    "flights2 <- flights1 %>% \n",
    "            select(month, ends_with(\"delay\"),origin,dest) %>%\n",
    "            filter(dest==\"ORD\"|dest==\"BOS\"|dest==\"BTV\"|dest==\"CAE\"|dest==\"GRR\"|dest==\"STT\"|\n",
    "                   dest==\"DAY\"|dest==\"ALB\"|dest==\"CHO\"|dest==\"LGA\"|dest==\"AVL\"|dest==\"RDU\"|\n",
    "                   dest==\"IAH\"|dest==\"SMF\"|dest==\"MEM\"|dest==\"EGE\"|dest==\"SFO\"|dest==\"HDN\") %>%\n",
    "            group_by(month, origin, dest) %>% \n",
    "            summarise(dep_delay_m = mean(dep_delay, na.rm=T),\n",
    "                      arr_delay_m = mean(arr_delay, na.rm=T)) %>%\n",
    "            mutate(depfactor = cut(dep_delay_m, breaks = c(-30, 0, 20, 40, 60, max(dep_delay_m,na.rm=T)),\n",
    "                                                labels = c(\"<0\",\"0-20\",\"20-40\",\"40-60\",\">60\"))) %>%\n",
    "            mutate(depfactor=factor(as.character(depfactor),levels=rev(levels(depfactor)))) %>%\n",
    "            mutate(arrfactor = cut(arr_delay_m, breaks = c(-30, 0, 20, 40, 60, max(arr_delay_m,na.rm=T)),\n",
    "                                                labels = c(\"<0\",\"0-20\",\"20-40\",\"40-60\",\">60\"))) %>%\n",
    "            mutate(arrfactor=factor(as.character(arrfactor),levels=rev(levels(arrfactor)))) %>%\n",
    "            as.data.frame %>%\n",
    "            mutate(origin = factor(origin)) %>%\n",
    "            mutate(dest = factor(dest))\n",
    "\n",
    "head(flights2)"
   ]
  },
  {
   "cell_type": "markdown",
   "metadata": {},
   "source": [
    "----------------------------------"
   ]
  },
  {
   "cell_type": "markdown",
   "metadata": {},
   "source": [
    "### 2. 출발지와 도착지에 따른 월별 출발지연시간"
   ]
  },
  {
   "cell_type": "markdown",
   "metadata": {},
   "source": [
    "> **그래프는 출발지와 도착지에 따른 월별 출발지연시간을 나타낸 그래프입니다.**"
   ]
  },
  {
   "cell_type": "code",
   "execution_count": 157,
   "metadata": {
    "scrolled": false
   },
   "outputs": [
    {
     "data": {
      "image/png": "[encoded data removed]",
      "text/plain": [
       "plot without title"
      ]
     },
     "metadata": {},
     "output_type": "display_data"
    }
   ],
   "source": [
    "# assign text colour\n",
    "textcol <- \"grey40\"\n",
    "\n",
    "# further modified ggplot\n",
    "ggplot(flights2,aes(x=dest,y=origin,fill=depfactor))+\n",
    "   facet_grid( month ~. ) +\n",
    "  geom_tile(colour=\"white\",size=0.2)+\n",
    "  guides(fill=guide_legend(title=\"in minutes\"))+\n",
    "  labs(x=\"Destination\",y=\"origin\",title=\"Departure delays\")+\n",
    "  scale_y_discrete(expand=c(0,0))+\n",
    "  scale_x_discrete(expand=c(0,0))+\n",
    "  scale_fill_manual(values=c(\"#d53e4f\",\"#f46d43\",\"#fdae61\",\"#fee08b\",\"#e6f598\",\"#abdda4\",\"#ddf1da\"))+\n",
    "  #coord_fixed()+\n",
    "#set a base size for all fonts\n",
    "  theme_grey(base_size=10)+\n",
    "#theme options\n",
    "  theme(legend.position=\"right\",legend.direction=\"vertical\",\n",
    "        legend.title=element_text(colour=textcol),\n",
    "        legend.margin=margin(grid::unit(0,\"cm\")),\n",
    "        #bold font for legend text\n",
    "        legend.text=element_text(colour=textcol,size=7,face=\"bold\"),\n",
    "        legend.key.height=grid::unit(0.8,\"cm\"),\n",
    "        legend.key.width=grid::unit(0.2,\"cm\"),\n",
    "        axis.text.x=element_text(size=10,colour=textcol),\n",
    "        axis.text.y=element_text(vjust=0.2,colour=textcol),\n",
    "        #set thickness of axis ticks\n",
    "        axis.ticks=element_line(size=0.4),\n",
    "        #remove plot background\n",
    "        plot.background=element_blank(),\n",
    "        #remove plot border\n",
    "        panel.border=element_blank(),\n",
    "        plot.margin=margin(0.7,0.4,0.1,0.2,\"cm\"),\n",
    "        plot.title=element_text(colour=textcol,hjust=0,size=14,face=\"bold\"))"
   ]
  },
  {
   "cell_type": "markdown",
   "metadata": {},
   "source": [
    "> 오른쪽 열은 월이고, 왼쪽 열은 출발지이며 행은 도착지입니다. 또한 그래프의 색깔이 진할수록 오래 지연됨을 의미합니다. \n",
    "   * 7월에 출발지가 \"EWR\"이고 도착지가 \"CAE\"인 비행기는 평균 1시간 이상 지연되었이며 \"STT\"로 가는 비행기는 일찍 출발하는 경우도 종종 있습니다. \n",
    "   * 대체적으로 8월부터 12월까지 보다 1월부터 7월까지 지연시간이 오래 걸렸습니다.\n",
    "   * 도착지가 \"BOS\",\"IAH\",\"ORD\",\"RDU\"인 비행기는 자주 운행하지만 도착지가 \"CHO\",\"HDN\"인 비행기는 일년에 3~4달 정도 운행하였습니다."
   ]
  },
  {
   "cell_type": "markdown",
   "metadata": {},
   "source": [
    "----------------------------------------------------"
   ]
  },
  {
   "cell_type": "markdown",
   "metadata": {},
   "source": [
    "### 3. 출발지와 도착지에 따른 월별 도착지연시간"
   ]
  },
  {
   "cell_type": "markdown",
   "metadata": {},
   "source": [
    "> **그래프는 출발지와 도착지에 따른 월별 도착지연시간을 나타낸 그래프입니다.**"
   ]
  },
  {
   "cell_type": "code",
   "execution_count": 159,
   "metadata": {},
   "outputs": [
    {
     "data": {
      "image/png": "[encoded data removed]",
      "text/plain": [
       "plot without title"
      ]
     },
     "metadata": {},
     "output_type": "display_data"
    }
   ],
   "source": [
    "library(RColorBrewer)\n",
    "# assign text colour\n",
    "textcol <- \"grey40\"\n",
    "\n",
    "# further modified ggplot\n",
    "ggplot(flights2,aes(x=dest,y=origin,fill=arrfactor))+\n",
    "   facet_grid( month ~. ) +\n",
    "  geom_tile(colour=\"white\",size=0.2)+\n",
    "  guides(fill=guide_legend(title=\"in minutes\"))+\n",
    "  labs(x=\"Destination\",y=\"origin\",title=\"Arrival delays\")+\n",
    "  scale_y_discrete(expand=c(0,0))+\n",
    "  scale_x_discrete(expand=c(0,0))+\n",
    "   scale_fill_manual(values=c(\"#d53e4f\",\"#f46d43\",\"#fdae61\",\"#fee08b\",\"#e6f598\",\"#abdda4\",\"#ddf1da\"))+                     \n",
    "#  scale_fill_manual(values=rev(brewer.pal(7,\"YlGnBu\")))+\n",
    "  #coord_fixed()+\n",
    "#set a base size for all fonts\n",
    "  theme_grey(base_size=10)+\n",
    "#theme options\n",
    "  theme(legend.position=\"right\",legend.direction=\"vertical\",\n",
    "        legend.title=element_text(colour=textcol),\n",
    "        legend.margin=margin(grid::unit(0,\"cm\")),\n",
    "        #bold font for legend text\n",
    "        legend.text=element_text(colour=textcol,size=7,face=\"bold\"),\n",
    "        legend.key.height=grid::unit(0.8,\"cm\"),\n",
    "        legend.key.width=grid::unit(0.2,\"cm\"),\n",
    "        axis.text.x=element_text(size=10,colour=textcol),\n",
    "        axis.text.y=element_text(vjust=0.2,colour=textcol),\n",
    "        #set thickness of axis ticks\n",
    "        axis.ticks=element_line(size=0.4),\n",
    "        #remove plot background\n",
    "        plot.background=element_blank(),\n",
    "        #remove plot border\n",
    "        panel.border=element_blank(),\n",
    "        plot.margin=margin(0.7,0.4,0.1,0.2,\"cm\"),\n",
    "        plot.title=element_text(colour=textcol,hjust=0,size=14,face=\"bold\"))"
   ]
  },
  {
   "cell_type": "markdown",
   "metadata": {},
   "source": [
    "> 오른쪽 열은 월이고, 왼쪽 열은 출발지이며 행은 도착지입니다. 또한 그래프의 색깔이 진할수록 오래 지연됨을 의미합니다. \n",
    "   * 7월에 출발지가 \"EWR\"이고 도착지가 \"CAE\"인 비행기는 평균 1시간 이상 지연되었이며 \"STT\"로 가는 비행기는 일찍 도착하는 경우도 많이 있지만 \"CAE\"로 도착하는 비행기는 제 시간에 도착하는 경우가 많이 없었습니다.\n",
    "   * 대체적으로 9,10,11월달이 다른 달에 비해 일찍 도착하는 경우가 많이 있습니다. \n",
    "   * 도착지가 \"BOS\",\"IAH\",\"ORD\",\"RDU\"인 비행기는 자주 운행하지만 도착지가 \"CHO\",\"HDN\"인 비행기는 일년에 3~4달 정도 운행하였습니다."
   ]
  }
 ],
 "metadata": {
  "kernelspec": {
   "display_name": "R",
   "language": "R",
   "name": "ir"
  },
  "language_info": {
   "codemirror_mode": "r",
   "file_extension": ".r",
   "mimetype": "text/x-r-source",
   "name": "R",
   "pygments_lexer": "r",
   "version": "3.6.1"
  }
 },
 "nbformat": 4,
 "nbformat_minor": 2
}
