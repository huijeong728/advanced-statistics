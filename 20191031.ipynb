{
  "nbformat": 4,
  "nbformat_minor": 0,
  "metadata": {
    "colab": {
      "name": "20191031.ipynb",
      "provenance": [],
      "collapsed_sections": [],
      "toc_visible": true,
      "include_colab_link": true
    },
    "kernelspec": {
      "name": "python3",
      "display_name": "Python 3"
    }
  },
  "cells": [
    {
      "cell_type": "markdown",
      "metadata": {
        "id": "view-in-github",
        "colab_type": "text"
      },
      "source": [
        "<a href=\"https://colab.research.google.com/github/huijeong728/advanced-statistics/blob/master/20191031.ipynb\" target=\"_parent\"><img src=\"https://colab.research.google.com/assets/colab-badge.svg\" alt=\"Open In Colab\"/></a>"
      ]
    },
    {
      "cell_type": "markdown",
      "metadata": {
        "id": "8A7z1jSoJ2fz",
        "colab_type": "text"
      },
      "source": [
        "# CNN [practice](https://www.tensorflow.org/tutorials/keras/classification)\n"
      ]
    },
    {
      "cell_type": "code",
      "metadata": {
        "id": "jqjmsZH9MP8m",
        "colab_type": "code",
        "colab": {
          "base_uri": "https://localhost:8080/",
          "height": 34
        },
        "outputId": "95cbce1f-0258-4f34-8a02-e6922b978e74"
      },
      "source": [
        "try:\n",
        "  # Colab only\n",
        "  %tensorflow_version 2.x\n",
        "except Exception:\n",
        "  pass\n"
      ],
      "execution_count": 1,
      "outputs": [
        {
          "output_type": "stream",
          "text": [
            "TensorFlow 2.x selected.\n"
          ],
          "name": "stdout"
        }
      ]
    },
    {
      "cell_type": "code",
      "metadata": {
        "id": "txH0dBzrOnDG",
        "colab_type": "code",
        "colab": {
          "base_uri": "https://localhost:8080/",
          "height": 34
        },
        "outputId": "1780abc9-b710-4799-e21c-c4626d8f2caa"
      },
      "source": [
        "from __future__ import absolute_import, division, print_function, unicode_literals, unicode_literals\n",
        "\n",
        "# tensorflow와 tf.keras를 임포트합니다\n",
        "import tensorflow as tf\n",
        "from tensorflow import keras\n",
        "\n",
        "# 헬퍼(helper) 라이브러리를 임포트합니다\n",
        "import numpy as np\n",
        "import matplotlib.pyplot as plt\n",
        "\n",
        "print(tf.__version__)"
      ],
      "execution_count": 2,
      "outputs": [
        {
          "output_type": "stream",
          "text": [
            "2.0.0\n"
          ],
          "name": "stdout"
        }
      ]
    },
    {
      "cell_type": "markdown",
      "metadata": {
        "id": "CTmCmOtxOrjE",
        "colab_type": "text"
      },
      "source": [
        "## 패션 MNIST 데이터셋 임포트하기"
      ]
    },
    {
      "cell_type": "code",
      "metadata": {
        "id": "L6KYLd-jOnAO",
        "colab_type": "code",
        "colab": {
          "base_uri": "https://localhost:8080/",
          "height": 158
        },
        "outputId": "1d9c1e79-23f3-4ddf-e35b-d9919c325fb4"
      },
      "source": [
        "fashion_mnist = keras.datasets.fashion_mnist\n",
        "\n",
        "(train_images, train_labels), (test_images, test_labels) = fashion_mnist.load_data()"
      ],
      "execution_count": 3,
      "outputs": [
        {
          "output_type": "stream",
          "text": [
            "Downloading data from https://storage.googleapis.com/tensorflow/tf-keras-datasets/train-labels-idx1-ubyte.gz\n",
            "32768/29515 [=================================] - 0s 0us/step\n",
            "Downloading data from https://storage.googleapis.com/tensorflow/tf-keras-datasets/train-images-idx3-ubyte.gz\n",
            "26427392/26421880 [==============================] - 0s 0us/step\n",
            "Downloading data from https://storage.googleapis.com/tensorflow/tf-keras-datasets/t10k-labels-idx1-ubyte.gz\n",
            "8192/5148 [===============================================] - 0s 0us/step\n",
            "Downloading data from https://storage.googleapis.com/tensorflow/tf-keras-datasets/t10k-images-idx3-ubyte.gz\n",
            "4423680/4422102 [==============================] - 0s 0us/step\n"
          ],
          "name": "stdout"
        }
      ]
    },
    {
      "cell_type": "code",
      "metadata": {
        "id": "8eevyPAVOm92",
        "colab_type": "code",
        "colab": {}
      },
      "source": [
        "class_names = ['T-shirt/top', 'Trouser', 'Pullover', 'Dress', 'Coat',\n",
        "               'Sandal', 'Shirt', 'Sneaker', 'Bag', 'Ankle boot']"
      ],
      "execution_count": 0,
      "outputs": []
    },
    {
      "cell_type": "markdown",
      "metadata": {
        "id": "c6NiaRE_Oxc2",
        "colab_type": "text"
      },
      "source": [
        "## 데이터 전처리"
      ]
    },
    {
      "cell_type": "code",
      "metadata": {
        "id": "qLd6kqf5Om7W",
        "colab_type": "code",
        "colab": {
          "base_uri": "https://localhost:8080/",
          "height": 264
        },
        "outputId": "5f16b5bf-c62f-49fa-9922-6b989606f821"
      },
      "source": [
        "plt.figure()\n",
        "plt.imshow(train_images[0])\n",
        "plt.colorbar()\n",
        "plt.grid(False)\n",
        "plt.show()"
      ],
      "execution_count": 6,
      "outputs": [
        {
          "output_type": "display_data",
          "data": {
            "image/png": "[encoded data removed]",
            "text/plain": [
              "<Figure size 432x288 with 2 Axes>"
            ]
          },
          "metadata": {
            "tags": []
          }
        }
      ]
    },
    {
      "cell_type": "code",
      "metadata": {
        "id": "D8BzAInUOm4w",
        "colab_type": "code",
        "colab": {
          "base_uri": "https://localhost:8080/",
          "height": 34
        },
        "outputId": "a18d5ef7-933a-479e-fae5-d16ba0d060df"
      },
      "source": [
        "train_images.shape"
      ],
      "execution_count": 7,
      "outputs": [
        {
          "output_type": "execute_result",
          "data": {
            "text/plain": [
              "(60000, 28, 28)"
            ]
          },
          "metadata": {
            "tags": []
          },
          "execution_count": 7
        }
      ]
    },
    {
      "cell_type": "code",
      "metadata": {
        "id": "R3XFlpjDOm0A",
        "colab_type": "code",
        "colab": {}
      },
      "source": [
        "train_images=train_images.reshape(train_images.shape[0],28,28,1)\n",
        "test_images=test_images.reshape(test_images.shape[0],28,28,1)"
      ],
      "execution_count": 0,
      "outputs": []
    },
    {
      "cell_type": "markdown",
      "metadata": {
        "id": "uKII8OPpO5wN",
        "colab_type": "text"
      },
      "source": [
        "## 모델 구성\n",
        "\n",
        "\n",
        "\n"
      ]
    },
    {
      "cell_type": "markdown",
      "metadata": {
        "id": "We58KvfYO7Sq",
        "colab_type": "text"
      },
      "source": [
        "### 층 설정"
      ]
    },
    {
      "cell_type": "markdown",
      "metadata": {
        "id": "15HbuzIZPWUv",
        "colab_type": "text"
      },
      "source": [
        "- 원래 차원은 28X28X3\n",
        "- 3X3 filter들을 32개 만들어줌\n",
        "- padding=same이므로 결과 차원은 28X28X32"
      ]
    },
    {
      "cell_type": "code",
      "metadata": {
        "id": "p2ewxU1dOmw_",
        "colab_type": "code",
        "colab": {
          "base_uri": "https://localhost:8080/",
          "height": 301
        },
        "outputId": "3b1904cb-13e4-4ce5-fe3e-5e9f97cfde4b"
      },
      "source": [
        "from tensorflow.keras.layers import Dense, Flatten, Conv2D\n",
        "from tensorflow.keras import Sequential\n",
        "\n",
        "model=Sequential()\n",
        "model.add( Conv2D(input_shape=(28, 28, 1),\n",
        "                  filters=32,kernel_size=(3, 3),strides=(1 ,1),\n",
        "                  padding='same',activation='relu'))\n",
        "model.add(Flatten())\n",
        "model.add(Dense(128,activation ='relu'))\n",
        "model.add(Dense(10, activation ='softmax'))\n",
        "model.summary()"
      ],
      "execution_count": 9,
      "outputs": [
        {
          "output_type": "stream",
          "text": [
            "Model: \"sequential\"\n",
            "_________________________________________________________________\n",
            "Layer (type)                 Output Shape              Param #   \n",
            "=================================================================\n",
            "conv2d (Conv2D)              (None, 28, 28, 32)        320       \n",
            "_________________________________________________________________\n",
            "flatten (Flatten)            (None, 25088)             0         \n",
            "_________________________________________________________________\n",
            "dense (Dense)                (None, 128)               3211392   \n",
            "_________________________________________________________________\n",
            "dense_1 (Dense)              (None, 10)                1290      \n",
            "=================================================================\n",
            "Total params: 3,213,002\n",
            "Trainable params: 3,213,002\n",
            "Non-trainable params: 0\n",
            "_________________________________________________________________\n"
          ],
          "name": "stdout"
        }
      ]
    },
    {
      "cell_type": "markdown",
      "metadata": {
        "id": "jB9yoI6ZPxmV",
        "colab_type": "text"
      },
      "source": [
        "### 모델 컴파일"
      ]
    },
    {
      "cell_type": "code",
      "metadata": {
        "id": "ihm_T5uUOmr7",
        "colab_type": "code",
        "colab": {}
      },
      "source": [
        "model.compile(optimizer='adam',\n",
        "              loss='sparse_categorical_crossentropy',\n",
        "              metrics=['accuracy'])"
      ],
      "execution_count": 0,
      "outputs": []
    },
    {
      "cell_type": "markdown",
      "metadata": {
        "id": "bifNeYZoP0_K",
        "colab_type": "text"
      },
      "source": [
        "## 모델 훈련"
      ]
    },
    {
      "cell_type": "code",
      "metadata": {
        "id": "v0PkN7l9Pzzz",
        "colab_type": "code",
        "colab": {
          "base_uri": "https://localhost:8080/",
          "height": 70
        },
        "outputId": "77f80587-e05e-438a-8257-3a07271b4112"
      },
      "source": [
        "model.fit(train_images, train_labels, epochs=1, batch_size=3000)"
      ],
      "execution_count": 12,
      "outputs": [
        {
          "output_type": "stream",
          "text": [
            "Train on 60000 samples\n",
            "60000/60000 [==============================] - 41s 681us/sample - loss: 151.9510 - accuracy: 0.3964\n"
          ],
          "name": "stdout"
        },
        {
          "output_type": "execute_result",
          "data": {
            "text/plain": [
              "<tensorflow.python.keras.callbacks.History at 0x7ff29097e940>"
            ]
          },
          "metadata": {
            "tags": []
          },
          "execution_count": 12
        }
      ]
    },
    {
      "cell_type": "markdown",
      "metadata": {
        "id": "0x_T_LOwQr4q",
        "colab_type": "text"
      },
      "source": [
        "# Example ConvNet"
      ]
    },
    {
      "cell_type": "markdown",
      "metadata": {
        "id": "B6CKpIJgRGGX",
        "colab_type": "text"
      },
      "source": [
        "- padding = same\n",
        "  - 마지막 칸을 0으로 채워서 해줌\n",
        "- padding = valid\n",
        "  - 마지막 칸을 무시"
      ]
    },
    {
      "cell_type": "markdown",
      "metadata": {
        "id": "qLYP3osZSOlE",
        "colab_type": "text"
      },
      "source": [
        "## 모델 구성"
      ]
    },
    {
      "cell_type": "markdown",
      "metadata": {
        "id": "NKA_u8V4SRTb",
        "colab_type": "text"
      },
      "source": [
        "### 층 설정"
      ]
    },
    {
      "cell_type": "markdown",
      "metadata": {
        "id": "IOcnfflUXkF7",
        "colab_type": "text"
      },
      "source": [
        "filter 갯수는 점점 늘어남"
      ]
    },
    {
      "cell_type": "code",
      "metadata": {
        "id": "Jz1pHGZxXmpC",
        "colab_type": "code",
        "colab": {
          "base_uri": "https://localhost:8080/",
          "height": 407
        },
        "outputId": "582880c9-25bc-42e5-887e-4a1710dabbb1"
      },
      "source": [
        "from tensorflow.keras.layers import Dense, Flatten, Conv2D, MaxPool2D\n",
        "from tensorflow.keras import Sequential\n",
        "\n",
        "model=Sequential()\n",
        "model.add(Conv2D(input_shape=(28,28,1), filters=16,\n",
        "          kernel_size=(5,5), strides=(1,1), padding='valid', activation='relu'))\n",
        "model.add(MaxPool2D(pool_size=(2,2)))\n",
        "model.add(Conv2D(filters=32,\n",
        "          kernel_size=(5,5), strides=(1,1), padding='valid', activation='relu'))\n",
        "model.add(MaxPool2D(pool_size=(2,2)))\n",
        "model.add(Flatten())\n",
        "model.add(Dense(128,activation ='relu'))\n",
        "model.add(Dense(10, activation ='softmax'))\n",
        "model.summary()"
      ],
      "execution_count": 51,
      "outputs": [
        {
          "output_type": "stream",
          "text": [
            "Model: \"sequential_3\"\n",
            "_________________________________________________________________\n",
            "Layer (type)                 Output Shape              Param #   \n",
            "=================================================================\n",
            "conv2d_7 (Conv2D)            (None, 24, 24, 16)        416       \n",
            "_________________________________________________________________\n",
            "max_pooling2d (MaxPooling2D) (None, 12, 12, 16)        0         \n",
            "_________________________________________________________________\n",
            "conv2d_8 (Conv2D)            (None, 8, 8, 32)          12832     \n",
            "_________________________________________________________________\n",
            "max_pooling2d_1 (MaxPooling2 (None, 4, 4, 32)          0         \n",
            "_________________________________________________________________\n",
            "flatten_3 (Flatten)          (None, 512)               0         \n",
            "_________________________________________________________________\n",
            "dense_6 (Dense)              (None, 128)               65664     \n",
            "_________________________________________________________________\n",
            "dense_7 (Dense)              (None, 10)                1290      \n",
            "=================================================================\n",
            "Total params: 80,202\n",
            "Trainable params: 80,202\n",
            "Non-trainable params: 0\n",
            "_________________________________________________________________\n"
          ],
          "name": "stdout"
        }
      ]
    },
    {
      "cell_type": "markdown",
      "metadata": {
        "id": "ykeyCA1OVN7L",
        "colab_type": "text"
      },
      "source": [
        "### 모델 컴파일"
      ]
    },
    {
      "cell_type": "code",
      "metadata": {
        "id": "4_gv1D-jVM5a",
        "colab_type": "code",
        "colab": {}
      },
      "source": [
        "model.compile(optimizer='adam',\n",
        "              loss='sparse_categorical_crossentropy',\n",
        "              metrics=['accuracy'])"
      ],
      "execution_count": 0,
      "outputs": []
    },
    {
      "cell_type": "markdown",
      "metadata": {
        "id": "Walu05RUVRYw",
        "colab_type": "text"
      },
      "source": [
        "## 모델 훈련"
      ]
    },
    {
      "cell_type": "code",
      "metadata": {
        "id": "oRsthTbEPzuj",
        "colab_type": "code",
        "colab": {
          "base_uri": "https://localhost:8080/",
          "height": 70
        },
        "outputId": "9c72d0ac-a8cb-4601-9df1-ceb9608a1413"
      },
      "source": [
        "model.fit(train_images, train_labels, epochs=1, batch_size=3000)"
      ],
      "execution_count": 53,
      "outputs": [
        {
          "output_type": "stream",
          "text": [
            "Train on 60000 samples\n",
            "60000/60000 [==============================] - 30s 499us/sample - loss: 8.2181 - accuracy: 0.4132\n"
          ],
          "name": "stdout"
        },
        {
          "output_type": "execute_result",
          "data": {
            "text/plain": [
              "<tensorflow.python.keras.callbacks.History at 0x7ff28d9c60b8>"
            ]
          },
          "metadata": {
            "tags": []
          },
          "execution_count": 53
        }
      ]
    },
    {
      "cell_type": "markdown",
      "metadata": {
        "id": "BPnHByfrWHTk",
        "colab_type": "text"
      },
      "source": [
        "# LeNet-5 "
      ]
    },
    {
      "cell_type": "code",
      "metadata": {
        "id": "pWzM-iEtWJyq",
        "colab_type": "code",
        "colab": {
          "base_uri": "https://localhost:8080/",
          "height": 443
        },
        "outputId": "1cc4b484-8673-46aa-abd6-04d14e3d683f"
      },
      "source": [
        "from tensorflow.keras.layers import Dense, Flatten, Conv2D, AveragePooling2D\n",
        "model= Sequential()\n",
        "model.add(Conv2D( 6, kernel_size =(5, 5), strides=( 1, 1), activation= 'tanh',\n",
        "                 input_shape =(28 ,28, 1) ,padding='same'))\n",
        "model.add(AveragePooling2D(pool_size=2, strides=(1,1), padding='valid')) ##14X14여야 하는데 17X17\n",
        "# 따라서 strides=(1,1)을 삭제 \n",
        "model.add(Conv2D( 16, kernel_size =(5, 5), strides=( 1, 1), activation= 'tanh',\n",
        "                padding='valid'))\n",
        "model.add(AveragePooling2D(pool_size=(2,2), strides=(2,2), padding='valid'))\n",
        "model.add(Conv2D( 120, kernel_size =(5, 5), strides=( 1, 1), activation= 'tanh',\n",
        "                padding='valid'))\n",
        "model.add(Flatten())\n",
        "model.add(Dense(84,activation ='tanh'))\n",
        "model.add(Dense(10, activation ='softmax'))\n",
        "model.summary()"
      ],
      "execution_count": 46,
      "outputs": [
        {
          "output_type": "stream",
          "text": [
            "Model: \"sequential_1\"\n",
            "_________________________________________________________________\n",
            "Layer (type)                 Output Shape              Param #   \n",
            "=================================================================\n",
            "conv2d_1 (Conv2D)            (None, 28, 28, 6)         156       \n",
            "_________________________________________________________________\n",
            "average_pooling2d (AveragePo (None, 27, 27, 6)         0         \n",
            "_________________________________________________________________\n",
            "conv2d_2 (Conv2D)            (None, 23, 23, 16)        2416      \n",
            "_________________________________________________________________\n",
            "average_pooling2d_1 (Average (None, 11, 11, 16)        0         \n",
            "_________________________________________________________________\n",
            "conv2d_3 (Conv2D)            (None, 7, 7, 120)         48120     \n",
            "_________________________________________________________________\n",
            "flatten_1 (Flatten)          (None, 5880)              0         \n",
            "_________________________________________________________________\n",
            "dense_2 (Dense)              (None, 84)                494004    \n",
            "_________________________________________________________________\n",
            "dense_3 (Dense)              (None, 10)                850       \n",
            "=================================================================\n",
            "Total params: 545,546\n",
            "Trainable params: 545,546\n",
            "Non-trainable params: 0\n",
            "_________________________________________________________________\n"
          ],
          "name": "stdout"
        }
      ]
    },
    {
      "cell_type": "code",
      "metadata": {
        "id": "xPwx30qdXUmL",
        "colab_type": "code",
        "colab": {
          "base_uri": "https://localhost:8080/",
          "height": 443
        },
        "outputId": "ebea14e9-66cf-4317-8d90-3a71fa43b1c7"
      },
      "source": [
        "from tensorflow.keras.layers import Dense, Flatten, Conv2D, AveragePooling2D\n",
        "model= Sequential()\n",
        "model.add(Conv2D( 6, kernel_size =(5, 5), strides=( 1, 1), activation= 'tanh',\n",
        "                 input_shape =(28 ,28, 1) ,padding='same'))\n",
        "model.add(AveragePooling2D(pool_size=2, padding='valid')) \n",
        "model.add(Conv2D( 16, kernel_size =(5, 5), strides=( 1, 1), activation= 'tanh',\n",
        "                padding='valid'))\n",
        "model.add(AveragePooling2D(pool_size=(2,2), strides=(2,2), padding='valid'))\n",
        "model.add(Conv2D( 120, kernel_size =(5, 5), strides=( 1, 1), activation= 'tanh',\n",
        "                padding='valid'))\n",
        "model.add(Flatten())\n",
        "model.add(Dense(84,activation ='tanh'))\n",
        "model.add(Dense(10, activation ='softmax'))\n",
        "model.summary()"
      ],
      "execution_count": 47,
      "outputs": [
        {
          "output_type": "stream",
          "text": [
            "Model: \"sequential_2\"\n",
            "_________________________________________________________________\n",
            "Layer (type)                 Output Shape              Param #   \n",
            "=================================================================\n",
            "conv2d_4 (Conv2D)            (None, 28, 28, 6)         156       \n",
            "_________________________________________________________________\n",
            "average_pooling2d_2 (Average (None, 14, 14, 6)         0         \n",
            "_________________________________________________________________\n",
            "conv2d_5 (Conv2D)            (None, 10, 10, 16)        2416      \n",
            "_________________________________________________________________\n",
            "average_pooling2d_3 (Average (None, 5, 5, 16)          0         \n",
            "_________________________________________________________________\n",
            "conv2d_6 (Conv2D)            (None, 1, 1, 120)         48120     \n",
            "_________________________________________________________________\n",
            "flatten_2 (Flatten)          (None, 120)               0         \n",
            "_________________________________________________________________\n",
            "dense_4 (Dense)              (None, 84)                10164     \n",
            "_________________________________________________________________\n",
            "dense_5 (Dense)              (None, 10)                850       \n",
            "=================================================================\n",
            "Total params: 61,706\n",
            "Trainable params: 61,706\n",
            "Non-trainable params: 0\n",
            "_________________________________________________________________\n"
          ],
          "name": "stdout"
        }
      ]
    },
    {
      "cell_type": "markdown",
      "metadata": {
        "id": "msQMsBcDYtzT",
        "colab_type": "text"
      },
      "source": [
        "# ResNet [practice](https://github.com/keras-team/keras-contrib/blob/master/keras_contrib/applications/resnet.py)\n"
      ]
    },
    {
      "cell_type": "markdown",
      "metadata": {
        "id": "WARftlaiYwUN",
        "colab_type": "text"
      },
      "source": [
        "- 깊게 쌓으면 모형이 좋아짐\n",
        "- 모형을 복잡하게 해서 많이 학습시키면 성능이 좋아짐"
      ]
    },
    {
      "cell_type": "markdown",
      "metadata": {
        "id": "_R6My6x1gpRM",
        "colab_type": "text"
      },
      "source": [
        "# skip-connection network (ResNet 의 residual block)"
      ]
    },
    {
      "cell_type": "code",
      "metadata": {
        "id": "CEMMdLEPg4hz",
        "colab_type": "code",
        "colab": {}
      },
      "source": [
        "from tensorflow.keras.models import Model\n",
        "from tensorflow.keras.layers import Input, Activation, Conv2D, BatchNormalization, GlobalAveragePooling2D, Dropout, Dense, add \n",
        "from tensorflow.keras.activations import relu, softmax\n",
        "from tensorflow.keras import regularizers \n",
        "\n",
        "def block(n_output,upscale=False):\n",
        "  def f(x) :\n",
        "    h=BatchNormalization()(x)\n",
        "    h=Activation(relu)(h)\n",
        "    h=Conv2D(kernel_size=3,filters=n_output,padding='same')(h)\n",
        "    h=BatchNormalization()(h)\n",
        "    h=Activation(relu)(h)\n",
        "    h=Conv2D(kernel_size=3,filters=n_output,padding='same')(h)\n",
        "    if upscale :\n",
        "      f=Conv2D(kernel_size=1,filters=n_output,strides=1,padding='same')(x)\n",
        "    else :\n",
        "      f=x\n",
        "    return add([f,h])\n",
        "  return f"
      ],
      "execution_count": 0,
      "outputs": []
    },
    {
      "cell_type": "code",
      "metadata": {
        "id": "q7kQv4_6gsZF",
        "colab_type": "code",
        "colab": {
          "base_uri": "https://localhost:8080/",
          "height": 1000
        },
        "outputId": "4bc73988-f493-4f74-a821-a64b17f1efab"
      },
      "source": [
        "input_shape=(28,28,1)\n",
        "input_tensor=Input(input_shape)\n",
        "x=Conv2D(kernel_size=3,filters=16,strides=1,padding='same')(input_tensor)\n",
        "x=block(16)(x)\n",
        "x=block(16)(x)\n",
        "x=block(32,upscale=True)(x)\n",
        "x=block(32)(x)\n",
        "x=BatchNormalization()(x)\n",
        "x=Activation(relu)(x)\n",
        "x=GlobalAveragePooling2D()(x)\n",
        "x=Dropout(0.2)(x)\n",
        "x=Dense(units=10,kernel_regularizer=regularizers.l2(0.01))(x)\n",
        "x=Activation(softmax)(x)\n",
        "model=Model(inputs=input_tensor,outputs=x)\n",
        "model.summary()"
      ],
      "execution_count": 56,
      "outputs": [
        {
          "output_type": "stream",
          "text": [
            "Model: \"model\"\n",
            "__________________________________________________________________________________________________\n",
            "Layer (type)                    Output Shape         Param #     Connected to                     \n",
            "==================================================================================================\n",
            "input_1 (InputLayer)            [(None, 28, 28, 1)]  0                                            \n",
            "__________________________________________________________________________________________________\n",
            "conv2d_9 (Conv2D)               (None, 28, 28, 16)   160         input_1[0][0]                    \n",
            "__________________________________________________________________________________________________\n",
            "batch_normalization (BatchNorma (None, 28, 28, 16)   64          conv2d_9[0][0]                   \n",
            "__________________________________________________________________________________________________\n",
            "activation (Activation)         (None, 28, 28, 16)   0           batch_normalization[0][0]        \n",
            "__________________________________________________________________________________________________\n",
            "conv2d_10 (Conv2D)              (None, 28, 28, 16)   2320        activation[0][0]                 \n",
            "__________________________________________________________________________________________________\n",
            "batch_normalization_1 (BatchNor (None, 28, 28, 16)   64          conv2d_10[0][0]                  \n",
            "__________________________________________________________________________________________________\n",
            "activation_1 (Activation)       (None, 28, 28, 16)   0           batch_normalization_1[0][0]      \n",
            "__________________________________________________________________________________________________\n",
            "conv2d_11 (Conv2D)              (None, 28, 28, 16)   2320        activation_1[0][0]               \n",
            "__________________________________________________________________________________________________\n",
            "add (Add)                       (None, 28, 28, 16)   0           conv2d_9[0][0]                   \n",
            "                                                                 conv2d_11[0][0]                  \n",
            "__________________________________________________________________________________________________\n",
            "batch_normalization_2 (BatchNor (None, 28, 28, 16)   64          add[0][0]                        \n",
            "__________________________________________________________________________________________________\n",
            "activation_2 (Activation)       (None, 28, 28, 16)   0           batch_normalization_2[0][0]      \n",
            "__________________________________________________________________________________________________\n",
            "conv2d_12 (Conv2D)              (None, 28, 28, 16)   2320        activation_2[0][0]               \n",
            "__________________________________________________________________________________________________\n",
            "batch_normalization_3 (BatchNor (None, 28, 28, 16)   64          conv2d_12[0][0]                  \n",
            "__________________________________________________________________________________________________\n",
            "activation_3 (Activation)       (None, 28, 28, 16)   0           batch_normalization_3[0][0]      \n",
            "__________________________________________________________________________________________________\n",
            "conv2d_13 (Conv2D)              (None, 28, 28, 16)   2320        activation_3[0][0]               \n",
            "__________________________________________________________________________________________________\n",
            "add_1 (Add)                     (None, 28, 28, 16)   0           add[0][0]                        \n",
            "                                                                 conv2d_13[0][0]                  \n",
            "__________________________________________________________________________________________________\n",
            "batch_normalization_4 (BatchNor (None, 28, 28, 16)   64          add_1[0][0]                      \n",
            "__________________________________________________________________________________________________\n",
            "activation_4 (Activation)       (None, 28, 28, 16)   0           batch_normalization_4[0][0]      \n",
            "__________________________________________________________________________________________________\n",
            "conv2d_14 (Conv2D)              (None, 28, 28, 32)   4640        activation_4[0][0]               \n",
            "__________________________________________________________________________________________________\n",
            "batch_normalization_5 (BatchNor (None, 28, 28, 32)   128         conv2d_14[0][0]                  \n",
            "__________________________________________________________________________________________________\n",
            "activation_5 (Activation)       (None, 28, 28, 32)   0           batch_normalization_5[0][0]      \n",
            "__________________________________________________________________________________________________\n",
            "conv2d_16 (Conv2D)              (None, 28, 28, 32)   544         add_1[0][0]                      \n",
            "__________________________________________________________________________________________________\n",
            "conv2d_15 (Conv2D)              (None, 28, 28, 32)   9248        activation_5[0][0]               \n",
            "__________________________________________________________________________________________________\n",
            "add_2 (Add)                     (None, 28, 28, 32)   0           conv2d_16[0][0]                  \n",
            "                                                                 conv2d_15[0][0]                  \n",
            "__________________________________________________________________________________________________\n",
            "batch_normalization_6 (BatchNor (None, 28, 28, 32)   128         add_2[0][0]                      \n",
            "__________________________________________________________________________________________________\n",
            "activation_6 (Activation)       (None, 28, 28, 32)   0           batch_normalization_6[0][0]      \n",
            "__________________________________________________________________________________________________\n",
            "conv2d_17 (Conv2D)              (None, 28, 28, 32)   9248        activation_6[0][0]               \n",
            "__________________________________________________________________________________________________\n",
            "batch_normalization_7 (BatchNor (None, 28, 28, 32)   128         conv2d_17[0][0]                  \n",
            "__________________________________________________________________________________________________\n",
            "activation_7 (Activation)       (None, 28, 28, 32)   0           batch_normalization_7[0][0]      \n",
            "__________________________________________________________________________________________________\n",
            "conv2d_18 (Conv2D)              (None, 28, 28, 32)   9248        activation_7[0][0]               \n",
            "__________________________________________________________________________________________________\n",
            "add_3 (Add)                     (None, 28, 28, 32)   0           add_2[0][0]                      \n",
            "                                                                 conv2d_18[0][0]                  \n",
            "__________________________________________________________________________________________________\n",
            "batch_normalization_8 (BatchNor (None, 28, 28, 32)   128         add_3[0][0]                      \n",
            "__________________________________________________________________________________________________\n",
            "activation_8 (Activation)       (None, 28, 28, 32)   0           batch_normalization_8[0][0]      \n",
            "__________________________________________________________________________________________________\n",
            "global_average_pooling2d (Globa (None, 32)           0           activation_8[0][0]               \n",
            "__________________________________________________________________________________________________\n",
            "dropout (Dropout)               (None, 32)           0           global_average_pooling2d[0][0]   \n",
            "__________________________________________________________________________________________________\n",
            "dense_8 (Dense)                 (None, 10)           330         dropout[0][0]                    \n",
            "__________________________________________________________________________________________________\n",
            "activation_9 (Activation)       (None, 10)           0           dense_8[0][0]                    \n",
            "==================================================================================================\n",
            "Total params: 43,530\n",
            "Trainable params: 43,114\n",
            "Non-trainable params: 416\n",
            "__________________________________________________________________________________________________\n"
          ],
          "name": "stdout"
        }
      ]
    }
  ]
}