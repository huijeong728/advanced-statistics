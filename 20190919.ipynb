{
 "cells": [
  {
   "cell_type": "markdown",
   "metadata": {},
   "source": [
    "# [마크다운](https://heropy.blog/2017/09/30/markdown/)"
   ]
  },
  {
   "cell_type": "markdown",
   "metadata": {},
   "source": [
    "$$ \\sum_{i=1}^{5}X_i $$"
   ]
  },
  {
   "cell_type": "code",
   "execution_count": null,
   "metadata": {},
   "outputs": [],
   "source": []
  },
  {
   "cell_type": "markdown",
   "metadata": {},
   "source": [
    "# 제목1\n",
    "## 제목2\n",
    "### 제목3\n",
    "#### 제목4"
   ]
  },
  {
   "cell_type": "markdown",
   "metadata": {},
   "source": [
    "제목1\n",
    "================"
   ]
  },
  {
   "cell_type": "markdown",
   "metadata": {},
   "source": [
    "이텔릭체는 별표* *이텔릭체*  또는 언더바_ _이텔릭체_ "
   ]
  },
  {
   "cell_type": "markdown",
   "metadata": {},
   "source": [
    "두껍게는 별표두개 **두껍게** 또는 언더바 __두껍게__"
   ]
  },
  {
   "cell_type": "markdown",
   "metadata": {},
   "source": [
    "**_이텔릭체_**"
   ]
  },
  {
   "cell_type": "markdown",
   "metadata": {},
   "source": [
    "~~취소선~~"
   ]
  },
  {
   "cell_type": "markdown",
   "metadata": {},
   "source": [
    "1. 순서가 필요한 목록\n",
    "1. 순서가 필요한 목록\n",
    "- 순서가 필요하지 않은 목록\n",
    "   - 순서가 필요하지 않은 목록\n",
    "   "
   ]
  },
  {
   "cell_type": "markdown",
   "metadata": {},
   "source": [
    "[NAVER](http://naver.com)"
   ]
  },
  {
   "cell_type": "markdown",
   "metadata": {},
   "source": [
    "[테스트데이터](testdata.txt)"
   ]
  },
  {
   "cell_type": "markdown",
   "metadata": {},
   "source": [
    "![대체 텍스트(alternative text)를 입력하세요!](http://www.gstatic.com/webp/gallery/5.jpg \"링크설명\")"
   ]
  },
  {
   "cell_type": "markdown",
   "metadata": {},
   "source": [
    "```\n",
    "> any code here\n",
    "```"
   ]
  },
  {
   "cell_type": "markdown",
   "metadata": {},
   "source": [
    "| 값 | 의미 | 기본값 |\n",
    "|---|:---:|---:|\n",
    "| `static` | 유형(기준) 없음 / 배치 불가능 | `static` |\n",
    "| `relative` | 요소 자신을 기준으로 배치 |  |\n",
    "| `absolute` | 위치 상 부모(조상)요소를 기준으로 배치 |  |\n",
    "| `fixed` | 브라우저 창을 기준으로 배치 |  |\n",
    "\n"
   ]
  },
  {
   "cell_type": "markdown",
   "metadata": {},
   "source": [
    "값 | 의미 | 기본값\n",
    "---|:---:|---:\n",
    "`static` | 유형(기준) 없음 / 배치 불가능 | `static`\n",
    "`relative` | 요소 **자신**을 기준으로 배치 |\n",
    "`absolute` | 위치 상 **_부모_(조상)요소**를 기준으로 배치 |\n",
    "`fixed` | **브라우저 창**을 기준으로 배치 |\n",
    "MARKDOWN"
   ]
  },
  {
   "cell_type": "markdown",
   "metadata": {},
   "source": [
    "|어려운걸| 마크다운| 주피터|\n",
    "|---|:---:|---:|\n",
    "|`what`|왓|`where`|"
   ]
  },
  {
   "cell_type": "markdown",
   "metadata": {},
   "source": [
    "인용문(blockQuote)\n",
    "\n",
    "> 남의 말이나 글에서 직접 또는 간접으로 따온 문장.\n",
    "> _(네이버 국어 사전)_\n",
    "\n",
    "BREAK!\n",
    "\n",
    "> 인용문을 작성하세요!\n",
    ">> 중첩된 인용문(nested blockquote)을 만들 수 있습니다.\n",
    ">>> 중중첩된 인용문 1 <br>\n",
    ">>> 중중첩된 인용문 2 <br>\n",
    ">>> 중중첩된 인용문 3 <br>\n",
    "\n",
    "MARKDOWN"
   ]
  },
  {
   "cell_type": "markdown",
   "metadata": {},
   "source": [
    "<u>마크다운에서 지원하지 않는 기능</u>을 사용할 때 유용하며 대부분 잘 동작합니다.\n",
    "\n",
    "<img width=\"150\" src=\"http://www.gstatic.com/webp/gallery/4.jpg\" alt=\"Prunus\" title=\"A Wild Cherry (Prunus avium) in flower\">\n",
    "\n",
    "![Prunus](http://www.gstatic.com/webp/gallery/4.jpg)\n",
    "MARKDOWN"
   ]
  },
  {
   "cell_type": "markdown",
   "metadata": {},
   "source": [
    "---\n",
    "(Hyphens)\n",
    "\n",
    "***\n",
    "(Asterisks)\n",
    "\n",
    "___\n",
    "(Underscores)"
   ]
  },
  {
   "cell_type": "markdown",
   "metadata": {},
   "source": [
    "[markdowm 공부](https://heropy.blog/2017/09/30/markdown/)"
   ]
  },
  {
   "cell_type": "markdown",
   "metadata": {},
   "source": [
    "[예제](test.Rmd.txt)\n"
   ]
  },
  {
   "cell_type": "code",
   "execution_count": null,
   "metadata": {},
   "outputs": [],
   "source": []
  },
  {
   "cell_type": "code",
   "execution_count": null,
   "metadata": {},
   "outputs": [],
   "source": []
  }
 ],
 "metadata": {
  "kernelspec": {
   "display_name": "Python 3",
   "language": "python",
   "name": "python3"
  },
  "language_info": {
   "codemirror_mode": {
    "name": "ipython",
    "version": 3
   },
   "file_extension": ".py",
   "mimetype": "text/x-python",
   "name": "python",
   "nbconvert_exporter": "python",
   "pygments_lexer": "ipython3",
   "version": "3.7.3"
  }
 },
 "nbformat": 4,
 "nbformat_minor": 2
}
