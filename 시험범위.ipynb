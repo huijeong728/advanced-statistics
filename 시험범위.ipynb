{
 "cells": [
  {
   "cell_type": "markdown",
   "metadata": {},
   "source": [
    "# 시험범위"
   ]
  },
  {
   "cell_type": "markdown",
   "metadata": {},
   "source": [
    "## [R](https://r4ds.had.co.nz/) : visualization (section3), data manipulation (section5)"
   ]
  },
  {
   "cell_type": "markdown",
   "metadata": {},
   "source": [
    "1. [20190926](https://nbviewer.jupyter.org/github/huijeong728/advanced-statistics/blob/master/20190926.ipynb) R\n",
    "2. [과제](https://nbviewer.jupyter.org/github/huijeong728/advanced-statistics/blob/master/2018220084_%EB%AC%B8%ED%9D%AC%EC%A0%95_HW2_1.ipynb)"
   ]
  },
  {
   "cell_type": "markdown",
   "metadata": {},
   "source": [
    "## [Python](https://wikidocs.net/11) :  2~4장"
   ]
  },
  {
   "cell_type": "markdown",
   "metadata": {},
   "source": [
    "1. [20191003](https://nbviewer.jupyter.org/github/huijeong728/advanced-statistics/blob/master/20191003.ipynb) jump to python\n",
    "2. [과제](https://nbviewer.jupyter.org/github/huijeong728/advanced-statistics/blob/master/2018220084_문희정_HW2_2%2C3%2C4.ipynb)"
   ]
  },
  {
   "cell_type": "markdown",
   "metadata": {},
   "source": [
    "## [딥러닝](https://www.tensorflow.org/tutorials/keras/classification?hl=ko)"
   ]
  },
  {
   "cell_type": "markdown",
   "metadata": {},
   "source": [
    "1. [20191010](https://nbviewer.jupyter.org/github/huijeong728/advanced-statistics/blob/master/20191010.ipynb) colab practice, 머신러닝\n",
    "2. [20191017](https://nbviewer.jupyter.org/github/huijeong728/advanced-statistics/blob/master/20191017.ipynb) 머신러닝 "
   ]
  },
  {
   "cell_type": "code",
   "execution_count": null,
   "metadata": {},
   "outputs": [],
   "source": []
  },
  {
   "cell_type": "markdown",
   "metadata": {},
   "source": []
  }
 ],
 "metadata": {
  "kernelspec": {
   "display_name": "Python 3",
   "language": "python",
   "name": "python3"
  },
  "language_info": {
   "codemirror_mode": {
    "name": "ipython",
    "version": 3
   },
   "file_extension": ".py",
   "mimetype": "text/x-python",
   "name": "python",
   "nbconvert_exporter": "python",
   "pygments_lexer": "ipython3",
   "version": "3.7.3"
  }
 },
 "nbformat": 4,
 "nbformat_minor": 2
}
