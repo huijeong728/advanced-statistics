{
  "nbformat": 4,
  "nbformat_minor": 0,
  "metadata": {
    "colab": {
      "name": "20191107.ipynb",
      "provenance": [],
      "collapsed_sections": [
        "Suhzyed9ToOJ",
        "R6YunzJrkxzA"
      ],
      "include_colab_link": true
    },
    "kernelspec": {
      "name": "python3",
      "display_name": "Python 3"
    }
  },
  "cells": [
    {
      "cell_type": "markdown",
      "metadata": {
        "id": "view-in-github",
        "colab_type": "text"
      },
      "source": [
        "<a href=\"https://colab.research.google.com/github/huijeong728/advanced-statistics/blob/master/20191107.ipynb\" target=\"_parent\"><img src=\"https://colab.research.google.com/assets/colab-badge.svg\" alt=\"Open In Colab\"/></a>"
      ]
    },
    {
      "cell_type": "markdown",
      "metadata": {
        "id": "6UAPNHMmLyXB",
        "colab_type": "text"
      },
      "source": [
        "# Convolutional Neural Networks"
      ]
    },
    {
      "cell_type": "markdown",
      "metadata": {
        "id": "H51afNR6Quph",
        "colab_type": "text"
      },
      "source": [
        "### [Working](https://haythamfayek.com/2016/04/21/speech-processing-for-machine-learning.html)"
      ]
    },
    {
      "cell_type": "markdown",
      "metadata": {
        "id": "Suhzyed9ToOJ",
        "colab_type": "text"
      },
      "source": [
        "### [PlayWav](https://github.com/huijeong728/tmp/blob/master/playWav.ipynb)"
      ]
    },
    {
      "cell_type": "code",
      "metadata": {
        "id": "n6zp9KYqT_vq",
        "colab_type": "code",
        "colab": {}
      },
      "source": [
        "import os\n",
        "os.listdir('.')"
      ],
      "execution_count": 0,
      "outputs": []
    },
    {
      "cell_type": "code",
      "metadata": {
        "id": "lNzgTTNzUAl2",
        "colab_type": "code",
        "colab": {}
      },
      "source": [
        "a_file = 'T_1000601.wav'"
      ],
      "execution_count": 0,
      "outputs": []
    },
    {
      "cell_type": "code",
      "metadata": {
        "id": "rIDEgbpRUAie",
        "colab_type": "code",
        "colab": {}
      },
      "source": [
        "import IPython.display as ipd\n",
        "ipd.Audio(a_file) # load a local WAV file"
      ],
      "execution_count": 0,
      "outputs": []
    },
    {
      "cell_type": "code",
      "metadata": {
        "id": "fj8rvR59UAf-",
        "colab_type": "code",
        "colab": {}
      },
      "source": [
        "import librosa"
      ],
      "execution_count": 0,
      "outputs": []
    },
    {
      "cell_type": "code",
      "metadata": {
        "id": "IxeBRCLRUAdO",
        "colab_type": "code",
        "colab": {}
      },
      "source": [
        "signal, sr = librosa.load(a_file, sr = 16000)"
      ],
      "execution_count": 0,
      "outputs": []
    },
    {
      "cell_type": "code",
      "metadata": {
        "id": "R0bTAOsnUAag",
        "colab_type": "code",
        "colab": {}
      },
      "source": [
        "sr"
      ],
      "execution_count": 0,
      "outputs": []
    },
    {
      "cell_type": "code",
      "metadata": {
        "id": "zLNLo3d_UAX6",
        "colab_type": "code",
        "colab": {}
      },
      "source": [
        "\n",
        "signal.shape"
      ],
      "execution_count": 0,
      "outputs": []
    },
    {
      "cell_type": "code",
      "metadata": {
        "id": "ygVr7e9SUAVP",
        "colab_type": "code",
        "colab": {}
      },
      "source": [
        "\n",
        "import matplotlib.pyplot as plt\n",
        "\n",
        "plt.figure(1)\n",
        "plt.title('Signal Wave')\n",
        "plt.plot(signal)\n",
        "plt.show()"
      ],
      "execution_count": 0,
      "outputs": []
    },
    {
      "cell_type": "code",
      "metadata": {
        "id": "c0fhM--NUAS-",
        "colab_type": "code",
        "colab": {}
      },
      "source": [
        "frame_size = 0.025; frame_stride = 0.0125; sample_rate = sr"
      ],
      "execution_count": 0,
      "outputs": []
    },
    {
      "cell_type": "code",
      "metadata": {
        "id": "hBUNa_G4UAQO",
        "colab_type": "code",
        "colab": {}
      },
      "source": [
        "\n",
        "import numpy as np\n",
        "pre_emphasis = 0.97"
      ],
      "execution_count": 0,
      "outputs": []
    },
    {
      "cell_type": "code",
      "metadata": {
        "id": "mx1OZIm2UAN_",
        "colab_type": "code",
        "colab": {}
      },
      "source": [
        "emphasized_signal = np.append(signal[0], signal[1:] - pre_emphasis * signal[:-1])"
      ],
      "execution_count": 0,
      "outputs": []
    },
    {
      "cell_type": "code",
      "metadata": {
        "id": "GCstYtzHUALO",
        "colab_type": "code",
        "colab": {}
      },
      "source": [
        "plt.figure(1)\n",
        "plt.title('Signal Wave')\n",
        "plt.plot(emphasized_signal)\n",
        "plt.show()"
      ],
      "execution_count": 0,
      "outputs": []
    },
    {
      "cell_type": "code",
      "metadata": {
        "id": "VKWP9q1SUAIw",
        "colab_type": "code",
        "colab": {}
      },
      "source": [
        "frame_length, frame_step = frame_size * sample_rate, frame_stride * sample_rate  # Convert from seconds to samples\n",
        "signal_length = len(emphasized_signal)\n",
        "frame_length = int(round(frame_length))\n",
        "frame_step = int(round(frame_step))\n",
        "num_frames = int(np.ceil(float(np.abs(signal_length - frame_length)) / frame_step))  # Make sure that we have at least 1 frame\n",
        "\n",
        "pad_signal_length = num_frames * frame_step + frame_length\n",
        "z = np.zeros((pad_signal_length - signal_length))\n",
        "pad_signal = np.append(emphasized_signal, z) # Pad Signal to make sure that all frames have equal number of samples without truncating any samples from the original signal\n",
        "\n",
        "indices = np.tile(np.arange(0, frame_length), (num_frames, 1)) + np.tile(np.arange(0, num_frames * frame_step, frame_step), (frame_length, 1)).T\n",
        "frames = pad_signal[indices.astype(np.int32, copy=False)]"
      ],
      "execution_count": 0,
      "outputs": []
    },
    {
      "cell_type": "code",
      "metadata": {
        "id": "QzY7Dg8kUAFO",
        "colab_type": "code",
        "colab": {}
      },
      "source": [
        "\n",
        "frames.shape"
      ],
      "execution_count": 0,
      "outputs": []
    },
    {
      "cell_type": "code",
      "metadata": {
        "id": "SbBttyc8UACg",
        "colab_type": "code",
        "colab": {}
      },
      "source": [
        "frames *= np.hamming(frame_length)"
      ],
      "execution_count": 0,
      "outputs": []
    },
    {
      "cell_type": "code",
      "metadata": {
        "id": "9DntnPCeLyIv",
        "colab_type": "code",
        "colab": {}
      },
      "source": [
        "NFFT = 512"
      ],
      "execution_count": 0,
      "outputs": []
    },
    {
      "cell_type": "code",
      "metadata": {
        "id": "nXI-QrNbLreT",
        "colab_type": "code",
        "colab": {}
      },
      "source": [
        "mag_frames = np.absolute(np.fft.rfft(frames, NFFT))  # Magnitude of the FFT\n",
        "pow_frames = ((1.0 / NFFT) * ((mag_frames) ** 2))  # Power Spectrum"
      ],
      "execution_count": 0,
      "outputs": []
    },
    {
      "cell_type": "code",
      "metadata": {
        "id": "3YjH8jhDUWCG",
        "colab_type": "code",
        "colab": {}
      },
      "source": [
        "\n",
        "pow_frames.shape"
      ],
      "execution_count": 0,
      "outputs": []
    },
    {
      "cell_type": "code",
      "metadata": {
        "id": "nLPmLuTkUV_P",
        "colab_type": "code",
        "colab": {}
      },
      "source": [
        "plt.figure(1)\n",
        "plt.title('Log Pow Frame')\n",
        "imgplot = plt.imshow(np.log(pow_frames.T))"
      ],
      "execution_count": 0,
      "outputs": []
    },
    {
      "cell_type": "code",
      "metadata": {
        "id": "AMHjGTVPUV8l",
        "colab_type": "code",
        "colab": {}
      },
      "source": [
        "nfilt = 50"
      ],
      "execution_count": 0,
      "outputs": []
    },
    {
      "cell_type": "code",
      "metadata": {
        "id": "ZuyueZonUV57",
        "colab_type": "code",
        "colab": {}
      },
      "source": [
        "low_freq_mel = 0\n",
        "high_freq_mel = (2595 * np.log10(1 + (sample_rate / 2) / 700))  # Convert Hz to Mel\n",
        "mel_points = np.linspace(low_freq_mel, high_freq_mel, nfilt + 2)  # Equally spaced in Mel scale\n",
        "hz_points = (700 * (10**(mel_points / 2595) - 1))  # Convert Mel to Hz\n",
        "bin = np.floor((NFFT + 1) * hz_points / sample_rate)\n",
        "\n",
        "fbank = np.zeros((nfilt, int(np.floor(NFFT / 2 + 1))))\n",
        "for m in range(1, nfilt + 1):\n",
        "    f_m_minus = int(bin[m - 1])   # left\n",
        "    f_m = int(bin[m])             # center\n",
        "    f_m_plus = int(bin[m + 1])    # right\n",
        "\n",
        "    for k in range(f_m_minus, f_m):\n",
        "        fbank[m - 1, k] = (k - bin[m - 1]) / (bin[m] - bin[m - 1])\n",
        "    for k in range(f_m, f_m_plus):\n",
        "        fbank[m - 1, k] = (bin[m + 1] - k) / (bin[m + 1] - bin[m])\n",
        "filter_banks = np.dot(pow_frames, fbank.T)\n",
        "filter_banks = np.where(filter_banks == 0, np.finfo(float).eps, filter_banks)  # Numerical Stability\n",
        "filter_banks = 20 * np.log10(filter_banks)  # dB"
      ],
      "execution_count": 0,
      "outputs": []
    },
    {
      "cell_type": "code",
      "metadata": {
        "id": "XC9FXDjeUV3Q",
        "colab_type": "code",
        "colab": {}
      },
      "source": [
        "filter_banks.shape"
      ],
      "execution_count": 0,
      "outputs": []
    },
    {
      "cell_type": "code",
      "metadata": {
        "id": "DZRYsesMUaox",
        "colab_type": "code",
        "colab": {}
      },
      "source": [
        "plt.figure(1)\n",
        "plt.title('FilterBank')\n",
        "imgplot = plt.imshow(filter_banks.T)"
      ],
      "execution_count": 0,
      "outputs": []
    },
    {
      "cell_type": "code",
      "metadata": {
        "id": "Fr2Iep6bUamH",
        "colab_type": "code",
        "colab": {}
      },
      "source": [
        "import scipy\n",
        "num_ceps=30"
      ],
      "execution_count": 0,
      "outputs": []
    },
    {
      "cell_type": "code",
      "metadata": {
        "id": "04a_-BlAUahZ",
        "colab_type": "code",
        "colab": {}
      },
      "source": [
        "mfcc = scipy.fftpack.dct(filter_banks, type=2, axis=1, norm='ortho')[:, 1 : (num_ceps + 1)] # Keep 2-13"
      ],
      "execution_count": 0,
      "outputs": []
    },
    {
      "cell_type": "code",
      "metadata": {
        "id": "8RqBhjCTUaed",
        "colab_type": "code",
        "colab": {}
      },
      "source": [
        "mfcc.shape"
      ],
      "execution_count": 0,
      "outputs": []
    },
    {
      "cell_type": "code",
      "metadata": {
        "id": "kR1u2Hi9Uab9",
        "colab_type": "code",
        "colab": {}
      },
      "source": [
        "plt.figure(1)\n",
        "plt.title('FilterBank')\n",
        "imgplot = plt.imshow(mfcc.T)"
      ],
      "execution_count": 0,
      "outputs": []
    },
    {
      "cell_type": "code",
      "metadata": {
        "id": "jBe5-i4OUaZV",
        "colab_type": "code",
        "colab": {}
      },
      "source": [
        "CQTf = np.abs(librosa.core.cqt(signal, sr=16000, fmin=20, n_bins=100, filter_scale=1))"
      ],
      "execution_count": 0,
      "outputs": []
    },
    {
      "cell_type": "code",
      "metadata": {
        "id": "aYvZ5_pfUh7h",
        "colab_type": "code",
        "colab": {}
      },
      "source": [
        "CQTf"
      ],
      "execution_count": 0,
      "outputs": []
    },
    {
      "cell_type": "code",
      "metadata": {
        "id": "X1RTDLB7Uh5X",
        "colab_type": "code",
        "colab": {}
      },
      "source": [
        "plt.figure(1)\n",
        "plt.title('Log CQT')\n",
        "imgplot = plt.imshow(np.log(CQTf))"
      ],
      "execution_count": 0,
      "outputs": []
    },
    {
      "cell_type": "code",
      "metadata": {
        "id": "4-395iIdUh2o",
        "colab_type": "code",
        "colab": {}
      },
      "source": [
        "filter_banks"
      ],
      "execution_count": 0,
      "outputs": []
    },
    {
      "cell_type": "code",
      "metadata": {
        "id": "wTy_vOv5Uh0P",
        "colab_type": "code",
        "colab": {}
      },
      "source": [
        "emphasized_signal = np.append(signal[0], signal[1:] - pre_emphasis * signal[:-1])\n",
        "frame_length, frame_step = frame_size * sample_rate, frame_stride * sample_rate  # Convert from seconds to samples\n",
        "signal_length = len(emphasized_signal)\n",
        "frame_length = int(round(frame_length))\n",
        "frame_step = int(round(frame_step))\n",
        "num_frames = int(np.ceil(float(np.abs(signal_length - frame_length)) / frame_step))  # Make sure that we have at least 1 frame\n",
        "\n",
        "pad_signal_length = num_frames * frame_step + frame_length\n",
        "z = np.zeros((pad_signal_length - signal_length))\n",
        "pad_signal = np.append(emphasized_signal, z) # Pad Signal to make sure that all frames have equal number of samples without truncating any samples from the original signal\n",
        "\n",
        "indices = np.tile(np.arange(0, frame_length), (num_frames, 1)) + np.tile(np.arange(0, num_frames * frame_step, frame_step), (frame_length, 1)).T\n",
        "frames = pad_signal[indices.astype(np.int32, copy=False)]\n",
        "\n",
        "frames *= np.hamming(frame_length)\n",
        "mag_frames = np.absolute(np.fft.rfft(frames, NFFT))  # Magnitude of the FFT\n",
        "pow_frames = ((1.0 / NFFT) * ((mag_frames) ** 2))  # Power Spectrum"
      ],
      "execution_count": 0,
      "outputs": []
    },
    {
      "cell_type": "code",
      "metadata": {
        "id": "23OiwcTXUhxx",
        "colab_type": "code",
        "colab": {}
      },
      "source": [
        "if self.samp_sec == None:\n",
        "            samp_sec = len(data)/sample_rate\n",
        "        else:\n",
        "            samp_sec = self.samp_sec\n",
        "\n",
        "        if len(data) > sample_rate * samp_sec:\n",
        "            n_samp = len(data) // int(sample_rate * samp_sec)\n",
        "            signal = []\n",
        "            for i in range(n_samp):\n",
        "                signal.append(data[int(sample_rate * samp_sec)*i : (int(sample_rate * samp_sec)*(i+1))])\n",
        "        else:\n",
        "            n_samp = 1\n",
        "            signal = np.zeros(int(sample_rate * samp_sec, ))\n",
        "            for i in range(int(sample_rate * samp_sec) // len(data)):\n",
        "                signal[(i)*len(data) : (i+1)*len(data)] = data\n",
        "            num_last = int(sample_rate * samp_sec) - len(data)*(i+1)\n",
        "            signal[(i+1)*len(data) : int(sample_rate*samp_sec)] = data[:num_last]\n",
        "            signal = [signal]\n",
        "\n",
        "\n",
        "        for i in range(n_samp):\n",
        "            if self.pre_emphasis:\n",
        "                emphasized_signal = np.append(signal[i][0], signal[i][1:] - self.pre_emphasis*signal[i][:-1])\n",
        "            else:\n",
        "                emphasized_signal = signal[i]\n",
        "\n",
        "            frame_length, frame_step = self.frame_size * sample_rate, self.frame_stride * sample_rate # Convert from seconds\n",
        "\n",
        "            signal_length = len(emphasized_signal)\n",
        "            frame_length = int(round(frame_length))\n",
        "            frame_step = int(round(frame_step))\n",
        "\n",
        "            num_frames = int(np.ceil(float(np.abs(signal_length - frame_length)) / frame_step)) # Make sure that we have at least 1 frame\n",
        "            pad_signal_length = num_frames * frame_step + frame_length\n",
        "            z = np.zeros((pad_signal_length - signal_length))\n",
        "            pad_signal = np.append(emphasized_signal, z) # Pad Signal to make sure that all frames have equal number of samples without truncating any samples from the original signal\n",
        "            indicies = np.tile(np.arange(0, frame_length), (num_frames, 1)) + np.tile(np.arange(0, num_frames * frame_step, frame_step), (frame_length, 1)).T\n",
        "            frames = pad_signal[indicies.astype(np.int32, copy=False)]\n",
        "            frames *= np.hamming(frame_length) # window\n",
        "\n",
        "            # Fourier-Transform and Power Spectrum\n",
        "            pow_frames = self.feature_pow(frames)\n",
        "\n",
        "            Sig.append(pow_frames.T)\n",
        "\n",
        "        return Sig"
      ],
      "execution_count": 0,
      "outputs": []
    },
    {
      "cell_type": "markdown",
      "metadata": {
        "id": "R8XfI5MSYW6R",
        "colab_type": "text"
      },
      "source": [
        "### [LCNN](https://github.com/huijeong728/tmp/blob/master/LCNN_prac.ipynb)"
      ]
    },
    {
      "cell_type": "markdown",
      "metadata": {
        "id": "R6YunzJrkxzA",
        "colab_type": "text"
      },
      "source": [
        "### [합성곱 신경망](https://colab.research.google.com/github/tensorflow/docs/blob/master/site/ko/tutorials/images/cnn.ipynb?hl=ko)"
      ]
    },
    {
      "cell_type": "markdown",
      "metadata": {
        "id": "Iu62jGKXk4AU",
        "colab_type": "text"
      },
      "source": [
        "#### 텐서플로 임포트하기"
      ]
    },
    {
      "cell_type": "code",
      "metadata": {
        "id": "5UerTaruk30d",
        "colab_type": "code",
        "colab": {}
      },
      "source": [
        "from __future__ import absolute_import, division, print_function, unicode_literals\n",
        "\n",
        "!pip install tensorflow-gpu==2.0.0-rc1\n",
        "import tensorflow as tf\n",
        "\n",
        "from tensorflow.keras import datasets, layers, models"
      ],
      "execution_count": 0,
      "outputs": []
    },
    {
      "cell_type": "markdown",
      "metadata": {
        "id": "whR4K6hVk6yU",
        "colab_type": "text"
      },
      "source": [
        "#### MNIST 데이터셋 다운로드하고 준비하기"
      ]
    },
    {
      "cell_type": "code",
      "metadata": {
        "id": "vCzKFCOpk1MU",
        "colab_type": "code",
        "colab": {}
      },
      "source": [
        "(train_images, train_labels), (test_images, test_labels) = datasets.mnist.load_data()\n",
        "\n",
        "train_images = train_images.reshape((60000, 28, 28, 1))\n",
        "test_images = test_images.reshape((10000, 28, 28, 1))\n",
        "\n",
        "# 픽셀 값을 0~1 사이로 정규화합니다.\n",
        "train_images, test_images = train_images / 255.0, test_images / 255.0"
      ],
      "execution_count": 0,
      "outputs": []
    },
    {
      "cell_type": "markdown",
      "metadata": {
        "id": "BO9iQiknlDUk",
        "colab_type": "text"
      },
      "source": [
        "#### 합성곱 층 만들기"
      ]
    },
    {
      "cell_type": "code",
      "metadata": {
        "id": "Nej4eZoik1G6",
        "colab_type": "code",
        "colab": {}
      },
      "source": [
        "model = models.Sequential()\n",
        "model.add(layers.Conv2D(32, (3, 3), activation='relu', input_shape=(28, 28, 1)))\n",
        "model.add(layers.MaxPooling2D((2, 2)))\n",
        "model.add(layers.Conv2D(64, (3, 3), activation='relu'))\n",
        "model.add(layers.MaxPooling2D((2, 2)))\n",
        "model.add(layers.Conv2D(64, (3, 3), activation='relu'))"
      ],
      "execution_count": 0,
      "outputs": []
    },
    {
      "cell_type": "code",
      "metadata": {
        "id": "xnL6ILA6k1Ei",
        "colab_type": "code",
        "colab": {}
      },
      "source": [
        "model.summary()"
      ],
      "execution_count": 0,
      "outputs": []
    },
    {
      "cell_type": "markdown",
      "metadata": {
        "id": "3sQOjVHilH0b",
        "colab_type": "text"
      },
      "source": [
        "#### 마지막에 Dense 층 추가하기"
      ]
    },
    {
      "cell_type": "code",
      "metadata": {
        "id": "Tr97o4P_k1B6",
        "colab_type": "code",
        "colab": {}
      },
      "source": [
        "model.add(layers.Flatten())\n",
        "model.add(layers.Dense(64, activation='relu'))\n",
        "model.add(layers.Dense(10, activation='softmax'))"
      ],
      "execution_count": 0,
      "outputs": []
    },
    {
      "cell_type": "code",
      "metadata": {
        "id": "UGgQsADZk0-4",
        "colab_type": "code",
        "colab": {}
      },
      "source": [
        "model.summary()"
      ],
      "execution_count": 0,
      "outputs": []
    },
    {
      "cell_type": "markdown",
      "metadata": {
        "id": "TnqZl-k6lLB5",
        "colab_type": "text"
      },
      "source": [
        "#### 모델 컴파일과 훈련하기"
      ]
    },
    {
      "cell_type": "code",
      "metadata": {
        "id": "xRiR1vqRk08K",
        "colab_type": "code",
        "colab": {}
      },
      "source": [
        "model.compile(optimizer='adam',\n",
        "              loss='sparse_categorical_crossentropy',\n",
        "              metrics=['accuracy'])\n",
        "\n",
        "model.fit(train_images, train_labels, epochs=5)"
      ],
      "execution_count": 0,
      "outputs": []
    },
    {
      "cell_type": "markdown",
      "metadata": {
        "id": "gmSG2jx3lN6H",
        "colab_type": "text"
      },
      "source": [
        "#### 모델 평가"
      ]
    },
    {
      "cell_type": "code",
      "metadata": {
        "id": "l-azrIeGk05j",
        "colab_type": "code",
        "colab": {}
      },
      "source": [
        "test_loss, test_acc = model.evaluate(test_images,  test_labels, verbose=2)"
      ],
      "execution_count": 0,
      "outputs": []
    },
    {
      "cell_type": "code",
      "metadata": {
        "id": "AQiQhkQmk020",
        "colab_type": "code",
        "colab": {}
      },
      "source": [
        "print(test_acc)"
      ],
      "execution_count": 0,
      "outputs": []
    },
    {
      "cell_type": "markdown",
      "metadata": {
        "id": "NoYrXDxxl7zv",
        "colab_type": "text"
      },
      "source": [
        "### [Image classification](https://colab.research.google.com/github/tensorflow/docs/blob/master/site/en/tutorials/images/classification.ipynb?hl=ko)"
      ]
    },
    {
      "cell_type": "markdown",
      "metadata": {
        "colab_type": "text",
        "id": "zF9uvbXNVrVY"
      },
      "source": [
        "#### Import packages"
      ]
    },
    {
      "cell_type": "code",
      "metadata": {
        "colab_type": "code",
        "id": "rtPGh2MAVrVa",
        "colab": {}
      },
      "source": [
        "from __future__ import absolute_import, division, print_function, unicode_literals"
      ],
      "execution_count": 0,
      "outputs": []
    },
    {
      "cell_type": "code",
      "metadata": {
        "colab_type": "code",
        "id": "E82grprdYPI0",
        "colab": {}
      },
      "source": [
        "try:\n",
        "  # %tensorflow_version only exists in Colab.\n",
        "  %tensorflow_version 2.x\n",
        "except Exception:\n",
        "  pass\n",
        "import tensorflow as tf"
      ],
      "execution_count": 0,
      "outputs": []
    },
    {
      "cell_type": "code",
      "metadata": {
        "colab_type": "code",
        "id": "L1WtoaOHVrVh",
        "colab": {}
      },
      "source": [
        "from tensorflow.keras.models import Sequential\n",
        "from tensorflow.keras.layers import Dense, Conv2D, Flatten, Dropout, MaxPooling2D\n",
        "from tensorflow.keras.preprocessing.image import ImageDataGenerator\n",
        "\n",
        "import os\n",
        "import numpy as np\n",
        "import matplotlib.pyplot as plt"
      ],
      "execution_count": 0,
      "outputs": []
    },
    {
      "cell_type": "markdown",
      "metadata": {
        "colab_type": "text",
        "id": "UZZI6lNkVrVm"
      },
      "source": [
        "#### Load data"
      ]
    },
    {
      "cell_type": "code",
      "metadata": {
        "colab_type": "code",
        "id": "C1nqr-CYY6uw",
        "colab": {}
      },
      "source": [
        "_URL = 'https://storage.googleapis.com/mledu-datasets/cats_and_dogs_filtered.zip'\n",
        "\n",
        "path_to_zip = tf.keras.utils.get_file('cats_and_dogs.zip', origin=_URL, extract=True)\n",
        "\n",
        "PATH = os.path.join(os.path.dirname(path_to_zip), 'cats_and_dogs_filtered')"
      ],
      "execution_count": 0,
      "outputs": []
    },
    {
      "cell_type": "markdown",
      "metadata": {
        "colab_type": "text",
        "id": "Giv0wMQzVrVw"
      },
      "source": [
        "The dataset has the following directory structure:\n",
        "\n",
        "<pre>\n",
        "<b>cats_and_dogs_filtered</b>\n",
        "|__ <b>train</b>\n",
        "    |______ <b>cats</b>: [cat.0.jpg, cat.1.jpg, cat.2.jpg ....]\n",
        "    |______ <b>dogs</b>: [dog.0.jpg, dog.1.jpg, dog.2.jpg ...]\n",
        "|__ <b>validation</b>\n",
        "    |______ <b>cats</b>: [cat.2000.jpg, cat.2001.jpg, cat.2002.jpg ....]\n",
        "    |______ <b>dogs</b>: [dog.2000.jpg, dog.2001.jpg, dog.2002.jpg ...]\n",
        "</pre>"
      ]
    },
    {
      "cell_type": "code",
      "metadata": {
        "colab_type": "code",
        "id": "sRucI3QqVrVy",
        "colab": {}
      },
      "source": [
        "train_dir = os.path.join(PATH, 'train')\n",
        "validation_dir = os.path.join(PATH, 'validation')"
      ],
      "execution_count": 0,
      "outputs": []
    },
    {
      "cell_type": "code",
      "metadata": {
        "colab_type": "code",
        "id": "Utv3nryxVrV0",
        "colab": {}
      },
      "source": [
        "train_cats_dir = os.path.join(train_dir, 'cats')  # directory with our training cat pictures\n",
        "train_dogs_dir = os.path.join(train_dir, 'dogs')  # directory with our training dog pictures\n",
        "validation_cats_dir = os.path.join(validation_dir, 'cats')  # directory with our validation cat pictures\n",
        "validation_dogs_dir = os.path.join(validation_dir, 'dogs')  # directory with our validation dog pictures"
      ],
      "execution_count": 0,
      "outputs": []
    },
    {
      "cell_type": "markdown",
      "metadata": {
        "id": "z-fp4kPLmfoY",
        "colab_type": "text"
      },
      "source": [
        "#### understand the data"
      ]
    },
    {
      "cell_type": "code",
      "metadata": {
        "colab_type": "code",
        "id": "vc4u8e9hVrV4",
        "colab": {}
      },
      "source": [
        "num_cats_tr = len(os.listdir(train_cats_dir))\n",
        "num_dogs_tr = len(os.listdir(train_dogs_dir))\n",
        "\n",
        "num_cats_val = len(os.listdir(validation_cats_dir))\n",
        "num_dogs_val = len(os.listdir(validation_dogs_dir))\n",
        "\n",
        "total_train = num_cats_tr + num_dogs_tr\n",
        "total_val = num_cats_val + num_dogs_val"
      ],
      "execution_count": 0,
      "outputs": []
    },
    {
      "cell_type": "code",
      "metadata": {
        "colab_type": "code",
        "id": "g4GGzGt0VrV7",
        "colab": {}
      },
      "source": [
        "print('total training cat images:', num_cats_tr)\n",
        "print('total training dog images:', num_dogs_tr)\n",
        "\n",
        "print('total validation cat images:', num_cats_val)\n",
        "print('total validation dog images:', num_dogs_val)\n",
        "print(\"--\")\n",
        "print(\"Total training images:\", total_train)\n",
        "print(\"Total validation images:\", total_val)"
      ],
      "execution_count": 0,
      "outputs": []
    },
    {
      "cell_type": "code",
      "metadata": {
        "colab_type": "code",
        "id": "3NqNselLVrWA",
        "colab": {}
      },
      "source": [
        "batch_size = 128\n",
        "epochs = 15\n",
        "IMG_HEIGHT = 150\n",
        "IMG_WIDTH = 150"
      ],
      "execution_count": 0,
      "outputs": []
    },
    {
      "cell_type": "markdown",
      "metadata": {
        "colab_type": "text",
        "id": "INn-cOn1VrWC"
      },
      "source": [
        "#### Data preparation"
      ]
    },
    {
      "cell_type": "code",
      "metadata": {
        "colab_type": "code",
        "id": "syDdF_LWVrWE",
        "colab": {}
      },
      "source": [
        "train_image_generator = ImageDataGenerator(rescale=1./255) # Generator for our training data\n",
        "validation_image_generator = ImageDataGenerator(rescale=1./255) # Generator for our validation data"
      ],
      "execution_count": 0,
      "outputs": []
    },
    {
      "cell_type": "code",
      "metadata": {
        "colab_type": "code",
        "id": "Pw94ajOOVrWI",
        "colab": {}
      },
      "source": [
        "train_data_gen = train_image_generator.flow_from_directory(batch_size=batch_size,\n",
        "                                                           directory=train_dir,\n",
        "                                                           shuffle=True,\n",
        "                                                           target_size=(IMG_HEIGHT, IMG_WIDTH),\n",
        "                                                           class_mode='binary')"
      ],
      "execution_count": 0,
      "outputs": []
    },
    {
      "cell_type": "code",
      "metadata": {
        "colab_type": "code",
        "id": "2oUoKUzRVrWM",
        "colab": {}
      },
      "source": [
        "val_data_gen = validation_image_generator.flow_from_directory(batch_size=batch_size,\n",
        "                                                              directory=validation_dir,\n",
        "                                                              target_size=(IMG_HEIGHT, IMG_WIDTH),\n",
        "                                                              class_mode='binary')"
      ],
      "execution_count": 0,
      "outputs": []
    },
    {
      "cell_type": "code",
      "metadata": {
        "id": "8MKHkiWSmCbj",
        "colab_type": "code",
        "colab": {}
      },
      "source": [
        ""
      ],
      "execution_count": 0,
      "outputs": []
    },
    {
      "cell_type": "code",
      "metadata": {
        "id": "lqvSK9aFYdbg",
        "colab_type": "code",
        "colab": {}
      },
      "source": [
        ""
      ],
      "execution_count": 0,
      "outputs": []
    }
  ]
}