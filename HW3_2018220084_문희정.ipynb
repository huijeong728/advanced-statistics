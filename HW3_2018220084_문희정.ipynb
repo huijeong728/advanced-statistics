{
  "nbformat": 4,
  "nbformat_minor": 0,
  "metadata": {
    "colab": {
      "name": "HW3_2018220084_문희정.ipynb",
      "provenance": [],
      "collapsed_sections": [],
      "toc_visible": true,
      "include_colab_link": true
    },
    "kernelspec": {
      "name": "python3",
      "display_name": "Python 3"
    },
    "accelerator": "GPU"
  },
  "cells": [
    {
      "cell_type": "markdown",
      "metadata": {
        "id": "view-in-github",
        "colab_type": "text"
      },
      "source": [
        "<a href=\"https://colab.research.google.com/github/huijeong728/advanced-statistics/blob/master/HW3_2018220084_%EB%AC%B8%ED%9D%AC%EC%A0%95.ipynb\" target=\"_parent\"><img src=\"https://colab.research.google.com/assets/colab-badge.svg\" alt=\"Open In Colab\"/></a>"
      ]
    },
    {
      "cell_type": "markdown",
      "metadata": {
        "id": "B_QxbOPcKmCc",
        "colab_type": "text"
      },
      "source": [
        "# 1. Fashion Mnist 데이터를 잘 적합시키는 CNN 기반 모형찾기"
      ]
    },
    {
      "cell_type": "code",
      "metadata": {
        "id": "3SP9vwG_LEDw",
        "colab_type": "code",
        "outputId": "d3692e8f-3714-44c2-a85e-f19bbc6341ce",
        "colab": {
          "base_uri": "https://localhost:8080/",
          "height": 34
        }
      },
      "source": [
        "try:\n",
        "  # Colab only\n",
        "  %tensorflow_version 2.x\n",
        "except Exception:\n",
        "  pass"
      ],
      "execution_count": 1,
      "outputs": [
        {
          "output_type": "stream",
          "text": [
            "TensorFlow 2.x selected.\n"
          ],
          "name": "stdout"
        }
      ]
    },
    {
      "cell_type": "code",
      "metadata": {
        "id": "xGUB_ue7LEyY",
        "colab_type": "code",
        "outputId": "79139634-1cf1-4ef8-f0ac-d386abf7736d",
        "colab": {
          "base_uri": "https://localhost:8080/",
          "height": 34
        }
      },
      "source": [
        "from __future__ import absolute_import, division, print_function, unicode_literals, unicode_literals\n",
        "\n",
        "# tensorflow와 tf.keras를 임포트합니다\n",
        "import tensorflow as tf\n",
        "from tensorflow import keras\n",
        "\n",
        "# 헬퍼(helper) 라이브러리를 임포트합니다\n",
        "import numpy as np\n",
        "import matplotlib.pyplot as plt\n",
        "\n",
        "print(tf.__version__)"
      ],
      "execution_count": 2,
      "outputs": [
        {
          "output_type": "stream",
          "text": [
            "2.0.0\n"
          ],
          "name": "stdout"
        }
      ]
    },
    {
      "cell_type": "markdown",
      "metadata": {
        "id": "9qCCOcTSLURm",
        "colab_type": "text"
      },
      "source": [
        "### **1) Fashion Mnist 데이터셋 임포트하기**"
      ]
    },
    {
      "cell_type": "code",
      "metadata": {
        "id": "uRiH2f7WLEpN",
        "colab_type": "code",
        "outputId": "f0709452-fdbb-4913-d797-7ff3acf26598",
        "colab": {
          "base_uri": "https://localhost:8080/",
          "height": 158
        }
      },
      "source": [
        "fashion_mnist = keras.datasets.fashion_mnist\n",
        "\n",
        "(train_images, train_labels), (test_images, test_labels) = fashion_mnist.load_data()"
      ],
      "execution_count": 3,
      "outputs": [
        {
          "output_type": "stream",
          "text": [
            "Downloading data from https://storage.googleapis.com/tensorflow/tf-keras-datasets/train-labels-idx1-ubyte.gz\n",
            "32768/29515 [=================================] - 0s 0us/step\n",
            "Downloading data from https://storage.googleapis.com/tensorflow/tf-keras-datasets/train-images-idx3-ubyte.gz\n",
            "26427392/26421880 [==============================] - 0s 0us/step\n",
            "Downloading data from https://storage.googleapis.com/tensorflow/tf-keras-datasets/t10k-labels-idx1-ubyte.gz\n",
            "8192/5148 [===============================================] - 0s 0us/step\n",
            "Downloading data from https://storage.googleapis.com/tensorflow/tf-keras-datasets/t10k-images-idx3-ubyte.gz\n",
            "4423680/4422102 [==============================] - 0s 0us/step\n"
          ],
          "name": "stdout"
        }
      ]
    },
    {
      "cell_type": "code",
      "metadata": {
        "id": "1N_V4LSULEmn",
        "colab_type": "code",
        "colab": {}
      },
      "source": [
        "class_names = ['T-shirt/top', 'Trouser', 'Pullover', 'Dress', 'Coat',\n",
        "               'Sandal', 'Shirt', 'Sneaker', 'Bag', 'Ankle boot']"
      ],
      "execution_count": 0,
      "outputs": []
    },
    {
      "cell_type": "markdown",
      "metadata": {
        "id": "6mEbGxkRL9P2",
        "colab_type": "text"
      },
      "source": [
        "### **2) 데이터 전처리**"
      ]
    },
    {
      "cell_type": "code",
      "metadata": {
        "id": "49uRcJXUL9AG",
        "colab_type": "code",
        "outputId": "5d280034-4b67-442a-caea-f9f025479fbe",
        "colab": {
          "base_uri": "https://localhost:8080/",
          "height": 264
        }
      },
      "source": [
        "plt.figure()\n",
        "plt.imshow(train_images[0])\n",
        "plt.colorbar()\n",
        "plt.grid(False)\n",
        "plt.show()"
      ],
      "execution_count": 5,
      "outputs": [
        {
          "output_type": "display_data",
          "data": {
            "image/png": "[encoded data removed]",
            "text/plain": [
              "<Figure size 432x288 with 2 Axes>"
            ]
          },
          "metadata": {
            "tags": []
          }
        }
      ]
    },
    {
      "cell_type": "code",
      "metadata": {
        "id": "WoZGV9L2MHO4",
        "colab_type": "code",
        "outputId": "7d718658-0123-46f9-ff18-4c3e23cfd8d4",
        "colab": {
          "base_uri": "https://localhost:8080/",
          "height": 34
        }
      },
      "source": [
        "train_images.shape"
      ],
      "execution_count": 6,
      "outputs": [
        {
          "output_type": "execute_result",
          "data": {
            "text/plain": [
              "(60000, 28, 28)"
            ]
          },
          "metadata": {
            "tags": []
          },
          "execution_count": 6
        }
      ]
    },
    {
      "cell_type": "code",
      "metadata": {
        "id": "E3XevkMKMHHe",
        "colab_type": "code",
        "colab": {}
      },
      "source": [
        "train_images=train_images.reshape(train_images.shape[0],28,28,1)\n",
        "test_images=test_images.reshape(test_images.shape[0],28,28,1)"
      ],
      "execution_count": 0,
      "outputs": []
    },
    {
      "cell_type": "markdown",
      "metadata": {
        "id": "5hUbUnycMNCO",
        "colab_type": "text"
      },
      "source": [
        "### **3-1) 첫 번째 모델 구성, 훈련, 정확도 평가**"
      ]
    },
    {
      "cell_type": "markdown",
      "metadata": {
        "id": "h5abgHYFMM9A",
        "colab_type": "text"
      },
      "source": [
        "#### (1) 층 구성"
      ]
    },
    {
      "cell_type": "code",
      "metadata": {
        "id": "kgIh2cKWNQqD",
        "colab_type": "code",
        "colab": {}
      },
      "source": [
        "from tensorflow.keras.layers import Dense, Flatten, Conv2D, MaxPool2D\n",
        "from tensorflow.keras import Sequential"
      ],
      "execution_count": 0,
      "outputs": []
    },
    {
      "cell_type": "code",
      "metadata": {
        "id": "1ErgNqRqMTmi",
        "colab_type": "code",
        "outputId": "818a9da2-097f-4c65-a8fb-3941a4e9050a",
        "colab": {
          "base_uri": "https://localhost:8080/",
          "height": 301
        }
      },
      "source": [
        "model1=Sequential()\n",
        "model1.add( Conv2D(input_shape=(28, 28, 1),\n",
        "                  filters=32,kernel_size=(3, 3),strides=(1 ,1),\n",
        "                  padding='same',activation='relu'))\n",
        "model1.add(Flatten())\n",
        "model1.add(Dense(128,activation ='relu'))\n",
        "model1.add(Dense(10, activation ='softmax'))\n",
        "model1.summary()"
      ],
      "execution_count": 9,
      "outputs": [
        {
          "output_type": "stream",
          "text": [
            "Model: \"sequential\"\n",
            "_________________________________________________________________\n",
            "Layer (type)                 Output Shape              Param #   \n",
            "=================================================================\n",
            "conv2d (Conv2D)              (None, 28, 28, 32)        320       \n",
            "_________________________________________________________________\n",
            "flatten (Flatten)            (None, 25088)             0         \n",
            "_________________________________________________________________\n",
            "dense (Dense)                (None, 128)               3211392   \n",
            "_________________________________________________________________\n",
            "dense_1 (Dense)              (None, 10)                1290      \n",
            "=================================================================\n",
            "Total params: 3,213,002\n",
            "Trainable params: 3,213,002\n",
            "Non-trainable params: 0\n",
            "_________________________________________________________________\n"
          ],
          "name": "stdout"
        }
      ]
    },
    {
      "cell_type": "markdown",
      "metadata": {
        "id": "531RBamcMuRn",
        "colab_type": "text"
      },
      "source": [
        "#### (2) 모델 컴파일"
      ]
    },
    {
      "cell_type": "code",
      "metadata": {
        "id": "5cxYkm6eMThn",
        "colab_type": "code",
        "colab": {}
      },
      "source": [
        "model1.compile(optimizer='adam',\n",
        "              loss='sparse_categorical_crossentropy',\n",
        "              metrics=['accuracy'])"
      ],
      "execution_count": 0,
      "outputs": []
    },
    {
      "cell_type": "markdown",
      "metadata": {
        "id": "XAcCLNbTMzC3",
        "colab_type": "text"
      },
      "source": [
        "#### (3) 모델 훈련"
      ]
    },
    {
      "cell_type": "code",
      "metadata": {
        "id": "WKyg7jKQMTb_",
        "colab_type": "code",
        "outputId": "a49feb82-44e3-47f6-ba9e-70a7362548bb",
        "colab": {
          "base_uri": "https://localhost:8080/",
          "height": 230
        }
      },
      "source": [
        "model1.fit(train_images, train_labels, epochs=5, batch_size=1000)"
      ],
      "execution_count": 11,
      "outputs": [
        {
          "output_type": "stream",
          "text": [
            "Train on 60000 samples\n",
            "Epoch 1/5\n",
            "60000/60000 [==============================] - 6s 96us/sample - loss: 74.0889 - accuracy: 0.6503\n",
            "Epoch 2/5\n",
            "60000/60000 [==============================] - 2s 30us/sample - loss: 1.8024 - accuracy: 0.8348\n",
            "Epoch 3/5\n",
            "60000/60000 [==============================] - 2s 30us/sample - loss: 0.7985 - accuracy: 0.8639\n",
            "Epoch 4/5\n",
            "60000/60000 [==============================] - 2s 29us/sample - loss: 0.5306 - accuracy: 0.8779\n",
            "Epoch 5/5\n",
            "60000/60000 [==============================] - 2s 30us/sample - loss: 0.4183 - accuracy: 0.8905\n"
          ],
          "name": "stdout"
        },
        {
          "output_type": "execute_result",
          "data": {
            "text/plain": [
              "<tensorflow.python.keras.callbacks.History at 0x7f69b05e7160>"
            ]
          },
          "metadata": {
            "tags": []
          },
          "execution_count": 11
        }
      ]
    },
    {
      "cell_type": "markdown",
      "metadata": {
        "id": "6Pzect0uMyeW",
        "colab_type": "text"
      },
      "source": [
        "#### 4) 정확도 평가"
      ]
    },
    {
      "cell_type": "code",
      "metadata": {
        "id": "OzsXYK4wMTJT",
        "colab_type": "code",
        "outputId": "aea13ae6-4fb3-4242-f7a8-7ba46fe88e47",
        "colab": {
          "base_uri": "https://localhost:8080/",
          "height": 70
        }
      },
      "source": [
        "test1_loss, test1_acc = model1.evaluate(test_images,  test_labels, verbose=2)\n",
        "\n",
        "print('\\n테스트 정확도:', test1_acc)"
      ],
      "execution_count": 12,
      "outputs": [
        {
          "output_type": "stream",
          "text": [
            "10000/1 - 1s - loss: 0.5814 - accuracy: 0.8751\n",
            "\n",
            "테스트 정확도: 0.8751\n"
          ],
          "name": "stdout"
        }
      ]
    },
    {
      "cell_type": "markdown",
      "metadata": {
        "id": "DbtL6zJQOjxh",
        "colab_type": "text"
      },
      "source": [
        "### **3-2) 두 번째 모델 구성, 훈련, 정확도 평가**"
      ]
    },
    {
      "cell_type": "markdown",
      "metadata": {
        "colab_type": "text",
        "id": "4L6Y2SFsO-2T"
      },
      "source": [
        "#### (1) 층 구성"
      ]
    },
    {
      "cell_type": "code",
      "metadata": {
        "colab_type": "code",
        "id": "7O09uYOKO-2W",
        "colab": {}
      },
      "source": [
        "from tensorflow.keras.layers import Dense, Flatten, Conv2D, AveragePooling2D"
      ],
      "execution_count": 0,
      "outputs": []
    },
    {
      "cell_type": "code",
      "metadata": {
        "colab_type": "code",
        "id": "fy4N9-6RO-2c",
        "outputId": "c3306307-37b1-47ad-cb1a-58b2d2b25b93",
        "colab": {
          "base_uri": "https://localhost:8080/",
          "height": 443
        }
      },
      "source": [
        "model2= Sequential()\n",
        "model2.add(Conv2D( 6, kernel_size =(5, 5), strides=( 1, 1), activation= 'tanh',\n",
        "                 input_shape =(28 ,28, 1) ,padding='same'))\n",
        "model2.add(AveragePooling2D(pool_size=2, padding='valid')) \n",
        "model2.add(Conv2D( 16, kernel_size =(5, 5), strides=( 1, 1), activation= 'tanh',\n",
        "                padding='valid'))\n",
        "model2.add(AveragePooling2D(pool_size=(2,2), strides=(2,2), padding='valid'))\n",
        "model2.add(Conv2D( 120, kernel_size =(5, 5), strides=( 1, 1), activation= 'tanh',\n",
        "                padding='valid'))\n",
        "model2.add(Flatten())\n",
        "model2.add(Dense(84,activation ='tanh'))\n",
        "model2.add(Dense(10, activation ='softmax'))\n",
        "model2.summary()"
      ],
      "execution_count": 14,
      "outputs": [
        {
          "output_type": "stream",
          "text": [
            "Model: \"sequential_1\"\n",
            "_________________________________________________________________\n",
            "Layer (type)                 Output Shape              Param #   \n",
            "=================================================================\n",
            "conv2d_1 (Conv2D)            (None, 28, 28, 6)         156       \n",
            "_________________________________________________________________\n",
            "average_pooling2d (AveragePo (None, 14, 14, 6)         0         \n",
            "_________________________________________________________________\n",
            "conv2d_2 (Conv2D)            (None, 10, 10, 16)        2416      \n",
            "_________________________________________________________________\n",
            "average_pooling2d_1 (Average (None, 5, 5, 16)          0         \n",
            "_________________________________________________________________\n",
            "conv2d_3 (Conv2D)            (None, 1, 1, 120)         48120     \n",
            "_________________________________________________________________\n",
            "flatten_1 (Flatten)          (None, 120)               0         \n",
            "_________________________________________________________________\n",
            "dense_2 (Dense)              (None, 84)                10164     \n",
            "_________________________________________________________________\n",
            "dense_3 (Dense)              (None, 10)                850       \n",
            "=================================================================\n",
            "Total params: 61,706\n",
            "Trainable params: 61,706\n",
            "Non-trainable params: 0\n",
            "_________________________________________________________________\n"
          ],
          "name": "stdout"
        }
      ]
    },
    {
      "cell_type": "markdown",
      "metadata": {
        "colab_type": "text",
        "id": "3EOe5GVkO-2j"
      },
      "source": [
        "#### (2) 모델 컴파일"
      ]
    },
    {
      "cell_type": "code",
      "metadata": {
        "colab_type": "code",
        "id": "6Fb8wQMmO-2l",
        "colab": {}
      },
      "source": [
        "model2.compile(optimizer='adam',\n",
        "              loss='sparse_categorical_crossentropy',\n",
        "              metrics=['accuracy'])"
      ],
      "execution_count": 0,
      "outputs": []
    },
    {
      "cell_type": "markdown",
      "metadata": {
        "colab_type": "text",
        "id": "jsUZQTzZO-2r"
      },
      "source": [
        "#### (3) 모델 훈련"
      ]
    },
    {
      "cell_type": "code",
      "metadata": {
        "colab_type": "code",
        "id": "FAnk_hiGO-2t",
        "outputId": "cf88e191-957a-430f-92df-48d4d52695e8",
        "colab": {
          "base_uri": "https://localhost:8080/",
          "height": 230
        }
      },
      "source": [
        "model2.fit(train_images, train_labels, epochs=5, batch_size=1000)"
      ],
      "execution_count": 16,
      "outputs": [
        {
          "output_type": "stream",
          "text": [
            "Train on 60000 samples\n",
            "Epoch 1/5\n",
            "60000/60000 [==============================] - 2s 30us/sample - loss: 0.8035 - accuracy: 0.7270\n",
            "Epoch 2/5\n",
            "60000/60000 [==============================] - 1s 16us/sample - loss: 0.4354 - accuracy: 0.8450\n",
            "Epoch 3/5\n",
            "60000/60000 [==============================] - 1s 16us/sample - loss: 0.3734 - accuracy: 0.8674\n",
            "Epoch 4/5\n",
            "60000/60000 [==============================] - 1s 17us/sample - loss: 0.3421 - accuracy: 0.8777\n",
            "Epoch 5/5\n",
            "60000/60000 [==============================] - 1s 17us/sample - loss: 0.3205 - accuracy: 0.8855\n"
          ],
          "name": "stdout"
        },
        {
          "output_type": "execute_result",
          "data": {
            "text/plain": [
              "<tensorflow.python.keras.callbacks.History at 0x7f6966176908>"
            ]
          },
          "metadata": {
            "tags": []
          },
          "execution_count": 16
        }
      ]
    },
    {
      "cell_type": "markdown",
      "metadata": {
        "colab_type": "text",
        "id": "mX_K4BvMO-2x"
      },
      "source": [
        "#### 4) 정확도 평가"
      ]
    },
    {
      "cell_type": "code",
      "metadata": {
        "colab_type": "code",
        "id": "Vls3sviaO-2y",
        "outputId": "f95d8acb-3db5-40fa-9459-33873dd5d7db",
        "colab": {
          "base_uri": "https://localhost:8080/",
          "height": 70
        }
      },
      "source": [
        "test2_loss, test2_acc = model2.evaluate(test_images,  test_labels, verbose=2)\n",
        "\n",
        "print('\\n테스트 정확도:', test2_acc)"
      ],
      "execution_count": 17,
      "outputs": [
        {
          "output_type": "stream",
          "text": [
            "10000/1 - 1s - loss: 0.2603 - accuracy: 0.8716\n",
            "\n",
            "테스트 정확도: 0.8716\n"
          ],
          "name": "stdout"
        }
      ]
    },
    {
      "cell_type": "markdown",
      "metadata": {
        "colab_type": "text",
        "id": "wFN5G7YaRe0U"
      },
      "source": [
        "### **3-3) 세 번째 모델 구성, 훈련, 정확도 평가**"
      ]
    },
    {
      "cell_type": "markdown",
      "metadata": {
        "colab_type": "text",
        "id": "b9R-xvmdRe0Z"
      },
      "source": [
        "#### (1) 층 구성"
      ]
    },
    {
      "cell_type": "code",
      "metadata": {
        "colab_type": "code",
        "id": "SM5cz-G9Re0b",
        "colab": {}
      },
      "source": [
        "from tensorflow.keras.layers import Dense, Flatten, Conv2D, AveragePooling2D"
      ],
      "execution_count": 0,
      "outputs": []
    },
    {
      "cell_type": "code",
      "metadata": {
        "colab_type": "code",
        "outputId": "3f48d598-7bb0-47a2-c2c4-5b5d0ae3dfee",
        "id": "VJHGZSfVRe0k",
        "colab": {
          "base_uri": "https://localhost:8080/",
          "height": 443
        }
      },
      "source": [
        "model3= Sequential()\n",
        "model3.add(Conv2D( 6, kernel_size =(5, 5), strides=( 1, 1), activation= 'tanh',\n",
        "                 input_shape =(28 ,28, 1) ,padding='same'))\n",
        "model3.add(AveragePooling2D(pool_size=2, padding='valid')) \n",
        "model3.add(Conv2D( 50, kernel_size =(5, 5), strides=( 1, 1), activation= 'tanh',\n",
        "                padding='valid'))\n",
        "model3.add(AveragePooling2D(pool_size=(2,2), strides=(2,2), padding='valid'))\n",
        "model3.add(Conv2D( 120, kernel_size =(5, 5), strides=( 1, 1), activation= 'tanh',\n",
        "                padding='valid'))\n",
        "model3.add(Flatten())\n",
        "model3.add(Dense(84,activation ='tanh'))\n",
        "model3.add(Dense(10, activation ='softmax'))\n",
        "model3.summary()"
      ],
      "execution_count": 19,
      "outputs": [
        {
          "output_type": "stream",
          "text": [
            "Model: \"sequential_2\"\n",
            "_________________________________________________________________\n",
            "Layer (type)                 Output Shape              Param #   \n",
            "=================================================================\n",
            "conv2d_4 (Conv2D)            (None, 28, 28, 6)         156       \n",
            "_________________________________________________________________\n",
            "average_pooling2d_2 (Average (None, 14, 14, 6)         0         \n",
            "_________________________________________________________________\n",
            "conv2d_5 (Conv2D)            (None, 10, 10, 50)        7550      \n",
            "_________________________________________________________________\n",
            "average_pooling2d_3 (Average (None, 5, 5, 50)          0         \n",
            "_________________________________________________________________\n",
            "conv2d_6 (Conv2D)            (None, 1, 1, 120)         150120    \n",
            "_________________________________________________________________\n",
            "flatten_2 (Flatten)          (None, 120)               0         \n",
            "_________________________________________________________________\n",
            "dense_4 (Dense)              (None, 84)                10164     \n",
            "_________________________________________________________________\n",
            "dense_5 (Dense)              (None, 10)                850       \n",
            "=================================================================\n",
            "Total params: 168,840\n",
            "Trainable params: 168,840\n",
            "Non-trainable params: 0\n",
            "_________________________________________________________________\n"
          ],
          "name": "stdout"
        }
      ]
    },
    {
      "cell_type": "markdown",
      "metadata": {
        "colab_type": "text",
        "id": "9JPbGxztRe0u"
      },
      "source": [
        "#### (2) 모델 컴파일"
      ]
    },
    {
      "cell_type": "code",
      "metadata": {
        "colab_type": "code",
        "id": "AuaMEg8GRe0w",
        "colab": {}
      },
      "source": [
        "model3.compile(optimizer='adam',\n",
        "              loss='sparse_categorical_crossentropy',\n",
        "              metrics=['accuracy'])"
      ],
      "execution_count": 0,
      "outputs": []
    },
    {
      "cell_type": "markdown",
      "metadata": {
        "colab_type": "text",
        "id": "_lN6Tm_fRe00"
      },
      "source": [
        "#### (3) 모델 훈련"
      ]
    },
    {
      "cell_type": "code",
      "metadata": {
        "colab_type": "code",
        "outputId": "d3b224ef-0206-4dc2-ed83-2c22cfab85d9",
        "id": "XzbDHc7hRe01",
        "colab": {
          "base_uri": "https://localhost:8080/",
          "height": 230
        }
      },
      "source": [
        "model3.fit(train_images, train_labels, epochs=5, batch_size=1000)"
      ],
      "execution_count": 21,
      "outputs": [
        {
          "output_type": "stream",
          "text": [
            "Train on 60000 samples\n",
            "Epoch 1/5\n",
            "60000/60000 [==============================] - 2s 39us/sample - loss: 0.7435 - accuracy: 0.7435\n",
            "Epoch 2/5\n",
            "60000/60000 [==============================] - 2s 27us/sample - loss: 0.4199 - accuracy: 0.8503\n",
            "Epoch 3/5\n",
            "60000/60000 [==============================] - 2s 27us/sample - loss: 0.3641 - accuracy: 0.8688\n",
            "Epoch 4/5\n",
            "60000/60000 [==============================] - 2s 27us/sample - loss: 0.3244 - accuracy: 0.8835\n",
            "Epoch 5/5\n",
            "60000/60000 [==============================] - 2s 27us/sample - loss: 0.3034 - accuracy: 0.8910\n"
          ],
          "name": "stdout"
        },
        {
          "output_type": "execute_result",
          "data": {
            "text/plain": [
              "<tensorflow.python.keras.callbacks.History at 0x7f69649e6a90>"
            ]
          },
          "metadata": {
            "tags": []
          },
          "execution_count": 21
        }
      ]
    },
    {
      "cell_type": "markdown",
      "metadata": {
        "colab_type": "text",
        "id": "T5E9mRE0Re06"
      },
      "source": [
        "#### 4) 정확도 평가"
      ]
    },
    {
      "cell_type": "code",
      "metadata": {
        "colab_type": "code",
        "outputId": "d9fad78b-e42f-4d68-bcb7-b2d8f0126cc9",
        "id": "xN7OzsEERe07",
        "colab": {
          "base_uri": "https://localhost:8080/",
          "height": 70
        }
      },
      "source": [
        "test3_loss, test3_acc = model3.evaluate(test_images,  test_labels, verbose=2)\n",
        "\n",
        "print('\\n테스트 정확도:', test3_acc)"
      ],
      "execution_count": 22,
      "outputs": [
        {
          "output_type": "stream",
          "text": [
            "10000/1 - 1s - loss: 0.3314 - accuracy: 0.8825\n",
            "\n",
            "테스트 정확도: 0.8825\n"
          ],
          "name": "stdout"
        }
      ]
    },
    {
      "cell_type": "markdown",
      "metadata": {
        "colab_type": "text",
        "id": "fCjwcdkhonUj"
      },
      "source": [
        "### **3-4) 네 번째 모델 구성, 훈련, 정확도 평가**"
      ]
    },
    {
      "cell_type": "markdown",
      "metadata": {
        "colab_type": "text",
        "id": "EUyTo81conUp"
      },
      "source": [
        "#### (1) 층 구성"
      ]
    },
    {
      "cell_type": "code",
      "metadata": {
        "colab_type": "code",
        "id": "5J92NoORonUr",
        "colab": {}
      },
      "source": [
        "from tensorflow.keras.layers import Dense, Flatten, Conv2D, AveragePooling2D"
      ],
      "execution_count": 0,
      "outputs": []
    },
    {
      "cell_type": "code",
      "metadata": {
        "colab_type": "code",
        "outputId": "938e821c-c0b9-47da-dd31-fd5cb7074af4",
        "id": "773z6Pg7onUz",
        "colab": {
          "base_uri": "https://localhost:8080/",
          "height": 443
        }
      },
      "source": [
        "model4= Sequential()\n",
        "model4.add(Conv2D( 6, kernel_size =(5, 5), strides=( 1, 1), activation= 'tanh',input_shape =(28 ,28, 1) ,padding='same'))\n",
        "model4.add(AveragePooling2D(pool_size=2, padding='valid')) \n",
        "model4.add(Conv2D( 50, kernel_size =(5, 5), strides=( 1, 1), activation= 'tanh',padding='valid'))\n",
        "model4.add(MaxPool2D(pool_size=(2,2)))\n",
        "model4.add(Conv2D( 120, kernel_size =(5, 5), strides=( 1, 1), activation= 'tanh', padding='valid'))\n",
        "model4.add(Flatten())\n",
        "model4.add(Dense(84,activation ='tanh'))\n",
        "model4.add(Dense(10, activation ='softmax'))\n",
        "model4.summary()"
      ],
      "execution_count": 24,
      "outputs": [
        {
          "output_type": "stream",
          "text": [
            "Model: \"sequential_3\"\n",
            "_________________________________________________________________\n",
            "Layer (type)                 Output Shape              Param #   \n",
            "=================================================================\n",
            "conv2d_7 (Conv2D)            (None, 28, 28, 6)         156       \n",
            "_________________________________________________________________\n",
            "average_pooling2d_4 (Average (None, 14, 14, 6)         0         \n",
            "_________________________________________________________________\n",
            "conv2d_8 (Conv2D)            (None, 10, 10, 50)        7550      \n",
            "_________________________________________________________________\n",
            "max_pooling2d (MaxPooling2D) (None, 5, 5, 50)          0         \n",
            "_________________________________________________________________\n",
            "conv2d_9 (Conv2D)            (None, 1, 1, 120)         150120    \n",
            "_________________________________________________________________\n",
            "flatten_3 (Flatten)          (None, 120)               0         \n",
            "_________________________________________________________________\n",
            "dense_6 (Dense)              (None, 84)                10164     \n",
            "_________________________________________________________________\n",
            "dense_7 (Dense)              (None, 10)                850       \n",
            "=================================================================\n",
            "Total params: 168,840\n",
            "Trainable params: 168,840\n",
            "Non-trainable params: 0\n",
            "_________________________________________________________________\n"
          ],
          "name": "stdout"
        }
      ]
    },
    {
      "cell_type": "markdown",
      "metadata": {
        "colab_type": "text",
        "id": "NoB3PMDyonU6"
      },
      "source": [
        "#### (2) 모델 컴파일"
      ]
    },
    {
      "cell_type": "code",
      "metadata": {
        "colab_type": "code",
        "id": "8PDdqf6XonU7",
        "colab": {}
      },
      "source": [
        "model4.compile(optimizer='adam',\n",
        "              loss='sparse_categorical_crossentropy',\n",
        "              metrics=['accuracy'])"
      ],
      "execution_count": 0,
      "outputs": []
    },
    {
      "cell_type": "markdown",
      "metadata": {
        "colab_type": "text",
        "id": "ET8C91jeonU8"
      },
      "source": [
        "#### (3) 모델 훈련"
      ]
    },
    {
      "cell_type": "code",
      "metadata": {
        "colab_type": "code",
        "outputId": "417dd54e-b286-486b-91ce-c8f80f1604f3",
        "id": "SWIEG52BonU9",
        "colab": {
          "base_uri": "https://localhost:8080/",
          "height": 230
        }
      },
      "source": [
        "model4.fit(train_images, train_labels, epochs=5, batch_size=1000)"
      ],
      "execution_count": 26,
      "outputs": [
        {
          "output_type": "stream",
          "text": [
            "Train on 60000 samples\n",
            "Epoch 1/5\n",
            "60000/60000 [==============================] - 2s 38us/sample - loss: 0.7426 - accuracy: 0.7399\n",
            "Epoch 2/5\n",
            "60000/60000 [==============================] - 2s 27us/sample - loss: 0.3953 - accuracy: 0.8584\n",
            "Epoch 3/5\n",
            "60000/60000 [==============================] - 2s 28us/sample - loss: 0.3318 - accuracy: 0.8812\n",
            "Epoch 4/5\n",
            "60000/60000 [==============================] - 2s 28us/sample - loss: 0.3027 - accuracy: 0.8905\n",
            "Epoch 5/5\n",
            "60000/60000 [==============================] - 2s 28us/sample - loss: 0.2810 - accuracy: 0.8975\n"
          ],
          "name": "stdout"
        },
        {
          "output_type": "execute_result",
          "data": {
            "text/plain": [
              "<tensorflow.python.keras.callbacks.History at 0x7f69632215c0>"
            ]
          },
          "metadata": {
            "tags": []
          },
          "execution_count": 26
        }
      ]
    },
    {
      "cell_type": "markdown",
      "metadata": {
        "colab_type": "text",
        "id": "FzM14qxionU_"
      },
      "source": [
        "#### 4) 정확도 평가"
      ]
    },
    {
      "cell_type": "code",
      "metadata": {
        "colab_type": "code",
        "outputId": "ef95732a-10b8-4f6f-d813-59cb8c9a83e3",
        "id": "vYzc0qEeonU_",
        "colab": {
          "base_uri": "https://localhost:8080/",
          "height": 70
        }
      },
      "source": [
        "test4_loss, test4_acc = model4.evaluate(test_images,  test_labels, verbose=2)\n",
        "\n",
        "print('\\n테스트 정확도:', test4_acc)"
      ],
      "execution_count": 27,
      "outputs": [
        {
          "output_type": "stream",
          "text": [
            "10000/1 - 1s - loss: 0.3046 - accuracy: 0.8836\n",
            "\n",
            "테스트 정확도: 0.8836\n"
          ],
          "name": "stdout"
        }
      ]
    },
    {
      "cell_type": "markdown",
      "metadata": {
        "colab_type": "text",
        "id": "pplu3S0pwSL5"
      },
      "source": [
        "### **3-5) 다섯 번째 모델 구성, 훈련, 정확도 평가**"
      ]
    },
    {
      "cell_type": "markdown",
      "metadata": {
        "colab_type": "text",
        "id": "puvgINiRwSMF"
      },
      "source": [
        "#### (1) 층 구성"
      ]
    },
    {
      "cell_type": "code",
      "metadata": {
        "colab_type": "code",
        "id": "vZ1EsjaZwSMH",
        "colab": {}
      },
      "source": [
        "from tensorflow.keras.layers import Dense, Flatten, Conv2D, AveragePooling2D"
      ],
      "execution_count": 0,
      "outputs": []
    },
    {
      "cell_type": "code",
      "metadata": {
        "colab_type": "code",
        "outputId": "d92ef6cc-1d56-4d3c-e331-95d99135b11a",
        "id": "Z4cOqv1DwSMO",
        "colab": {
          "base_uri": "https://localhost:8080/",
          "height": 514
        }
      },
      "source": [
        "model5= Sequential()\n",
        "model5.add(Conv2D( 6, kernel_size =(3, 3), strides=( 1, 1), activation= 'tanh',\n",
        "                 input_shape =(28 ,28, 1) ,padding='same'))\n",
        "model5.add(AveragePooling2D(pool_size=2, padding='valid')) \n",
        "model5.add(Conv2D( 36, kernel_size =(3, 3), strides=( 1, 1), activation= 'tanh',\n",
        "                padding='valid'))\n",
        "model5.add(AveragePooling2D(pool_size=(2,2), strides=(1,1), padding='valid'))\n",
        "model5.add(Conv2D( 72, kernel_size =(3, 3), strides=( 1, 1), activation= 'tanh',\n",
        "                padding='valid'))\n",
        "model5.add(MaxPool2D(pool_size=(2,2)))\n",
        "model5.add(Conv2D( 120, kernel_size =(3, 3), strides=( 1, 1), activation= 'tanh',\n",
        "                padding='valid'))\n",
        "model5.add(Flatten())\n",
        "model5.add(Dense(84,activation ='tanh'))\n",
        "model5.add(Dense(10, activation ='softmax'))\n",
        "model5.summary()"
      ],
      "execution_count": 29,
      "outputs": [
        {
          "output_type": "stream",
          "text": [
            "Model: \"sequential_4\"\n",
            "_________________________________________________________________\n",
            "Layer (type)                 Output Shape              Param #   \n",
            "=================================================================\n",
            "conv2d_10 (Conv2D)           (None, 28, 28, 6)         60        \n",
            "_________________________________________________________________\n",
            "average_pooling2d_5 (Average (None, 14, 14, 6)         0         \n",
            "_________________________________________________________________\n",
            "conv2d_11 (Conv2D)           (None, 12, 12, 36)        1980      \n",
            "_________________________________________________________________\n",
            "average_pooling2d_6 (Average (None, 11, 11, 36)        0         \n",
            "_________________________________________________________________\n",
            "conv2d_12 (Conv2D)           (None, 9, 9, 72)          23400     \n",
            "_________________________________________________________________\n",
            "max_pooling2d_1 (MaxPooling2 (None, 4, 4, 72)          0         \n",
            "_________________________________________________________________\n",
            "conv2d_13 (Conv2D)           (None, 2, 2, 120)         77880     \n",
            "_________________________________________________________________\n",
            "flatten_4 (Flatten)          (None, 480)               0         \n",
            "_________________________________________________________________\n",
            "dense_8 (Dense)              (None, 84)                40404     \n",
            "_________________________________________________________________\n",
            "dense_9 (Dense)              (None, 10)                850       \n",
            "=================================================================\n",
            "Total params: 144,574\n",
            "Trainable params: 144,574\n",
            "Non-trainable params: 0\n",
            "_________________________________________________________________\n"
          ],
          "name": "stdout"
        }
      ]
    },
    {
      "cell_type": "markdown",
      "metadata": {
        "colab_type": "text",
        "id": "QOtNeBicwSMU"
      },
      "source": [
        "#### (2) 모델 컴파일"
      ]
    },
    {
      "cell_type": "code",
      "metadata": {
        "colab_type": "code",
        "id": "XWM4omyOwSMW",
        "colab": {}
      },
      "source": [
        "model5.compile(optimizer='adam',\n",
        "              loss='sparse_categorical_crossentropy',\n",
        "              metrics=['accuracy'])"
      ],
      "execution_count": 0,
      "outputs": []
    },
    {
      "cell_type": "markdown",
      "metadata": {
        "colab_type": "text",
        "id": "8wzKCM92wSMd"
      },
      "source": [
        "#### (3) 모델 훈련"
      ]
    },
    {
      "cell_type": "code",
      "metadata": {
        "colab_type": "code",
        "outputId": "b081fce5-e9d1-48a9-bb33-c541ebc5eff4",
        "id": "VGDB-tOxwSMe",
        "colab": {
          "base_uri": "https://localhost:8080/",
          "height": 230
        }
      },
      "source": [
        "model5.fit(train_images, train_labels, epochs=5, batch_size=1000)"
      ],
      "execution_count": 31,
      "outputs": [
        {
          "output_type": "stream",
          "text": [
            "Train on 60000 samples\n",
            "Epoch 1/5\n",
            "60000/60000 [==============================] - 3s 55us/sample - loss: 0.8368 - accuracy: 0.7016\n",
            "Epoch 2/5\n",
            "60000/60000 [==============================] - 2s 40us/sample - loss: 0.4918 - accuracy: 0.8172\n",
            "Epoch 3/5\n",
            "60000/60000 [==============================] - 2s 40us/sample - loss: 0.4082 - accuracy: 0.8511\n",
            "Epoch 4/5\n",
            "60000/60000 [==============================] - 2s 41us/sample - loss: 0.3594 - accuracy: 0.8696\n",
            "Epoch 5/5\n",
            "60000/60000 [==============================] - 2s 40us/sample - loss: 0.3253 - accuracy: 0.8830\n"
          ],
          "name": "stdout"
        },
        {
          "output_type": "execute_result",
          "data": {
            "text/plain": [
              "<tensorflow.python.keras.callbacks.History at 0x7f6961abd470>"
            ]
          },
          "metadata": {
            "tags": []
          },
          "execution_count": 31
        }
      ]
    },
    {
      "cell_type": "markdown",
      "metadata": {
        "colab_type": "text",
        "id": "lK72Jl7twSMj"
      },
      "source": [
        "#### 4) 정확도 평가"
      ]
    },
    {
      "cell_type": "code",
      "metadata": {
        "colab_type": "code",
        "outputId": "474fb54e-14bb-42c2-f3ae-d3bc77c3c538",
        "id": "YSIaZY0QwSMj",
        "colab": {
          "base_uri": "https://localhost:8080/",
          "height": 70
        }
      },
      "source": [
        "test5_loss, test5_acc = model5.evaluate(test_images,  test_labels, verbose=2)\n",
        "\n",
        "print('\\n테스트 정확도:', test5_acc)"
      ],
      "execution_count": 32,
      "outputs": [
        {
          "output_type": "stream",
          "text": [
            "10000/1 - 1s - loss: 0.3252 - accuracy: 0.8780\n",
            "\n",
            "테스트 정확도: 0.878\n"
          ],
          "name": "stdout"
        }
      ]
    },
    {
      "cell_type": "markdown",
      "metadata": {
        "id": "LQKABMo_Kl_w",
        "colab_type": "text"
      },
      "source": [
        "### **4) 결론**"
      ]
    },
    {
      "cell_type": "code",
      "metadata": {
        "id": "Zbz0RUZUlj4W",
        "colab_type": "code",
        "outputId": "ae57e531-e62b-4325-fb03-f32a26568dd1",
        "colab": {
          "base_uri": "https://localhost:8080/",
          "height": 123
        }
      },
      "source": [
        "print('\\n 첫 번째 모델에서의 테스트 정확도:', test1_acc ,\n",
        "      '\\n 두 번째 모델에서의 테스트 정확도:', test2_acc ,\n",
        "      '\\n 세 번째 모델에서의 테스트 정확도:', test3_acc , \n",
        "      '\\n 네 번째 모델에서의 테스트 정확도:', test4_acc ,\n",
        "      '\\n 다섯 번째 모델에서의 테스트 정확도:', test5_acc )"
      ],
      "execution_count": 33,
      "outputs": [
        {
          "output_type": "stream",
          "text": [
            "\n",
            " 첫 번째 모델에서의 테스트 정확도: 0.8751 \n",
            " 두 번째 모델에서의 테스트 정확도: 0.8716 \n",
            " 세 번째 모델에서의 테스트 정확도: 0.8825 \n",
            " 네 번째 모델에서의 테스트 정확도: 0.8836 \n",
            " 다섯 번째 모델에서의 테스트 정확도: 0.878\n"
          ],
          "name": "stdout"
        }
      ]
    },
    {
      "cell_type": "markdown",
      "metadata": {
        "id": "XbQrFGymM7xQ",
        "colab_type": "text"
      },
      "source": [
        "> **Fashion Mnist 데이터를 가장 잘 적합시키는 CNN 기반 모형은 네 번째 모델입니다.**"
      ]
    },
    {
      "cell_type": "code",
      "metadata": {
        "id": "uUPmQC4joNJd",
        "colab_type": "code",
        "outputId": "37e3bf51-b15c-4211-9a36-e8c12857d0fa",
        "colab": {
          "base_uri": "https://localhost:8080/",
          "height": 443
        }
      },
      "source": [
        "model4.summary()"
      ],
      "execution_count": 47,
      "outputs": [
        {
          "output_type": "stream",
          "text": [
            "Model: \"sequential_3\"\n",
            "_________________________________________________________________\n",
            "Layer (type)                 Output Shape              Param #   \n",
            "=================================================================\n",
            "conv2d_7 (Conv2D)            (None, 28, 28, 6)         156       \n",
            "_________________________________________________________________\n",
            "average_pooling2d_4 (Average (None, 14, 14, 6)         0         \n",
            "_________________________________________________________________\n",
            "conv2d_8 (Conv2D)            (None, 10, 10, 50)        7550      \n",
            "_________________________________________________________________\n",
            "max_pooling2d (MaxPooling2D) (None, 5, 5, 50)          0         \n",
            "_________________________________________________________________\n",
            "conv2d_9 (Conv2D)            (None, 1, 1, 120)         150120    \n",
            "_________________________________________________________________\n",
            "flatten_3 (Flatten)          (None, 120)               0         \n",
            "_________________________________________________________________\n",
            "dense_6 (Dense)              (None, 84)                10164     \n",
            "_________________________________________________________________\n",
            "dense_7 (Dense)              (None, 10)                850       \n",
            "=================================================================\n",
            "Total params: 168,840\n",
            "Trainable params: 168,840\n",
            "Non-trainable params: 0\n",
            "_________________________________________________________________\n"
          ],
          "name": "stdout"
        }
      ]
    },
    {
      "cell_type": "markdown",
      "metadata": {
        "id": "_MJCPED-Kl7U",
        "colab_type": "text"
      },
      "source": [
        "# 2. Mnist 데이터를 잘 적합시키는 CNN 기반 모형 찾기"
      ]
    },
    {
      "cell_type": "code",
      "metadata": {
        "id": "CZU02dSY0Hn5",
        "colab_type": "code",
        "outputId": "560a1353-a638-458a-94cc-83b93823fb75",
        "colab": {
          "base_uri": "https://localhost:8080/",
          "height": 695
        }
      },
      "source": [
        "from __future__ import absolute_import, division, print_function, unicode_literals\n",
        "\n",
        "!pip install tensorflow-gpu==2.0.0-rc1\n",
        "import tensorflow as tf"
      ],
      "execution_count": 35,
      "outputs": [
        {
          "output_type": "stream",
          "text": [
            "Collecting tensorflow-gpu==2.0.0-rc1\n",
            "\u001b[?25l  Downloading https://files.pythonhosted.org/packages/73/cf/2fc69ba3e59edc8333e2676fa71b40197718dea7dc1282c79955cf6b2acb/tensorflow_gpu-2.0.0rc1-cp36-cp36m-manylinux2010_x86_64.whl (380.5MB)\n",
            "\u001b[K     |████████████████████████████████| 380.5MB 44kB/s \n",
            "\u001b[?25hRequirement already satisfied: wrapt>=1.11.1 in /tensorflow-2.0.0/python3.6 (from tensorflow-gpu==2.0.0-rc1) (1.11.2)\n",
            "Requirement already satisfied: numpy<2.0,>=1.16.0 in /tensorflow-2.0.0/python3.6 (from tensorflow-gpu==2.0.0-rc1) (1.17.4)\n",
            "Requirement already satisfied: keras-applications>=1.0.8 in /tensorflow-2.0.0/python3.6 (from tensorflow-gpu==2.0.0-rc1) (1.0.8)\n",
            "Requirement already satisfied: keras-preprocessing>=1.0.5 in /tensorflow-2.0.0/python3.6 (from tensorflow-gpu==2.0.0-rc1) (1.1.0)\n",
            "Requirement already satisfied: opt-einsum>=2.3.2 in /tensorflow-2.0.0/python3.6 (from tensorflow-gpu==2.0.0-rc1) (3.1.0)\n",
            "Collecting tf-estimator-nightly<1.14.0.dev2019080602,>=1.14.0.dev2019080601\n",
            "\u001b[?25l  Downloading https://files.pythonhosted.org/packages/21/28/f2a27a62943d5f041e4a6fd404b2d21cb7c59b2242a4e73b03d9ba166552/tf_estimator_nightly-1.14.0.dev2019080601-py2.py3-none-any.whl (501kB)\n",
            "\u001b[K     |████████████████████████████████| 501kB 45.3MB/s \n",
            "\u001b[?25hRequirement already satisfied: gast>=0.2.0 in /tensorflow-2.0.0/python3.6 (from tensorflow-gpu==2.0.0-rc1) (0.2.2)\n",
            "Requirement already satisfied: grpcio>=1.8.6 in /tensorflow-2.0.0/python3.6 (from tensorflow-gpu==2.0.0-rc1) (1.25.0)\n",
            "Collecting tb-nightly<1.15.0a20190807,>=1.15.0a20190806\n",
            "\u001b[?25l  Downloading https://files.pythonhosted.org/packages/bc/88/24b5fb7280e74c7cf65bde47c171547fd02afb3840cff41bcbe9270650f5/tb_nightly-1.15.0a20190806-py3-none-any.whl (4.3MB)\n",
            "\u001b[K     |████████████████████████████████| 4.3MB 33.0MB/s \n",
            "\u001b[?25hRequirement already satisfied: absl-py>=0.7.0 in /tensorflow-2.0.0/python3.6 (from tensorflow-gpu==2.0.0-rc1) (0.8.1)\n",
            "Requirement already satisfied: six>=1.10.0 in /tensorflow-2.0.0/python3.6 (from tensorflow-gpu==2.0.0-rc1) (1.13.0)\n",
            "Requirement already satisfied: protobuf>=3.6.1 in /tensorflow-2.0.0/python3.6 (from tensorflow-gpu==2.0.0-rc1) (3.10.0)\n",
            "Requirement already satisfied: termcolor>=1.1.0 in /tensorflow-2.0.0/python3.6 (from tensorflow-gpu==2.0.0-rc1) (1.1.0)\n",
            "Requirement already satisfied: wheel>=0.26 in /tensorflow-2.0.0/python3.6 (from tensorflow-gpu==2.0.0-rc1) (0.33.6)\n",
            "Requirement already satisfied: astor>=0.6.0 in /tensorflow-2.0.0/python3.6 (from tensorflow-gpu==2.0.0-rc1) (0.8.0)\n",
            "Requirement already satisfied: google-pasta>=0.1.6 in /tensorflow-2.0.0/python3.6 (from tensorflow-gpu==2.0.0-rc1) (0.1.8)\n",
            "Requirement already satisfied: h5py in /tensorflow-2.0.0/python3.6 (from keras-applications>=1.0.8->tensorflow-gpu==2.0.0-rc1) (2.10.0)\n",
            "Requirement already satisfied: markdown>=2.6.8 in /tensorflow-2.0.0/python3.6 (from tb-nightly<1.15.0a20190807,>=1.15.0a20190806->tensorflow-gpu==2.0.0-rc1) (3.1.1)\n",
            "Requirement already satisfied: setuptools>=41.0.0 in /tensorflow-2.0.0/python3.6 (from tb-nightly<1.15.0a20190807,>=1.15.0a20190806->tensorflow-gpu==2.0.0-rc1) (41.6.0)\n",
            "Requirement already satisfied: werkzeug>=0.11.15 in /tensorflow-2.0.0/python3.6 (from tb-nightly<1.15.0a20190807,>=1.15.0a20190806->tensorflow-gpu==2.0.0-rc1) (0.16.0)\n",
            "Installing collected packages: tf-estimator-nightly, tb-nightly, tensorflow-gpu\n",
            "  Found existing installation: tensorflow-gpu 2.0.0\n",
            "    Uninstalling tensorflow-gpu-2.0.0:\n",
            "      Successfully uninstalled tensorflow-gpu-2.0.0\n",
            "Successfully installed tb-nightly-1.15.0a20190806 tensorflow-gpu-2.0.0rc1 tf-estimator-nightly-1.14.0.dev2019080601\n"
          ],
          "name": "stdout"
        },
        {
          "output_type": "display_data",
          "data": {
            "application/vnd.colab-display-data+json": {
              "pip_warning": {
                "packages": [
                  "tensorboard",
                  "tensorflow",
                  "tensorflow_core",
                  "tensorflow_estimator"
                ]
              }
            }
          },
          "metadata": {
            "tags": []
          }
        }
      ]
    },
    {
      "cell_type": "code",
      "metadata": {
        "id": "SXCiavp8UAhv",
        "colab_type": "code",
        "colab": {
          "base_uri": "https://localhost:8080/",
          "height": 52
        },
        "outputId": "b0e0cb17-f810-4f88-a4ca-57710d10c031"
      },
      "source": [
        "mnist = tf.keras.datasets.mnist\n",
        "\n",
        "(x_train, y_train), (x_test, y_test) = mnist.load_data()\n",
        "x_train, x_test = x_train / 255.0, x_test / 255.0\n"
      ],
      "execution_count": 36,
      "outputs": [
        {
          "output_type": "stream",
          "text": [
            "Downloading data from https://storage.googleapis.com/tensorflow/tf-keras-datasets/mnist.npz\n",
            "11493376/11490434 [==============================] - 0s 0us/step\n"
          ],
          "name": "stdout"
        }
      ]
    },
    {
      "cell_type": "code",
      "metadata": {
        "id": "nI9ed2N2USlO",
        "colab_type": "code",
        "colab": {
          "base_uri": "https://localhost:8080/",
          "height": 34
        },
        "outputId": "bf49d82c-84dc-4c22-e59e-d9726b8334e0"
      },
      "source": [
        "x_train.shape"
      ],
      "execution_count": 37,
      "outputs": [
        {
          "output_type": "execute_result",
          "data": {
            "text/plain": [
              "(60000, 28, 28)"
            ]
          },
          "metadata": {
            "tags": []
          },
          "execution_count": 37
        }
      ]
    },
    {
      "cell_type": "code",
      "metadata": {
        "id": "gOD0Fzvm0LWx",
        "colab_type": "code",
        "colab": {}
      },
      "source": [
        "\n",
        "x_train=x_train.reshape(x_train.shape[0],28,28,1)\n",
        "x_test=x_test.reshape(x_test.shape[0],28,28,1)"
      ],
      "execution_count": 0,
      "outputs": []
    },
    {
      "cell_type": "markdown",
      "metadata": {
        "id": "Xg9yxc3KTrYX",
        "colab_type": "text"
      },
      "source": [
        "## **2-1) 첫 번째 모델 구성, 훈련, 정확도 평가**"
      ]
    },
    {
      "cell_type": "code",
      "metadata": {
        "id": "VoVh-nKh0Og-",
        "colab_type": "code",
        "colab": {}
      },
      "source": [
        "model21 = tf.keras.models.Sequential([\n",
        "                                      tf.keras.layers.Conv2D(filters=32,kernel_size=(3, 3),strides=(1 ,1),padding='same',activation='relu'),      \n",
        "                                      tf.keras.layers.MaxPooling2D(pool_size = (2,2)),                              \n",
        "                                      tf.keras.layers.Flatten(),\n",
        "                                      tf.keras.layers.Dense(128, activation='relu'),\n",
        "                                      tf.keras.layers.Dropout(0.2),\n",
        "                                      tf.keras.layers.Dense(10, activation='softmax')\n",
        "                                      ])\n",
        "\n",
        "model21.compile(optimizer='adam',\n",
        "              loss='sparse_categorical_crossentropy',\n",
        "              metrics=['accuracy'])\n"
      ],
      "execution_count": 0,
      "outputs": []
    },
    {
      "cell_type": "code",
      "metadata": {
        "id": "0gb32RWc0OfZ",
        "colab_type": "code",
        "outputId": "7da5d2c4-d832-44d5-ddb4-3c9dcd5c3283",
        "colab": {
          "base_uri": "https://localhost:8080/",
          "height": 265
        }
      },
      "source": [
        " model21.fit(x_train, y_train, epochs=5)\n",
        " \n",
        " test21_loss, test21_acc = model21.evaluate(x_test,  y_test, verbose=2)\n",
        "\n",
        "print('\\n테스트 정확도:', test21_acc)"
      ],
      "execution_count": 40,
      "outputs": [
        {
          "output_type": "stream",
          "text": [
            "Train on 60000 samples\n",
            "Epoch 1/5\n",
            "60000/60000 [==============================] - 10s 163us/sample - loss: 0.1766 - accuracy: 0.9465\n",
            "Epoch 2/5\n",
            "60000/60000 [==============================] - 9s 150us/sample - loss: 0.0649 - accuracy: 0.9802\n",
            "Epoch 3/5\n",
            "60000/60000 [==============================] - 9s 151us/sample - loss: 0.0444 - accuracy: 0.9860\n",
            "Epoch 4/5\n",
            "60000/60000 [==============================] - 9s 150us/sample - loss: 0.0342 - accuracy: 0.9893\n",
            "Epoch 5/5\n",
            "60000/60000 [==============================] - 9s 151us/sample - loss: 0.0244 - accuracy: 0.9919\n",
            "10000/1 - 1s - loss: 0.0208 - accuracy: 0.9868\n",
            "\n",
            "테스트 정확도: 0.9868\n"
          ],
          "name": "stdout"
        }
      ]
    },
    {
      "cell_type": "markdown",
      "metadata": {
        "id": "A3PL5c2xNKG1",
        "colab_type": "text"
      },
      "source": [
        "## **2-2) 두 번째 모델 구성, 훈련, 정확도 평가**"
      ]
    },
    {
      "cell_type": "code",
      "metadata": {
        "id": "LFiTh5us0OVq",
        "colab_type": "code",
        "colab": {}
      },
      "source": [
        "model22 = tf.keras.models.Sequential([\n",
        "  tf.keras.layers.Conv2D(filters=32,kernel_size=(3, 3),strides=(1 ,1), padding='same',activation='relu'),      \n",
        "  tf.keras.layers.MaxPooling2D(pool_size = (2,2)),  \n",
        "  tf.keras.layers.Conv2D(filters=64,kernel_size=(3, 3),strides=(1 ,1), padding='valid',activation='relu'),      \n",
        "  tf.keras.layers.MaxPooling2D(pool_size = (2,2)),                              \n",
        "  tf.keras.layers.Flatten(),\n",
        "  tf.keras.layers.Dense(128, activation='relu'),\n",
        "  tf.keras.layers.Dropout(0.2),\n",
        "  tf.keras.layers.Dense(10, activation='softmax')\n",
        "])\n",
        "\n",
        "model22.compile(optimizer='adam',\n",
        "              loss='sparse_categorical_crossentropy',\n",
        "              metrics=['accuracy'])"
      ],
      "execution_count": 0,
      "outputs": []
    },
    {
      "cell_type": "code",
      "metadata": {
        "id": "QHg6E_6k0OJA",
        "colab_type": "code",
        "outputId": "37c4857f-f6fc-448e-a4e2-7dd4af6b0d4f",
        "colab": {
          "base_uri": "https://localhost:8080/",
          "height": 265
        }
      },
      "source": [
        "model22.fit(x_train, y_train, epochs=5) \n",
        "\n",
        "test22_loss, test22_acc = model22.evaluate(x_test,  y_test, verbose=2)\n",
        "\n",
        "print('\\n테스트 정확도:', test22_acc)"
      ],
      "execution_count": 42,
      "outputs": [
        {
          "output_type": "stream",
          "text": [
            "Train on 60000 samples\n",
            "Epoch 1/5\n",
            "60000/60000 [==============================] - 11s 188us/sample - loss: 0.1450 - accuracy: 0.9553\n",
            "Epoch 2/5\n",
            "60000/60000 [==============================] - 11s 179us/sample - loss: 0.0491 - accuracy: 0.9851\n",
            "Epoch 3/5\n",
            "60000/60000 [==============================] - 11s 179us/sample - loss: 0.0336 - accuracy: 0.9894\n",
            "Epoch 4/5\n",
            "60000/60000 [==============================] - 11s 188us/sample - loss: 0.0255 - accuracy: 0.9916\n",
            "Epoch 5/5\n",
            "60000/60000 [==============================] - 11s 184us/sample - loss: 0.0207 - accuracy: 0.9931\n",
            "10000/1 - 1s - loss: 0.0115 - accuracy: 0.9923\n",
            "\n",
            "테스트 정확도: 0.9923\n"
          ],
          "name": "stdout"
        }
      ]
    },
    {
      "cell_type": "markdown",
      "metadata": {
        "colab_type": "text",
        "id": "tJtZA7VMV0Q3"
      },
      "source": [
        "## **2-3) 세 번째 모델 구성, 훈련, 정확도 평가**"
      ]
    },
    {
      "cell_type": "code",
      "metadata": {
        "colab_type": "code",
        "id": "UR1LP3DQV0Q9",
        "colab": {}
      },
      "source": [
        "model23 = tf.keras.models.Sequential([\n",
        "  tf.keras.layers.Conv2D(filters=32,kernel_size=(3, 3),strides=(1 ,1),  padding='same',activation='relu'),      \n",
        "  tf.keras.layers.MaxPooling2D(pool_size = (2,2)),  \n",
        "  tf.keras.layers.Conv2D(filters=64,kernel_size=(3, 3),strides=(1 ,1), padding='valid',activation='relu'),      \n",
        "  tf.keras.layers.MaxPooling2D(pool_size = (2,2)),              \n",
        "  tf.keras.layers.Conv2D(filters=64,kernel_size=(3, 3),strides=(1 ,1), padding='valid',activation='relu'),      \n",
        "  tf.keras.layers.AveragePooling2D(pool_size=2, padding='valid'),             \n",
        "  tf.keras.layers.Flatten(),\n",
        "  tf.keras.layers.Dense(128, activation='relu'),\n",
        "  tf.keras.layers.Dropout(0.2),\n",
        "  tf.keras.layers.Dense(10, activation='softmax')\n",
        "])\n",
        "\n",
        "model23.compile(optimizer='adam',\n",
        "              loss='sparse_categorical_crossentropy',\n",
        "              metrics=['accuracy'])"
      ],
      "execution_count": 0,
      "outputs": []
    },
    {
      "cell_type": "code",
      "metadata": {
        "colab_type": "code",
        "outputId": "5902fef7-b544-429c-8f07-a720544fbf6c",
        "id": "30p7WeKEV0RF",
        "colab": {
          "base_uri": "https://localhost:8080/",
          "height": 265
        }
      },
      "source": [
        "model23.fit(x_train, y_train, epochs=5) \n",
        "\n",
        "test23_loss, test23_acc = model23.evaluate(x_test,  y_test, verbose=2)\n",
        "\n",
        "print('\\n테스트 정확도:', test23_acc)"
      ],
      "execution_count": 44,
      "outputs": [
        {
          "output_type": "stream",
          "text": [
            "Train on 60000 samples\n",
            "Epoch 1/5\n",
            "60000/60000 [==============================] - 13s 209us/sample - loss: 0.1923 - accuracy: 0.9380\n",
            "Epoch 2/5\n",
            "60000/60000 [==============================] - 12s 197us/sample - loss: 0.0548 - accuracy: 0.9836\n",
            "Epoch 3/5\n",
            "60000/60000 [==============================] - 12s 196us/sample - loss: 0.0409 - accuracy: 0.9873\n",
            "Epoch 4/5\n",
            "60000/60000 [==============================] - 12s 196us/sample - loss: 0.0325 - accuracy: 0.9904\n",
            "Epoch 5/5\n",
            "60000/60000 [==============================] - 12s 198us/sample - loss: 0.0258 - accuracy: 0.9918\n",
            "10000/1 - 1s - loss: 0.0157 - accuracy: 0.9894\n",
            "\n",
            "테스트 정확도: 0.9894\n"
          ],
          "name": "stdout"
        }
      ]
    },
    {
      "cell_type": "markdown",
      "metadata": {
        "colab_type": "text",
        "id": "_nm0Rjf6WteI"
      },
      "source": [
        "### **3) 결론**"
      ]
    },
    {
      "cell_type": "code",
      "metadata": {
        "colab_type": "code",
        "outputId": "fe3f9f78-4d2f-4e33-83eb-0ba56bfbf13e",
        "id": "oYWTfA2qWteQ",
        "colab": {
          "base_uri": "https://localhost:8080/",
          "height": 87
        }
      },
      "source": [
        "print('\\n 첫 번째 모델에서의 테스트 정확도:', test21_acc ,\n",
        "      '\\n 두 번째 모델에서의 테스트 정확도:', test22_acc ,\n",
        "      '\\n 세 번째 모델에서의 테스트 정확도:', test23_acc  )"
      ],
      "execution_count": 45,
      "outputs": [
        {
          "output_type": "stream",
          "text": [
            "\n",
            " 첫 번째 모델에서의 테스트 정확도: 0.9868 \n",
            " 두 번째 모델에서의 테스트 정확도: 0.9923 \n",
            " 세 번째 모델에서의 테스트 정확도: 0.9894\n"
          ],
          "name": "stdout"
        }
      ]
    },
    {
      "cell_type": "markdown",
      "metadata": {
        "colab_type": "text",
        "id": "wgDXlmqDWteX"
      },
      "source": [
        "> **Mnist 데이터를 가장 잘 적합시키는 CNN 기반 모형은 두 번째 모델입니다.**"
      ]
    },
    {
      "cell_type": "code",
      "metadata": {
        "colab_type": "code",
        "outputId": "5130688d-7856-4e18-9dd2-77126114fd79",
        "id": "hrlUQfnBWteY",
        "colab": {
          "base_uri": "https://localhost:8080/",
          "height": 443
        }
      },
      "source": [
        "model22.summary()"
      ],
      "execution_count": 48,
      "outputs": [
        {
          "output_type": "stream",
          "text": [
            "Model: \"sequential_6\"\n",
            "_________________________________________________________________\n",
            "Layer (type)                 Output Shape              Param #   \n",
            "=================================================================\n",
            "conv2d_15 (Conv2D)           multiple                  320       \n",
            "_________________________________________________________________\n",
            "max_pooling2d_3 (MaxPooling2 multiple                  0         \n",
            "_________________________________________________________________\n",
            "conv2d_16 (Conv2D)           multiple                  18496     \n",
            "_________________________________________________________________\n",
            "max_pooling2d_4 (MaxPooling2 multiple                  0         \n",
            "_________________________________________________________________\n",
            "flatten_6 (Flatten)          multiple                  0         \n",
            "_________________________________________________________________\n",
            "dense_12 (Dense)             multiple                  295040    \n",
            "_________________________________________________________________\n",
            "dropout_1 (Dropout)          multiple                  0         \n",
            "_________________________________________________________________\n",
            "dense_13 (Dense)             multiple                  1290      \n",
            "=================================================================\n",
            "Total params: 315,146\n",
            "Trainable params: 315,146\n",
            "Non-trainable params: 0\n",
            "_________________________________________________________________\n"
          ],
          "name": "stdout"
        }
      ]
    }
  ]
}