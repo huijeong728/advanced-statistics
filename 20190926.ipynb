{
 "cells": [
  {
   "cell_type": "markdown",
   "metadata": {},
   "source": [
    "# 20190926 고급통계학 "
   ]
  },
  {
   "cell_type": "markdown",
   "metadata": {},
   "source": [
    "## [**R for Data science**](https://r4ds.had.co.nz)"
   ]
  },
  {
   "cell_type": "code",
   "execution_count": 1,
   "metadata": {
    "scrolled": true
   },
   "outputs": [
    {
     "name": "stderr",
     "output_type": "stream",
     "text": [
      "Registered S3 methods overwritten by 'ggplot2':\n",
      "  method         from \n",
      "  [.quosures     rlang\n",
      "  c.quosures     rlang\n",
      "  print.quosures rlang\n",
      "Registered S3 method overwritten by 'rvest':\n",
      "  method            from\n",
      "  read_xml.response xml2\n",
      "-- Attaching packages --------------------------------------- tidyverse 1.2.1 --\n",
      "√ ggplot2 3.1.1       √ purrr   0.3.2  \n",
      "√ tibble  2.1.1       √ dplyr   0.8.0.1\n",
      "√ tidyr   0.8.3       √ stringr 1.4.0  \n",
      "√ readr   1.3.1       √ forcats 0.4.0  \n",
      "-- Conflicts ------------------------------------------ tidyverse_conflicts() --\n",
      "x dplyr::filter() masks stats::filter()\n",
      "x dplyr::lag()    masks stats::lag()\n"
     ]
    }
   ],
   "source": [
    "library(tidyverse)"
   ]
  },
  {
   "cell_type": "code",
   "execution_count": 2,
   "metadata": {},
   "outputs": [
    {
     "data": {
      "text/html": [
       "<table>\n",
       "<thead><tr><th scope=col>manufacturer</th><th scope=col>model</th><th scope=col>displ</th><th scope=col>year</th><th scope=col>cyl</th><th scope=col>trans</th><th scope=col>drv</th><th scope=col>cty</th><th scope=col>hwy</th><th scope=col>fl</th><th scope=col>class</th></tr></thead>\n",
       "<tbody>\n",
       "\t<tr><td>audi      </td><td>a4        </td><td>1.8       </td><td>1999      </td><td>4         </td><td>auto(l5)  </td><td>f         </td><td>18        </td><td>29        </td><td>p         </td><td>compact   </td></tr>\n",
       "\t<tr><td>audi      </td><td>a4        </td><td>1.8       </td><td>1999      </td><td>4         </td><td>manual(m5)</td><td>f         </td><td>21        </td><td>29        </td><td>p         </td><td>compact   </td></tr>\n",
       "\t<tr><td>audi      </td><td>a4        </td><td>2.0       </td><td>2008      </td><td>4         </td><td>manual(m6)</td><td>f         </td><td>20        </td><td>31        </td><td>p         </td><td>compact   </td></tr>\n",
       "\t<tr><td>audi      </td><td>a4        </td><td>2.0       </td><td>2008      </td><td>4         </td><td>auto(av)  </td><td>f         </td><td>21        </td><td>30        </td><td>p         </td><td>compact   </td></tr>\n",
       "\t<tr><td>audi      </td><td>a4        </td><td>2.8       </td><td>1999      </td><td>6         </td><td>auto(l5)  </td><td>f         </td><td>16        </td><td>26        </td><td>p         </td><td>compact   </td></tr>\n",
       "</tbody>\n",
       "</table>\n"
      ],
      "text/latex": [
       "\\begin{tabular}{r|lllllllllll}\n",
       " manufacturer & model & displ & year & cyl & trans & drv & cty & hwy & fl & class\\\\\n",
       "\\hline\n",
       "\t audi       & a4         & 1.8        & 1999       & 4          & auto(l5)   & f          & 18         & 29         & p          & compact   \\\\\n",
       "\t audi       & a4         & 1.8        & 1999       & 4          & manual(m5) & f          & 21         & 29         & p          & compact   \\\\\n",
       "\t audi       & a4         & 2.0        & 2008       & 4          & manual(m6) & f          & 20         & 31         & p          & compact   \\\\\n",
       "\t audi       & a4         & 2.0        & 2008       & 4          & auto(av)   & f          & 21         & 30         & p          & compact   \\\\\n",
       "\t audi       & a4         & 2.8        & 1999       & 6          & auto(l5)   & f          & 16         & 26         & p          & compact   \\\\\n",
       "\\end{tabular}\n"
      ],
      "text/markdown": [
       "\n",
       "| manufacturer | model | displ | year | cyl | trans | drv | cty | hwy | fl | class |\n",
       "|---|---|---|---|---|---|---|---|---|---|---|\n",
       "| audi       | a4         | 1.8        | 1999       | 4          | auto(l5)   | f          | 18         | 29         | p          | compact    |\n",
       "| audi       | a4         | 1.8        | 1999       | 4          | manual(m5) | f          | 21         | 29         | p          | compact    |\n",
       "| audi       | a4         | 2.0        | 2008       | 4          | manual(m6) | f          | 20         | 31         | p          | compact    |\n",
       "| audi       | a4         | 2.0        | 2008       | 4          | auto(av)   | f          | 21         | 30         | p          | compact    |\n",
       "| audi       | a4         | 2.8        | 1999       | 6          | auto(l5)   | f          | 16         | 26         | p          | compact    |\n",
       "\n"
      ],
      "text/plain": [
       "  manufacturer model displ year cyl trans      drv cty hwy fl class  \n",
       "1 audi         a4    1.8   1999 4   auto(l5)   f   18  29  p  compact\n",
       "2 audi         a4    1.8   1999 4   manual(m5) f   21  29  p  compact\n",
       "3 audi         a4    2.0   2008 4   manual(m6) f   20  31  p  compact\n",
       "4 audi         a4    2.0   2008 4   auto(av)   f   21  30  p  compact\n",
       "5 audi         a4    2.8   1999 6   auto(l5)   f   16  26  p  compact"
      ]
     },
     "metadata": {},
     "output_type": "display_data"
    }
   ],
   "source": [
    "mpg[1:5,]"
   ]
  },
  {
   "cell_type": "code",
   "execution_count": 3,
   "metadata": {
    "scrolled": true
   },
   "outputs": [
    {
     "data": {
      "text/html": [
       "<ol class=list-inline>\n",
       "\t<li>'tbl_df'</li>\n",
       "\t<li>'tbl'</li>\n",
       "\t<li>'data.frame'</li>\n",
       "</ol>\n"
      ],
      "text/latex": [
       "\\begin{enumerate*}\n",
       "\\item 'tbl\\_df'\n",
       "\\item 'tbl'\n",
       "\\item 'data.frame'\n",
       "\\end{enumerate*}\n"
      ],
      "text/markdown": [
       "1. 'tbl_df'\n",
       "2. 'tbl'\n",
       "3. 'data.frame'\n",
       "\n",
       "\n"
      ],
      "text/plain": [
       "[1] \"tbl_df\"     \"tbl\"        \"data.frame\""
      ]
     },
     "metadata": {},
     "output_type": "display_data"
    }
   ],
   "source": [
    "class(mpg)"
   ]
  },
  {
   "cell_type": "markdown",
   "metadata": {},
   "source": [
    "tbl_df 형태로 바꿔주면 tidyverse를 활용할 수 있다. 주피터 노트북에서는 볼수 없음 *tbl_df()*"
   ]
  },
  {
   "cell_type": "code",
   "execution_count": 13,
   "metadata": {},
   "outputs": [
    {
     "data": {
      "text/html": [
       "<ol class=list-inline>\n",
       "\t<li>'compact'</li>\n",
       "\t<li>'midsize'</li>\n",
       "\t<li>'suv'</li>\n",
       "\t<li>'2seater'</li>\n",
       "\t<li>'minivan'</li>\n",
       "\t<li>'pickup'</li>\n",
       "\t<li>'subcompact'</li>\n",
       "</ol>\n"
      ],
      "text/latex": [
       "\\begin{enumerate*}\n",
       "\\item 'compact'\n",
       "\\item 'midsize'\n",
       "\\item 'suv'\n",
       "\\item '2seater'\n",
       "\\item 'minivan'\n",
       "\\item 'pickup'\n",
       "\\item 'subcompact'\n",
       "\\end{enumerate*}\n"
      ],
      "text/markdown": [
       "1. 'compact'\n",
       "2. 'midsize'\n",
       "3. 'suv'\n",
       "4. '2seater'\n",
       "5. 'minivan'\n",
       "6. 'pickup'\n",
       "7. 'subcompact'\n",
       "\n",
       "\n"
      ],
      "text/plain": [
       "[1] \"compact\"    \"midsize\"    \"suv\"        \"2seater\"    \"minivan\"   \n",
       "[6] \"pickup\"     \"subcompact\""
      ]
     },
     "metadata": {},
     "output_type": "display_data"
    }
   ],
   "source": [
    "unique(mpg$class)"
   ]
  },
  {
   "cell_type": "code",
   "execution_count": 4,
   "metadata": {},
   "outputs": [
    {
     "data": {
      "image/png": "[encoded data removed]",
      "text/plain": [
       "plot without title"
      ]
     },
     "metadata": {},
     "output_type": "display_data"
    }
   ],
   "source": [
    "ggplot(data = mpg) + \n",
    "  geom_point(mapping = aes(x = displ, y = hwy))"
   ]
  },
  {
   "cell_type": "code",
   "execution_count": 6,
   "metadata": {},
   "outputs": [
    {
     "data": {
      "image/png": "[encoded data removed]",
      "text/plain": [
       "plot without title"
      ]
     },
     "metadata": {},
     "output_type": "display_data"
    }
   ],
   "source": [
    "ggplot(data = mpg, aes(x = displ, y = hwy, color = class )) + \n",
    "  geom_point()"
   ]
  },
  {
   "cell_type": "code",
   "execution_count": 10,
   "metadata": {},
   "outputs": [
    {
     "data": {
      "image/png": "[encoded data removed]",
      "text/plain": [
       "plot without title"
      ]
     },
     "metadata": {},
     "output_type": "display_data"
    }
   ],
   "source": [
    "ggplot(data = mpg, aes(x = displ, y = hwy, size = cyl )) + \n",
    "  geom_point()"
   ]
  },
  {
   "cell_type": "code",
   "execution_count": 11,
   "metadata": {},
   "outputs": [
    {
     "data": {
      "image/png": "[encoded data removed]",
      "text/plain": [
       "plot without title"
      ]
     },
     "metadata": {},
     "output_type": "display_data"
    }
   ],
   "source": [
    "ggplot(data = mpg, aes(x = displ, y = hwy, alpha = cyl )) + \n",
    "  geom_point()"
   ]
  },
  {
   "cell_type": "code",
   "execution_count": 12,
   "metadata": {},
   "outputs": [
    {
     "name": "stderr",
     "output_type": "stream",
     "text": [
      "Warning message:\n",
      "\"The shape palette can deal with a maximum of 6 discrete values because\n",
      "more than 6 becomes difficult to discriminate; you have 7. Consider\n",
      "specifying shapes manually if you must have them.\"Warning message:\n",
      "\"Removed 62 rows containing missing values (geom_point).\""
     ]
    },
    {
     "data": {
      "image/png": "[encoded data removed]",
      "text/plain": [
       "plot without title"
      ]
     },
     "metadata": {},
     "output_type": "display_data"
    }
   ],
   "source": [
    "ggplot(data = mpg, aes(x = displ, y = hwy, shape = class )) + \n",
    "  geom_point()"
   ]
  },
  {
   "cell_type": "markdown",
   "metadata": {},
   "source": [
    "## [**facets guide**](https://r4ds.had.co.nz/data-visualisation.html#facets)"
   ]
  },
  {
   "cell_type": "code",
   "execution_count": 15,
   "metadata": {
    "scrolled": false
   },
   "outputs": [
    {
     "data": {
      "image/png": "[encoded data removed]",
      "text/plain": [
       "plot without title"
      ]
     },
     "metadata": {},
     "output_type": "display_data"
    }
   ],
   "source": [
    "ggplot(data = mpg , aes(x = displ, y = hwy)) + \n",
    "  geom_point() +  # geom poing 점으로 보여달라\n",
    "  facet_wrap(~ class, nrow = 2)"
   ]
  },
  {
   "cell_type": "code",
   "execution_count": 16,
   "metadata": {
    "scrolled": false
   },
   "outputs": [
    {
     "data": {
      "image/png": "[encoded data removed]",
      "text/plain": [
       "plot without title"
      ]
     },
     "metadata": {},
     "output_type": "display_data"
    }
   ],
   "source": [
    "ggplot(data = mpg) + \n",
    "  geom_point(mapping = aes(x = displ, y = hwy)) + \n",
    "  facet_grid(drv ~ cyl)"
   ]
  },
  {
   "cell_type": "markdown",
   "metadata": {},
   "source": [
    "## [**geom**](https://r4ds.had.co.nz/data-visualisation.html#geometric-objects)"
   ]
  },
  {
   "cell_type": "code",
   "execution_count": 18,
   "metadata": {},
   "outputs": [
    {
     "name": "stderr",
     "output_type": "stream",
     "text": [
      "`geom_smooth()` using method = 'loess' and formula 'y ~ x'\n"
     ]
    },
    {
     "data": {
      "image/png": "[encoded data removed]",
      "text/plain": [
       "plot without title"
      ]
     },
     "metadata": {},
     "output_type": "display_data"
    }
   ],
   "source": [
    "ggplot(data = mpg) + \n",
    "  geom_smooth(mapping = aes(x = displ, y = hwy)) # smooth 할 때 loess (비선형회귀모형)"
   ]
  },
  {
   "cell_type": "code",
   "execution_count": 19,
   "metadata": {},
   "outputs": [
    {
     "name": "stderr",
     "output_type": "stream",
     "text": [
      "`geom_smooth()` using method = 'loess' and formula 'y ~ x'\n"
     ]
    },
    {
     "data": {
      "image/png": "[encoded data removed]",
      "text/plain": [
       "plot without title"
      ]
     },
     "metadata": {},
     "output_type": "display_data"
    }
   ],
   "source": [
    "ggplot(data = mpg) + \n",
    "  geom_point(mapping = aes(x = displ, y = hwy)) +\n",
    "  geom_smooth(mapping = aes(x = displ, y = hwy))"
   ]
  },
  {
   "cell_type": "code",
   "execution_count": 20,
   "metadata": {},
   "outputs": [
    {
     "data": {
      "image/png": "[encoded data removed]",
      "text/plain": [
       "plot without title"
      ]
     },
     "metadata": {},
     "output_type": "display_data"
    }
   ],
   "source": [
    "ggplot(data = diamonds) + \n",
    "  geom_bar(mapping = aes(x = cut))"
   ]
  },
  {
   "cell_type": "markdown",
   "metadata": {},
   "source": [
    "## [**Theme**](https://r4ds.had.co.nz/data-visualisation.html#geometric-objects)"
   ]
  },
  {
   "cell_type": "code",
   "execution_count": 26,
   "metadata": {},
   "outputs": [
    {
     "data": {
      "image/png": "[encoded data removed]",
      "text/plain": [
       "plot without title"
      ]
     },
     "metadata": {},
     "output_type": "display_data"
    }
   ],
   "source": [
    "ggplot(data =mpg ,aes(x=displ, y=hwy)) + \n",
    "  geom_point() +\n",
    "  facet_wrap(~ class, nrow=2) + theme_bw() +\n",
    "  theme(axis.line=element_line(size= .8, color=\"black\"),\n",
    "       panel.grid.minor=element_blank(),\n",
    "       panel.border = element_blank(),\n",
    "       text = element_text(size=25)\n",
    "       )"
   ]
  },
  {
   "cell_type": "raw",
   "metadata": {},
   "source": [
    "그림 저장 eps로 저장 tiff를 해상도를 가장 높여서 저장 "
   ]
  },
  {
   "cell_type": "code",
   "execution_count": null,
   "metadata": {},
   "outputs": [],
   "source": [
    "postscript(file = \"test.eps\", width=7, height=7)\n",
    "ggplot(data=mpg)+\n",
    " geom_point(mapping = aes(x=disql, y=hwy)) + theme_bw() +\n",
    " theme(axis.line = element_line(size=.8, color = \"black\"),\n",
    "      panel.grid.minor=element_blank(),\n",
    "       panel.border = element_blank(),\n",
    "       text = element_text(size=25)\n",
    "       )\n",
    "dev.off"
   ]
  },
  {
   "cell_type": "code",
   "execution_count": 25,
   "metadata": {},
   "outputs": [
    {
     "data": {
      "image/png": "[encoded data removed]",
      "text/plain": [
       "plot without title"
      ]
     },
     "metadata": {},
     "output_type": "display_data"
    }
   ],
   "source": [
    "ggplot(data = mpg ) + \n",
    "  geom_point(mapping = aes(x=displ, y=hwy)) + theme_bw() +\n",
    "  theme(axis.line=element_line(size= .8, color=\"black\"),\n",
    "       panel.grid.minor=element_blank(),\n",
    "       panel.border = element_blank(),\n",
    "       text = element_text(size=25)\n",
    "       )"
   ]
  },
  {
   "cell_type": "code",
   "execution_count": 30,
   "metadata": {},
   "outputs": [
    {
     "data": {
      "image/png": "[encoded data removed]",
      "text/plain": [
       "plot without title"
      ]
     },
     "metadata": {},
     "output_type": "display_data"
    }
   ],
   "source": [
    "ggplot(data =mpg ,aes(x=displ, y=hwy)) + \n",
    "  geom_point() +\n",
    "  facet_wrap(~ class, nrow=2) + theme_bw() +\n",
    "  theme(axis.line=element_line(size= .7, color=\"black\"),\n",
    "       panel.grid.minor=element_blank(),\n",
    "       panel.border = element_blank(),\n",
    "       text = element_text(size=24)\n",
    "       )"
   ]
  },
  {
   "cell_type": "markdown",
   "metadata": {},
   "source": [
    "## dplyr"
   ]
  },
  {
   "cell_type": "markdown",
   "metadata": {},
   "source": [
    "## [**filter**](https://r4ds.had.co.nz/transform.html#filter-rows-with-filter)"
   ]
  },
  {
   "cell_type": "code",
   "execution_count": 41,
   "metadata": {},
   "outputs": [
    {
     "name": "stdout",
     "output_type": "stream",
     "text": [
      "package 'nycflights13' successfully unpacked and MD5 sums checked\n",
      "\n",
      "The downloaded binary packages are in\n",
      "\tC:\\Users\\Administrator\\AppData\\Local\\Temp\\Rtmpa6LFSc\\downloaded_packages\n"
     ]
    }
   ],
   "source": [
    "install.packages(\"nycflights13\")"
   ]
  },
  {
   "cell_type": "code",
   "execution_count": 43,
   "metadata": {},
   "outputs": [],
   "source": [
    "library(nycflights13)"
   ]
  },
  {
   "cell_type": "code",
   "execution_count": 87,
   "metadata": {},
   "outputs": [
    {
     "data": {
      "text/html": [
       "<table>\n",
       "<thead><tr><th scope=col>year</th><th scope=col>month</th><th scope=col>day</th><th scope=col>dep_time</th><th scope=col>sched_dep_time</th><th scope=col>dep_delay</th><th scope=col>arr_time</th><th scope=col>sched_arr_time</th><th scope=col>arr_delay</th><th scope=col>carrier</th><th scope=col>flight</th><th scope=col>tailnum</th><th scope=col>origin</th><th scope=col>dest</th><th scope=col>air_time</th><th scope=col>distance</th><th scope=col>hour</th><th scope=col>minute</th><th scope=col>time_hour</th></tr></thead>\n",
       "<tbody>\n",
       "\t<tr><td>2013               </td><td>1                  </td><td>1                  </td><td>517                </td><td>515                </td><td> 2                 </td><td> 830               </td><td> 819               </td><td> 11                </td><td>UA                 </td><td>1545               </td><td>N14228             </td><td>EWR                </td><td>IAH                </td><td>227                </td><td>1400               </td><td>5                  </td><td>15                 </td><td>2013-01-01 05:00:00</td></tr>\n",
       "\t<tr><td>2013               </td><td>1                  </td><td>1                  </td><td>533                </td><td>529                </td><td> 4                 </td><td> 850               </td><td> 830               </td><td> 20                </td><td>UA                 </td><td>1714               </td><td>N24211             </td><td>LGA                </td><td>IAH                </td><td>227                </td><td>1416               </td><td>5                  </td><td>29                 </td><td>2013-01-01 05:00:00</td></tr>\n",
       "\t<tr><td>2013               </td><td>1                  </td><td>1                  </td><td>542                </td><td>540                </td><td> 2                 </td><td> 923               </td><td> 850               </td><td> 33                </td><td>AA                 </td><td>1141               </td><td>N619AA             </td><td>JFK                </td><td>MIA                </td><td>160                </td><td>1089               </td><td>5                  </td><td>40                 </td><td>2013-01-01 05:00:00</td></tr>\n",
       "\t<tr><td>2013               </td><td>1                  </td><td>1                  </td><td>544                </td><td>545                </td><td>-1                 </td><td>1004               </td><td>1022               </td><td>-18                </td><td>B6                 </td><td> 725               </td><td>N804JB             </td><td>JFK                </td><td>BQN                </td><td>183                </td><td>1576               </td><td>5                  </td><td>45                 </td><td>2013-01-01 05:00:00</td></tr>\n",
       "\t<tr><td>2013               </td><td>1                  </td><td>1                  </td><td>554                </td><td>600                </td><td>-6                 </td><td> 812               </td><td> 837               </td><td>-25                </td><td>DL                 </td><td> 461               </td><td>N668DN             </td><td>LGA                </td><td>ATL                </td><td>116                </td><td> 762               </td><td>6                  </td><td> 0                 </td><td>2013-01-01 06:00:00</td></tr>\n",
       "\t<tr><td>2013               </td><td>1                  </td><td>1                  </td><td>554                </td><td>558                </td><td>-4                 </td><td> 740               </td><td> 728               </td><td> 12                </td><td>UA                 </td><td>1696               </td><td>N39463             </td><td>EWR                </td><td>ORD                </td><td>150                </td><td> 719               </td><td>5                  </td><td>58                 </td><td>2013-01-01 05:00:00</td></tr>\n",
       "</tbody>\n",
       "</table>\n"
      ],
      "text/latex": [
       "\\begin{tabular}{r|lllllllllllllllllll}\n",
       " year & month & day & dep\\_time & sched\\_dep\\_time & dep\\_delay & arr\\_time & sched\\_arr\\_time & arr\\_delay & carrier & flight & tailnum & origin & dest & air\\_time & distance & hour & minute & time\\_hour\\\\\n",
       "\\hline\n",
       "\t 2013                & 1                   & 1                   & 517                 & 515                 &  2                  &  830                &  819                &  11                 & UA                  & 1545                & N14228              & EWR                 & IAH                 & 227                 & 1400                & 5                   & 15                  & 2013-01-01 05:00:00\\\\\n",
       "\t 2013                & 1                   & 1                   & 533                 & 529                 &  4                  &  850                &  830                &  20                 & UA                  & 1714                & N24211              & LGA                 & IAH                 & 227                 & 1416                & 5                   & 29                  & 2013-01-01 05:00:00\\\\\n",
       "\t 2013                & 1                   & 1                   & 542                 & 540                 &  2                  &  923                &  850                &  33                 & AA                  & 1141                & N619AA              & JFK                 & MIA                 & 160                 & 1089                & 5                   & 40                  & 2013-01-01 05:00:00\\\\\n",
       "\t 2013                & 1                   & 1                   & 544                 & 545                 & -1                  & 1004                & 1022                & -18                 & B6                  &  725                & N804JB              & JFK                 & BQN                 & 183                 & 1576                & 5                   & 45                  & 2013-01-01 05:00:00\\\\\n",
       "\t 2013                & 1                   & 1                   & 554                 & 600                 & -6                  &  812                &  837                & -25                 & DL                  &  461                & N668DN              & LGA                 & ATL                 & 116                 &  762                & 6                   &  0                  & 2013-01-01 06:00:00\\\\\n",
       "\t 2013                & 1                   & 1                   & 554                 & 558                 & -4                  &  740                &  728                &  12                 & UA                  & 1696                & N39463              & EWR                 & ORD                 & 150                 &  719                & 5                   & 58                  & 2013-01-01 05:00:00\\\\\n",
       "\\end{tabular}\n"
      ],
      "text/markdown": [
       "\n",
       "| year | month | day | dep_time | sched_dep_time | dep_delay | arr_time | sched_arr_time | arr_delay | carrier | flight | tailnum | origin | dest | air_time | distance | hour | minute | time_hour |\n",
       "|---|---|---|---|---|---|---|---|---|---|---|---|---|---|---|---|---|---|---|\n",
       "| 2013                | 1                   | 1                   | 517                 | 515                 |  2                  |  830                |  819                |  11                 | UA                  | 1545                | N14228              | EWR                 | IAH                 | 227                 | 1400                | 5                   | 15                  | 2013-01-01 05:00:00 |\n",
       "| 2013                | 1                   | 1                   | 533                 | 529                 |  4                  |  850                |  830                |  20                 | UA                  | 1714                | N24211              | LGA                 | IAH                 | 227                 | 1416                | 5                   | 29                  | 2013-01-01 05:00:00 |\n",
       "| 2013                | 1                   | 1                   | 542                 | 540                 |  2                  |  923                |  850                |  33                 | AA                  | 1141                | N619AA              | JFK                 | MIA                 | 160                 | 1089                | 5                   | 40                  | 2013-01-01 05:00:00 |\n",
       "| 2013                | 1                   | 1                   | 544                 | 545                 | -1                  | 1004                | 1022                | -18                 | B6                  |  725                | N804JB              | JFK                 | BQN                 | 183                 | 1576                | 5                   | 45                  | 2013-01-01 05:00:00 |\n",
       "| 2013                | 1                   | 1                   | 554                 | 600                 | -6                  |  812                |  837                | -25                 | DL                  |  461                | N668DN              | LGA                 | ATL                 | 116                 |  762                | 6                   |  0                  | 2013-01-01 06:00:00 |\n",
       "| 2013                | 1                   | 1                   | 554                 | 558                 | -4                  |  740                |  728                |  12                 | UA                  | 1696                | N39463              | EWR                 | ORD                 | 150                 |  719                | 5                   | 58                  | 2013-01-01 05:00:00 |\n",
       "\n"
      ],
      "text/plain": [
       "  year month day dep_time sched_dep_time dep_delay arr_time sched_arr_time\n",
       "1 2013 1     1   517      515             2         830      819          \n",
       "2 2013 1     1   533      529             4         850      830          \n",
       "3 2013 1     1   542      540             2         923      850          \n",
       "4 2013 1     1   544      545            -1        1004     1022          \n",
       "5 2013 1     1   554      600            -6         812      837          \n",
       "6 2013 1     1   554      558            -4         740      728          \n",
       "  arr_delay carrier flight tailnum origin dest air_time distance hour minute\n",
       "1  11       UA      1545   N14228  EWR    IAH  227      1400     5    15    \n",
       "2  20       UA      1714   N24211  LGA    IAH  227      1416     5    29    \n",
       "3  33       AA      1141   N619AA  JFK    MIA  160      1089     5    40    \n",
       "4 -18       B6       725   N804JB  JFK    BQN  183      1576     5    45    \n",
       "5 -25       DL       461   N668DN  LGA    ATL  116       762     6     0    \n",
       "6  12       UA      1696   N39463  EWR    ORD  150       719     5    58    \n",
       "  time_hour          \n",
       "1 2013-01-01 05:00:00\n",
       "2 2013-01-01 05:00:00\n",
       "3 2013-01-01 05:00:00\n",
       "4 2013-01-01 05:00:00\n",
       "5 2013-01-01 06:00:00\n",
       "6 2013-01-01 05:00:00"
      ]
     },
     "metadata": {},
     "output_type": "display_data"
    }
   ],
   "source": [
    "head(filter(flights, month == 1, day == 1))"
   ]
  },
  {
   "cell_type": "code",
   "execution_count": 89,
   "metadata": {},
   "outputs": [
    {
     "data": {
      "text/html": [
       "<table>\n",
       "<thead><tr><th scope=col>year</th><th scope=col>month</th><th scope=col>day</th><th scope=col>dep_time</th><th scope=col>sched_dep_time</th><th scope=col>dep_delay</th><th scope=col>arr_time</th><th scope=col>sched_arr_time</th><th scope=col>arr_delay</th><th scope=col>carrier</th><th scope=col>flight</th><th scope=col>tailnum</th><th scope=col>origin</th><th scope=col>dest</th><th scope=col>air_time</th><th scope=col>distance</th><th scope=col>hour</th><th scope=col>minute</th><th scope=col>time_hour</th></tr></thead>\n",
       "<tbody>\n",
       "\t<tr><td>2013               </td><td>11                 </td><td>1                  </td><td>  5                </td><td>2359               </td><td>  6                </td><td>352                </td><td> 345               </td><td>  7                </td><td>B6                 </td><td> 745               </td><td>N568JB             </td><td>JFK                </td><td>PSE                </td><td>205                </td><td>1617               </td><td>23                 </td><td>59                 </td><td>2013-11-01 23:00:00</td></tr>\n",
       "\t<tr><td>2013               </td><td>11                 </td><td>1                  </td><td> 35                </td><td>2250               </td><td>105                </td><td>123                </td><td>2356               </td><td> 87                </td><td>B6                 </td><td>1816               </td><td>N353JB             </td><td>JFK                </td><td>SYR                </td><td> 36                </td><td> 209               </td><td>22                 </td><td>50                 </td><td>2013-11-01 22:00:00</td></tr>\n",
       "\t<tr><td>2013               </td><td>11                 </td><td>1                  </td><td>455                </td><td> 500               </td><td> -5                </td><td>641                </td><td> 651               </td><td>-10                </td><td>US                 </td><td>1895               </td><td>N192UW             </td><td>EWR                </td><td>CLT                </td><td> 88                </td><td> 529               </td><td> 5                 </td><td> 0                 </td><td>2013-11-01 05:00:00</td></tr>\n",
       "\t<tr><td>2013               </td><td>11                 </td><td>1                  </td><td>539                </td><td> 545               </td><td> -6                </td><td>856                </td><td> 827               </td><td> 29                </td><td>UA                 </td><td>1714               </td><td>N38727             </td><td>LGA                </td><td>IAH                </td><td>229                </td><td>1416               </td><td> 5                 </td><td>45                 </td><td>2013-11-01 05:00:00</td></tr>\n",
       "\t<tr><td>2013               </td><td>11                 </td><td>1                  </td><td>542                </td><td> 545               </td><td> -3                </td><td>831                </td><td> 855               </td><td>-24                </td><td>AA                 </td><td>2243               </td><td>N5CLAA             </td><td>JFK                </td><td>MIA                </td><td>147                </td><td>1089               </td><td> 5                 </td><td>45                 </td><td>2013-11-01 05:00:00</td></tr>\n",
       "\t<tr><td>2013               </td><td>11                 </td><td>1                  </td><td>549                </td><td> 600               </td><td>-11                </td><td>912                </td><td> 923               </td><td>-11                </td><td>UA                 </td><td> 303               </td><td>N595UA             </td><td>JFK                </td><td>SFO                </td><td>359                </td><td>2586               </td><td> 6                 </td><td> 0                 </td><td>2013-11-01 06:00:00</td></tr>\n",
       "</tbody>\n",
       "</table>\n"
      ],
      "text/latex": [
       "\\begin{tabular}{r|lllllllllllllllllll}\n",
       " year & month & day & dep\\_time & sched\\_dep\\_time & dep\\_delay & arr\\_time & sched\\_arr\\_time & arr\\_delay & carrier & flight & tailnum & origin & dest & air\\_time & distance & hour & minute & time\\_hour\\\\\n",
       "\\hline\n",
       "\t 2013                & 11                  & 1                   &   5                 & 2359                &   6                 & 352                 &  345                &   7                 & B6                  &  745                & N568JB              & JFK                 & PSE                 & 205                 & 1617                & 23                  & 59                  & 2013-11-01 23:00:00\\\\\n",
       "\t 2013                & 11                  & 1                   &  35                 & 2250                & 105                 & 123                 & 2356                &  87                 & B6                  & 1816                & N353JB              & JFK                 & SYR                 &  36                 &  209                & 22                  & 50                  & 2013-11-01 22:00:00\\\\\n",
       "\t 2013                & 11                  & 1                   & 455                 &  500                &  -5                 & 641                 &  651                & -10                 & US                  & 1895                & N192UW              & EWR                 & CLT                 &  88                 &  529                &  5                  &  0                  & 2013-11-01 05:00:00\\\\\n",
       "\t 2013                & 11                  & 1                   & 539                 &  545                &  -6                 & 856                 &  827                &  29                 & UA                  & 1714                & N38727              & LGA                 & IAH                 & 229                 & 1416                &  5                  & 45                  & 2013-11-01 05:00:00\\\\\n",
       "\t 2013                & 11                  & 1                   & 542                 &  545                &  -3                 & 831                 &  855                & -24                 & AA                  & 2243                & N5CLAA              & JFK                 & MIA                 & 147                 & 1089                &  5                  & 45                  & 2013-11-01 05:00:00\\\\\n",
       "\t 2013                & 11                  & 1                   & 549                 &  600                & -11                 & 912                 &  923                & -11                 & UA                  &  303                & N595UA              & JFK                 & SFO                 & 359                 & 2586                &  6                  &  0                  & 2013-11-01 06:00:00\\\\\n",
       "\\end{tabular}\n"
      ],
      "text/markdown": [
       "\n",
       "| year | month | day | dep_time | sched_dep_time | dep_delay | arr_time | sched_arr_time | arr_delay | carrier | flight | tailnum | origin | dest | air_time | distance | hour | minute | time_hour |\n",
       "|---|---|---|---|---|---|---|---|---|---|---|---|---|---|---|---|---|---|---|\n",
       "| 2013                | 11                  | 1                   |   5                 | 2359                |   6                 | 352                 |  345                |   7                 | B6                  |  745                | N568JB              | JFK                 | PSE                 | 205                 | 1617                | 23                  | 59                  | 2013-11-01 23:00:00 |\n",
       "| 2013                | 11                  | 1                   |  35                 | 2250                | 105                 | 123                 | 2356                |  87                 | B6                  | 1816                | N353JB              | JFK                 | SYR                 |  36                 |  209                | 22                  | 50                  | 2013-11-01 22:00:00 |\n",
       "| 2013                | 11                  | 1                   | 455                 |  500                |  -5                 | 641                 |  651                | -10                 | US                  | 1895                | N192UW              | EWR                 | CLT                 |  88                 |  529                |  5                  |  0                  | 2013-11-01 05:00:00 |\n",
       "| 2013                | 11                  | 1                   | 539                 |  545                |  -6                 | 856                 |  827                |  29                 | UA                  | 1714                | N38727              | LGA                 | IAH                 | 229                 | 1416                |  5                  | 45                  | 2013-11-01 05:00:00 |\n",
       "| 2013                | 11                  | 1                   | 542                 |  545                |  -3                 | 831                 |  855                | -24                 | AA                  | 2243                | N5CLAA              | JFK                 | MIA                 | 147                 | 1089                |  5                  | 45                  | 2013-11-01 05:00:00 |\n",
       "| 2013                | 11                  | 1                   | 549                 |  600                | -11                 | 912                 |  923                | -11                 | UA                  |  303                | N595UA              | JFK                 | SFO                 | 359                 | 2586                |  6                  |  0                  | 2013-11-01 06:00:00 |\n",
       "\n"
      ],
      "text/plain": [
       "  year month day dep_time sched_dep_time dep_delay arr_time sched_arr_time\n",
       "1 2013 11    1     5      2359             6       352       345          \n",
       "2 2013 11    1    35      2250           105       123      2356          \n",
       "3 2013 11    1   455       500            -5       641       651          \n",
       "4 2013 11    1   539       545            -6       856       827          \n",
       "5 2013 11    1   542       545            -3       831       855          \n",
       "6 2013 11    1   549       600           -11       912       923          \n",
       "  arr_delay carrier flight tailnum origin dest air_time distance hour minute\n",
       "1   7       B6       745   N568JB  JFK    PSE  205      1617     23   59    \n",
       "2  87       B6      1816   N353JB  JFK    SYR   36       209     22   50    \n",
       "3 -10       US      1895   N192UW  EWR    CLT   88       529      5    0    \n",
       "4  29       UA      1714   N38727  LGA    IAH  229      1416      5   45    \n",
       "5 -24       AA      2243   N5CLAA  JFK    MIA  147      1089      5   45    \n",
       "6 -11       UA       303   N595UA  JFK    SFO  359      2586      6    0    \n",
       "  time_hour          \n",
       "1 2013-11-01 23:00:00\n",
       "2 2013-11-01 22:00:00\n",
       "3 2013-11-01 05:00:00\n",
       "4 2013-11-01 05:00:00\n",
       "5 2013-11-01 05:00:00\n",
       "6 2013-11-01 06:00:00"
      ]
     },
     "metadata": {},
     "output_type": "display_data"
    }
   ],
   "source": [
    "head(filter(flights, month == 11 | month == 12))# logical operators"
   ]
  },
  {
   "cell_type": "code",
   "execution_count": 90,
   "metadata": {},
   "outputs": [
    {
     "data": {
      "text/html": [
       "<table>\n",
       "<thead><tr><th scope=col>year</th><th scope=col>month</th><th scope=col>day</th><th scope=col>dep_time</th><th scope=col>sched_dep_time</th><th scope=col>dep_delay</th><th scope=col>arr_time</th><th scope=col>sched_arr_time</th><th scope=col>arr_delay</th><th scope=col>carrier</th><th scope=col>flight</th><th scope=col>tailnum</th><th scope=col>origin</th><th scope=col>dest</th><th scope=col>air_time</th><th scope=col>distance</th><th scope=col>hour</th><th scope=col>minute</th><th scope=col>time_hour</th></tr></thead>\n",
       "<tbody>\n",
       "\t<tr><td>2013               </td><td>11                 </td><td>1                  </td><td>  5                </td><td>2359               </td><td>  6                </td><td>352                </td><td> 345               </td><td>  7                </td><td>B6                 </td><td> 745               </td><td>N568JB             </td><td>JFK                </td><td>PSE                </td><td>205                </td><td>1617               </td><td>23                 </td><td>59                 </td><td>2013-11-01 23:00:00</td></tr>\n",
       "\t<tr><td>2013               </td><td>11                 </td><td>1                  </td><td> 35                </td><td>2250               </td><td>105                </td><td>123                </td><td>2356               </td><td> 87                </td><td>B6                 </td><td>1816               </td><td>N353JB             </td><td>JFK                </td><td>SYR                </td><td> 36                </td><td> 209               </td><td>22                 </td><td>50                 </td><td>2013-11-01 22:00:00</td></tr>\n",
       "\t<tr><td>2013               </td><td>11                 </td><td>1                  </td><td>455                </td><td> 500               </td><td> -5                </td><td>641                </td><td> 651               </td><td>-10                </td><td>US                 </td><td>1895               </td><td>N192UW             </td><td>EWR                </td><td>CLT                </td><td> 88                </td><td> 529               </td><td> 5                 </td><td> 0                 </td><td>2013-11-01 05:00:00</td></tr>\n",
       "\t<tr><td>2013               </td><td>11                 </td><td>1                  </td><td>539                </td><td> 545               </td><td> -6                </td><td>856                </td><td> 827               </td><td> 29                </td><td>UA                 </td><td>1714               </td><td>N38727             </td><td>LGA                </td><td>IAH                </td><td>229                </td><td>1416               </td><td> 5                 </td><td>45                 </td><td>2013-11-01 05:00:00</td></tr>\n",
       "\t<tr><td>2013               </td><td>11                 </td><td>1                  </td><td>542                </td><td> 545               </td><td> -3                </td><td>831                </td><td> 855               </td><td>-24                </td><td>AA                 </td><td>2243               </td><td>N5CLAA             </td><td>JFK                </td><td>MIA                </td><td>147                </td><td>1089               </td><td> 5                 </td><td>45                 </td><td>2013-11-01 05:00:00</td></tr>\n",
       "\t<tr><td>2013               </td><td>11                 </td><td>1                  </td><td>549                </td><td> 600               </td><td>-11                </td><td>912                </td><td> 923               </td><td>-11                </td><td>UA                 </td><td> 303               </td><td>N595UA             </td><td>JFK                </td><td>SFO                </td><td>359                </td><td>2586               </td><td> 6                 </td><td> 0                 </td><td>2013-11-01 06:00:00</td></tr>\n",
       "</tbody>\n",
       "</table>\n"
      ],
      "text/latex": [
       "\\begin{tabular}{r|lllllllllllllllllll}\n",
       " year & month & day & dep\\_time & sched\\_dep\\_time & dep\\_delay & arr\\_time & sched\\_arr\\_time & arr\\_delay & carrier & flight & tailnum & origin & dest & air\\_time & distance & hour & minute & time\\_hour\\\\\n",
       "\\hline\n",
       "\t 2013                & 11                  & 1                   &   5                 & 2359                &   6                 & 352                 &  345                &   7                 & B6                  &  745                & N568JB              & JFK                 & PSE                 & 205                 & 1617                & 23                  & 59                  & 2013-11-01 23:00:00\\\\\n",
       "\t 2013                & 11                  & 1                   &  35                 & 2250                & 105                 & 123                 & 2356                &  87                 & B6                  & 1816                & N353JB              & JFK                 & SYR                 &  36                 &  209                & 22                  & 50                  & 2013-11-01 22:00:00\\\\\n",
       "\t 2013                & 11                  & 1                   & 455                 &  500                &  -5                 & 641                 &  651                & -10                 & US                  & 1895                & N192UW              & EWR                 & CLT                 &  88                 &  529                &  5                  &  0                  & 2013-11-01 05:00:00\\\\\n",
       "\t 2013                & 11                  & 1                   & 539                 &  545                &  -6                 & 856                 &  827                &  29                 & UA                  & 1714                & N38727              & LGA                 & IAH                 & 229                 & 1416                &  5                  & 45                  & 2013-11-01 05:00:00\\\\\n",
       "\t 2013                & 11                  & 1                   & 542                 &  545                &  -3                 & 831                 &  855                & -24                 & AA                  & 2243                & N5CLAA              & JFK                 & MIA                 & 147                 & 1089                &  5                  & 45                  & 2013-11-01 05:00:00\\\\\n",
       "\t 2013                & 11                  & 1                   & 549                 &  600                & -11                 & 912                 &  923                & -11                 & UA                  &  303                & N595UA              & JFK                 & SFO                 & 359                 & 2586                &  6                  &  0                  & 2013-11-01 06:00:00\\\\\n",
       "\\end{tabular}\n"
      ],
      "text/markdown": [
       "\n",
       "| year | month | day | dep_time | sched_dep_time | dep_delay | arr_time | sched_arr_time | arr_delay | carrier | flight | tailnum | origin | dest | air_time | distance | hour | minute | time_hour |\n",
       "|---|---|---|---|---|---|---|---|---|---|---|---|---|---|---|---|---|---|---|\n",
       "| 2013                | 11                  | 1                   |   5                 | 2359                |   6                 | 352                 |  345                |   7                 | B6                  |  745                | N568JB              | JFK                 | PSE                 | 205                 | 1617                | 23                  | 59                  | 2013-11-01 23:00:00 |\n",
       "| 2013                | 11                  | 1                   |  35                 | 2250                | 105                 | 123                 | 2356                |  87                 | B6                  | 1816                | N353JB              | JFK                 | SYR                 |  36                 |  209                | 22                  | 50                  | 2013-11-01 22:00:00 |\n",
       "| 2013                | 11                  | 1                   | 455                 |  500                |  -5                 | 641                 |  651                | -10                 | US                  | 1895                | N192UW              | EWR                 | CLT                 |  88                 |  529                |  5                  |  0                  | 2013-11-01 05:00:00 |\n",
       "| 2013                | 11                  | 1                   | 539                 |  545                |  -6                 | 856                 |  827                |  29                 | UA                  | 1714                | N38727              | LGA                 | IAH                 | 229                 | 1416                |  5                  | 45                  | 2013-11-01 05:00:00 |\n",
       "| 2013                | 11                  | 1                   | 542                 |  545                |  -3                 | 831                 |  855                | -24                 | AA                  | 2243                | N5CLAA              | JFK                 | MIA                 | 147                 | 1089                |  5                  | 45                  | 2013-11-01 05:00:00 |\n",
       "| 2013                | 11                  | 1                   | 549                 |  600                | -11                 | 912                 |  923                | -11                 | UA                  |  303                | N595UA              | JFK                 | SFO                 | 359                 | 2586                |  6                  |  0                  | 2013-11-01 06:00:00 |\n",
       "\n"
      ],
      "text/plain": [
       "  year month day dep_time sched_dep_time dep_delay arr_time sched_arr_time\n",
       "1 2013 11    1     5      2359             6       352       345          \n",
       "2 2013 11    1    35      2250           105       123      2356          \n",
       "3 2013 11    1   455       500            -5       641       651          \n",
       "4 2013 11    1   539       545            -6       856       827          \n",
       "5 2013 11    1   542       545            -3       831       855          \n",
       "6 2013 11    1   549       600           -11       912       923          \n",
       "  arr_delay carrier flight tailnum origin dest air_time distance hour minute\n",
       "1   7       B6       745   N568JB  JFK    PSE  205      1617     23   59    \n",
       "2  87       B6      1816   N353JB  JFK    SYR   36       209     22   50    \n",
       "3 -10       US      1895   N192UW  EWR    CLT   88       529      5    0    \n",
       "4  29       UA      1714   N38727  LGA    IAH  229      1416      5   45    \n",
       "5 -24       AA      2243   N5CLAA  JFK    MIA  147      1089      5   45    \n",
       "6 -11       UA       303   N595UA  JFK    SFO  359      2586      6    0    \n",
       "  time_hour          \n",
       "1 2013-11-01 23:00:00\n",
       "2 2013-11-01 22:00:00\n",
       "3 2013-11-01 05:00:00\n",
       "4 2013-11-01 05:00:00\n",
       "5 2013-11-01 05:00:00\n",
       "6 2013-11-01 06:00:00"
      ]
     },
     "metadata": {},
     "output_type": "display_data"
    }
   ],
   "source": [
    "head(filter(flights, month %in% c(11, 12)))# logical operators 위의 코드와동일"
   ]
  },
  {
   "cell_type": "markdown",
   "metadata": {},
   "source": [
    "## [**arrange**](https://r4ds.had.co.nz/transform.html#filter-rows-with-filte)"
   ]
  },
  {
   "cell_type": "code",
   "execution_count": 91,
   "metadata": {},
   "outputs": [
    {
     "data": {
      "text/html": [
       "<table>\n",
       "<thead><tr><th scope=col>year</th><th scope=col>month</th><th scope=col>day</th><th scope=col>dep_time</th><th scope=col>sched_dep_time</th><th scope=col>dep_delay</th><th scope=col>arr_time</th><th scope=col>sched_arr_time</th><th scope=col>arr_delay</th><th scope=col>carrier</th><th scope=col>flight</th><th scope=col>tailnum</th><th scope=col>origin</th><th scope=col>dest</th><th scope=col>air_time</th><th scope=col>distance</th><th scope=col>hour</th><th scope=col>minute</th><th scope=col>time_hour</th></tr></thead>\n",
       "<tbody>\n",
       "\t<tr><td>2013               </td><td>1                  </td><td> 9                 </td><td> 641               </td><td> 900               </td><td>1301               </td><td>1242               </td><td>1530               </td><td>1272               </td><td>HA                 </td><td>  51               </td><td>N384HA             </td><td>JFK                </td><td>HNL                </td><td>640                </td><td>4983               </td><td> 9                 </td><td> 0                 </td><td>2013-01-09 09:00:00</td></tr>\n",
       "\t<tr><td>2013               </td><td>6                  </td><td>15                 </td><td>1432               </td><td>1935               </td><td>1137               </td><td>1607               </td><td>2120               </td><td>1127               </td><td>MQ                 </td><td>3535               </td><td>N504MQ             </td><td>JFK                </td><td>CMH                </td><td> 74                </td><td> 483               </td><td>19                 </td><td>35                 </td><td>2013-06-15 19:00:00</td></tr>\n",
       "\t<tr><td>2013               </td><td>1                  </td><td>10                 </td><td>1121               </td><td>1635               </td><td>1126               </td><td>1239               </td><td>1810               </td><td>1109               </td><td>MQ                 </td><td>3695               </td><td>N517MQ             </td><td>EWR                </td><td>ORD                </td><td>111                </td><td> 719               </td><td>16                 </td><td>35                 </td><td>2013-01-10 16:00:00</td></tr>\n",
       "\t<tr><td>2013               </td><td>9                  </td><td>20                 </td><td>1139               </td><td>1845               </td><td>1014               </td><td>1457               </td><td>2210               </td><td>1007               </td><td>AA                 </td><td> 177               </td><td>N338AA             </td><td>JFK                </td><td>SFO                </td><td>354                </td><td>2586               </td><td>18                 </td><td>45                 </td><td>2013-09-20 18:00:00</td></tr>\n",
       "\t<tr><td>2013               </td><td>7                  </td><td>22                 </td><td> 845               </td><td>1600               </td><td>1005               </td><td>1044               </td><td>1815               </td><td> 989               </td><td>MQ                 </td><td>3075               </td><td>N665MQ             </td><td>JFK                </td><td>CVG                </td><td> 96                </td><td> 589               </td><td>16                 </td><td> 0                 </td><td>2013-07-22 16:00:00</td></tr>\n",
       "\t<tr><td>2013               </td><td>4                  </td><td>10                 </td><td>1100               </td><td>1900               </td><td> 960               </td><td>1342               </td><td>2211               </td><td> 931               </td><td>DL                 </td><td>2391               </td><td>N959DL             </td><td>JFK                </td><td>TPA                </td><td>139                </td><td>1005               </td><td>19                 </td><td> 0                 </td><td>2013-04-10 19:00:00</td></tr>\n",
       "</tbody>\n",
       "</table>\n"
      ],
      "text/latex": [
       "\\begin{tabular}{r|lllllllllllllllllll}\n",
       " year & month & day & dep\\_time & sched\\_dep\\_time & dep\\_delay & arr\\_time & sched\\_arr\\_time & arr\\_delay & carrier & flight & tailnum & origin & dest & air\\_time & distance & hour & minute & time\\_hour\\\\\n",
       "\\hline\n",
       "\t 2013                & 1                   &  9                  &  641                &  900                & 1301                & 1242                & 1530                & 1272                & HA                  &   51                & N384HA              & JFK                 & HNL                 & 640                 & 4983                &  9                  &  0                  & 2013-01-09 09:00:00\\\\\n",
       "\t 2013                & 6                   & 15                  & 1432                & 1935                & 1137                & 1607                & 2120                & 1127                & MQ                  & 3535                & N504MQ              & JFK                 & CMH                 &  74                 &  483                & 19                  & 35                  & 2013-06-15 19:00:00\\\\\n",
       "\t 2013                & 1                   & 10                  & 1121                & 1635                & 1126                & 1239                & 1810                & 1109                & MQ                  & 3695                & N517MQ              & EWR                 & ORD                 & 111                 &  719                & 16                  & 35                  & 2013-01-10 16:00:00\\\\\n",
       "\t 2013                & 9                   & 20                  & 1139                & 1845                & 1014                & 1457                & 2210                & 1007                & AA                  &  177                & N338AA              & JFK                 & SFO                 & 354                 & 2586                & 18                  & 45                  & 2013-09-20 18:00:00\\\\\n",
       "\t 2013                & 7                   & 22                  &  845                & 1600                & 1005                & 1044                & 1815                &  989                & MQ                  & 3075                & N665MQ              & JFK                 & CVG                 &  96                 &  589                & 16                  &  0                  & 2013-07-22 16:00:00\\\\\n",
       "\t 2013                & 4                   & 10                  & 1100                & 1900                &  960                & 1342                & 2211                &  931                & DL                  & 2391                & N959DL              & JFK                 & TPA                 & 139                 & 1005                & 19                  &  0                  & 2013-04-10 19:00:00\\\\\n",
       "\\end{tabular}\n"
      ],
      "text/markdown": [
       "\n",
       "| year | month | day | dep_time | sched_dep_time | dep_delay | arr_time | sched_arr_time | arr_delay | carrier | flight | tailnum | origin | dest | air_time | distance | hour | minute | time_hour |\n",
       "|---|---|---|---|---|---|---|---|---|---|---|---|---|---|---|---|---|---|---|\n",
       "| 2013                | 1                   |  9                  |  641                |  900                | 1301                | 1242                | 1530                | 1272                | HA                  |   51                | N384HA              | JFK                 | HNL                 | 640                 | 4983                |  9                  |  0                  | 2013-01-09 09:00:00 |\n",
       "| 2013                | 6                   | 15                  | 1432                | 1935                | 1137                | 1607                | 2120                | 1127                | MQ                  | 3535                | N504MQ              | JFK                 | CMH                 |  74                 |  483                | 19                  | 35                  | 2013-06-15 19:00:00 |\n",
       "| 2013                | 1                   | 10                  | 1121                | 1635                | 1126                | 1239                | 1810                | 1109                | MQ                  | 3695                | N517MQ              | EWR                 | ORD                 | 111                 |  719                | 16                  | 35                  | 2013-01-10 16:00:00 |\n",
       "| 2013                | 9                   | 20                  | 1139                | 1845                | 1014                | 1457                | 2210                | 1007                | AA                  |  177                | N338AA              | JFK                 | SFO                 | 354                 | 2586                | 18                  | 45                  | 2013-09-20 18:00:00 |\n",
       "| 2013                | 7                   | 22                  |  845                | 1600                | 1005                | 1044                | 1815                |  989                | MQ                  | 3075                | N665MQ              | JFK                 | CVG                 |  96                 |  589                | 16                  |  0                  | 2013-07-22 16:00:00 |\n",
       "| 2013                | 4                   | 10                  | 1100                | 1900                |  960                | 1342                | 2211                |  931                | DL                  | 2391                | N959DL              | JFK                 | TPA                 | 139                 | 1005                | 19                  |  0                  | 2013-04-10 19:00:00 |\n",
       "\n"
      ],
      "text/plain": [
       "  year month day dep_time sched_dep_time dep_delay arr_time sched_arr_time\n",
       "1 2013 1      9   641      900           1301      1242     1530          \n",
       "2 2013 6     15  1432     1935           1137      1607     2120          \n",
       "3 2013 1     10  1121     1635           1126      1239     1810          \n",
       "4 2013 9     20  1139     1845           1014      1457     2210          \n",
       "5 2013 7     22   845     1600           1005      1044     1815          \n",
       "6 2013 4     10  1100     1900            960      1342     2211          \n",
       "  arr_delay carrier flight tailnum origin dest air_time distance hour minute\n",
       "1 1272      HA        51   N384HA  JFK    HNL  640      4983      9    0    \n",
       "2 1127      MQ      3535   N504MQ  JFK    CMH   74       483     19   35    \n",
       "3 1109      MQ      3695   N517MQ  EWR    ORD  111       719     16   35    \n",
       "4 1007      AA       177   N338AA  JFK    SFO  354      2586     18   45    \n",
       "5  989      MQ      3075   N665MQ  JFK    CVG   96       589     16    0    \n",
       "6  931      DL      2391   N959DL  JFK    TPA  139      1005     19    0    \n",
       "  time_hour          \n",
       "1 2013-01-09 09:00:00\n",
       "2 2013-06-15 19:00:00\n",
       "3 2013-01-10 16:00:00\n",
       "4 2013-09-20 18:00:00\n",
       "5 2013-07-22 16:00:00\n",
       "6 2013-04-10 19:00:00"
      ]
     },
     "metadata": {},
     "output_type": "display_data"
    }
   ],
   "source": [
    "head(arrange(flights, desc(dep_delay)))"
   ]
  },
  {
   "cell_type": "markdown",
   "metadata": {},
   "source": [
    "## [**select**](https://r4ds.had.co.nz/transform.html#select)"
   ]
  },
  {
   "cell_type": "code",
   "execution_count": 93,
   "metadata": {
    "scrolled": true
   },
   "outputs": [
    {
     "data": {
      "text/html": [
       "<table>\n",
       "<thead><tr><th scope=col>year</th><th scope=col>month</th><th scope=col>day</th></tr></thead>\n",
       "<tbody>\n",
       "\t<tr><td>2013</td><td>1   </td><td>1   </td></tr>\n",
       "\t<tr><td>2013</td><td>1   </td><td>1   </td></tr>\n",
       "\t<tr><td>2013</td><td>1   </td><td>1   </td></tr>\n",
       "\t<tr><td>2013</td><td>1   </td><td>1   </td></tr>\n",
       "\t<tr><td>2013</td><td>1   </td><td>1   </td></tr>\n",
       "\t<tr><td>2013</td><td>1   </td><td>1   </td></tr>\n",
       "</tbody>\n",
       "</table>\n"
      ],
      "text/latex": [
       "\\begin{tabular}{r|lll}\n",
       " year & month & day\\\\\n",
       "\\hline\n",
       "\t 2013 & 1    & 1   \\\\\n",
       "\t 2013 & 1    & 1   \\\\\n",
       "\t 2013 & 1    & 1   \\\\\n",
       "\t 2013 & 1    & 1   \\\\\n",
       "\t 2013 & 1    & 1   \\\\\n",
       "\t 2013 & 1    & 1   \\\\\n",
       "\\end{tabular}\n"
      ],
      "text/markdown": [
       "\n",
       "| year | month | day |\n",
       "|---|---|---|\n",
       "| 2013 | 1    | 1    |\n",
       "| 2013 | 1    | 1    |\n",
       "| 2013 | 1    | 1    |\n",
       "| 2013 | 1    | 1    |\n",
       "| 2013 | 1    | 1    |\n",
       "| 2013 | 1    | 1    |\n",
       "\n"
      ],
      "text/plain": [
       "  year month day\n",
       "1 2013 1     1  \n",
       "2 2013 1     1  \n",
       "3 2013 1     1  \n",
       "4 2013 1     1  \n",
       "5 2013 1     1  \n",
       "6 2013 1     1  "
      ]
     },
     "metadata": {},
     "output_type": "display_data"
    }
   ],
   "source": [
    "head(select(flights, year, month, day))"
   ]
  },
  {
   "cell_type": "markdown",
   "metadata": {},
   "source": [
    "## [**mutate**](https://r4ds.had.co.nz/transform.html#add-new-variables-with-mutate)"
   ]
  },
  {
   "cell_type": "code",
   "execution_count": 94,
   "metadata": {
    "scrolled": true
   },
   "outputs": [
    {
     "data": {
      "text/html": [
       "<table>\n",
       "<thead><tr><th scope=col>year</th><th scope=col>month</th><th scope=col>day</th><th scope=col>dep_delay</th><th scope=col>arr_delay</th><th scope=col>distance</th><th scope=col>air_time</th><th scope=col>gain</th><th scope=col>speed</th></tr></thead>\n",
       "<tbody>\n",
       "\t<tr><td>2013    </td><td>1       </td><td>1       </td><td> 2      </td><td> 11     </td><td>1400    </td><td>227     </td><td> -9     </td><td>370.0441</td></tr>\n",
       "\t<tr><td>2013    </td><td>1       </td><td>1       </td><td> 4      </td><td> 20     </td><td>1416    </td><td>227     </td><td>-16     </td><td>374.2731</td></tr>\n",
       "\t<tr><td>2013    </td><td>1       </td><td>1       </td><td> 2      </td><td> 33     </td><td>1089    </td><td>160     </td><td>-31     </td><td>408.3750</td></tr>\n",
       "\t<tr><td>2013    </td><td>1       </td><td>1       </td><td>-1      </td><td>-18     </td><td>1576    </td><td>183     </td><td> 17     </td><td>516.7213</td></tr>\n",
       "\t<tr><td>2013    </td><td>1       </td><td>1       </td><td>-6      </td><td>-25     </td><td> 762    </td><td>116     </td><td> 19     </td><td>394.1379</td></tr>\n",
       "\t<tr><td>2013    </td><td>1       </td><td>1       </td><td>-4      </td><td> 12     </td><td> 719    </td><td>150     </td><td>-16     </td><td>287.6000</td></tr>\n",
       "</tbody>\n",
       "</table>\n"
      ],
      "text/latex": [
       "\\begin{tabular}{r|lllllllll}\n",
       " year & month & day & dep\\_delay & arr\\_delay & distance & air\\_time & gain & speed\\\\\n",
       "\\hline\n",
       "\t 2013     & 1        & 1        &  2       &  11      & 1400     & 227      &  -9      & 370.0441\\\\\n",
       "\t 2013     & 1        & 1        &  4       &  20      & 1416     & 227      & -16      & 374.2731\\\\\n",
       "\t 2013     & 1        & 1        &  2       &  33      & 1089     & 160      & -31      & 408.3750\\\\\n",
       "\t 2013     & 1        & 1        & -1       & -18      & 1576     & 183      &  17      & 516.7213\\\\\n",
       "\t 2013     & 1        & 1        & -6       & -25      &  762     & 116      &  19      & 394.1379\\\\\n",
       "\t 2013     & 1        & 1        & -4       &  12      &  719     & 150      & -16      & 287.6000\\\\\n",
       "\\end{tabular}\n"
      ],
      "text/markdown": [
       "\n",
       "| year | month | day | dep_delay | arr_delay | distance | air_time | gain | speed |\n",
       "|---|---|---|---|---|---|---|---|---|\n",
       "| 2013     | 1        | 1        |  2       |  11      | 1400     | 227      |  -9      | 370.0441 |\n",
       "| 2013     | 1        | 1        |  4       |  20      | 1416     | 227      | -16      | 374.2731 |\n",
       "| 2013     | 1        | 1        |  2       |  33      | 1089     | 160      | -31      | 408.3750 |\n",
       "| 2013     | 1        | 1        | -1       | -18      | 1576     | 183      |  17      | 516.7213 |\n",
       "| 2013     | 1        | 1        | -6       | -25      |  762     | 116      |  19      | 394.1379 |\n",
       "| 2013     | 1        | 1        | -4       |  12      |  719     | 150      | -16      | 287.6000 |\n",
       "\n"
      ],
      "text/plain": [
       "  year month day dep_delay arr_delay distance air_time gain speed   \n",
       "1 2013 1     1    2         11       1400     227       -9  370.0441\n",
       "2 2013 1     1    4         20       1416     227      -16  374.2731\n",
       "3 2013 1     1    2         33       1089     160      -31  408.3750\n",
       "4 2013 1     1   -1        -18       1576     183       17  516.7213\n",
       "5 2013 1     1   -6        -25        762     116       19  394.1379\n",
       "6 2013 1     1   -4         12        719     150      -16  287.6000"
      ]
     },
     "metadata": {},
     "output_type": "display_data"
    }
   ],
   "source": [
    "flights_sml <- select(flights, \n",
    "  year:day, \n",
    "  ends_with(\"delay\"), \n",
    "  distance, \n",
    "  air_time\n",
    ")\n",
    "head(mutate(flights_sml,\n",
    "  gain = dep_delay - arr_delay,\n",
    "  speed = distance / air_time * 60\n",
    "))"
   ]
  },
  {
   "cell_type": "markdown",
   "metadata": {},
   "source": [
    "## [**summarize**](https://r4ds.had.co.nz/transform.html#grouped-summaries-with-summarise)"
   ]
  },
  {
   "cell_type": "code",
   "execution_count": 95,
   "metadata": {
    "scrolled": true
   },
   "outputs": [
    {
     "data": {
      "text/html": [
       "<table>\n",
       "<thead><tr><th scope=col>year</th><th scope=col>month</th><th scope=col>day</th><th scope=col>delay</th></tr></thead>\n",
       "<tbody>\n",
       "\t<tr><td>2013     </td><td>1        </td><td>1        </td><td>11.548926</td></tr>\n",
       "\t<tr><td>2013     </td><td>1        </td><td>2        </td><td>13.858824</td></tr>\n",
       "\t<tr><td>2013     </td><td>1        </td><td>3        </td><td>10.987832</td></tr>\n",
       "\t<tr><td>2013     </td><td>1        </td><td>4        </td><td> 8.951595</td></tr>\n",
       "\t<tr><td>2013     </td><td>1        </td><td>5        </td><td> 5.732218</td></tr>\n",
       "\t<tr><td>2013     </td><td>1        </td><td>6        </td><td> 7.148014</td></tr>\n",
       "</tbody>\n",
       "</table>\n"
      ],
      "text/latex": [
       "\\begin{tabular}{r|llll}\n",
       " year & month & day & delay\\\\\n",
       "\\hline\n",
       "\t 2013      & 1         & 1         & 11.548926\\\\\n",
       "\t 2013      & 1         & 2         & 13.858824\\\\\n",
       "\t 2013      & 1         & 3         & 10.987832\\\\\n",
       "\t 2013      & 1         & 4         &  8.951595\\\\\n",
       "\t 2013      & 1         & 5         &  5.732218\\\\\n",
       "\t 2013      & 1         & 6         &  7.148014\\\\\n",
       "\\end{tabular}\n"
      ],
      "text/markdown": [
       "\n",
       "| year | month | day | delay |\n",
       "|---|---|---|---|\n",
       "| 2013      | 1         | 1         | 11.548926 |\n",
       "| 2013      | 1         | 2         | 13.858824 |\n",
       "| 2013      | 1         | 3         | 10.987832 |\n",
       "| 2013      | 1         | 4         |  8.951595 |\n",
       "| 2013      | 1         | 5         |  5.732218 |\n",
       "| 2013      | 1         | 6         |  7.148014 |\n",
       "\n"
      ],
      "text/plain": [
       "  year month day delay    \n",
       "1 2013 1     1   11.548926\n",
       "2 2013 1     2   13.858824\n",
       "3 2013 1     3   10.987832\n",
       "4 2013 1     4    8.951595\n",
       "5 2013 1     5    5.732218\n",
       "6 2013 1     6    7.148014"
      ]
     },
     "metadata": {},
     "output_type": "display_data"
    }
   ],
   "source": [
    "by_day <- group_by(flights, year, month, day)\n",
    "head(summarise(by_day, delay = mean(dep_delay, na.rm = TRUE)))"
   ]
  },
  {
   "cell_type": "markdown",
   "metadata": {},
   "source": [
    "## pipe operators"
   ]
  },
  {
   "cell_type": "code",
   "execution_count": 97,
   "metadata": {
    "scrolled": true
   },
   "outputs": [
    {
     "data": {
      "text/html": [
       "<table>\n",
       "<thead><tr><th scope=col>dest</th><th scope=col>count</th><th scope=col>dist</th><th scope=col>delay</th></tr></thead>\n",
       "<tbody>\n",
       "\t<tr><td>ABQ      </td><td>  254    </td><td>1826.0000</td><td> 4.381890</td></tr>\n",
       "\t<tr><td>ACK      </td><td>  265    </td><td> 199.0000</td><td> 4.852273</td></tr>\n",
       "\t<tr><td>ALB      </td><td>  439    </td><td> 143.0000</td><td>14.397129</td></tr>\n",
       "\t<tr><td>ATL      </td><td>17215    </td><td> 757.1082</td><td>11.300113</td></tr>\n",
       "\t<tr><td>AUS      </td><td> 2439    </td><td>1514.2530</td><td> 6.019909</td></tr>\n",
       "\t<tr><td>AVL      </td><td>  275    </td><td> 583.5818</td><td> 8.003831</td></tr>\n",
       "</tbody>\n",
       "</table>\n"
      ],
      "text/latex": [
       "\\begin{tabular}{r|llll}\n",
       " dest & count & dist & delay\\\\\n",
       "\\hline\n",
       "\t ABQ       &   254     & 1826.0000 &  4.381890\\\\\n",
       "\t ACK       &   265     &  199.0000 &  4.852273\\\\\n",
       "\t ALB       &   439     &  143.0000 & 14.397129\\\\\n",
       "\t ATL       & 17215     &  757.1082 & 11.300113\\\\\n",
       "\t AUS       &  2439     & 1514.2530 &  6.019909\\\\\n",
       "\t AVL       &   275     &  583.5818 &  8.003831\\\\\n",
       "\\end{tabular}\n"
      ],
      "text/markdown": [
       "\n",
       "| dest | count | dist | delay |\n",
       "|---|---|---|---|\n",
       "| ABQ       |   254     | 1826.0000 |  4.381890 |\n",
       "| ACK       |   265     |  199.0000 |  4.852273 |\n",
       "| ALB       |   439     |  143.0000 | 14.397129 |\n",
       "| ATL       | 17215     |  757.1082 | 11.300113 |\n",
       "| AUS       |  2439     | 1514.2530 |  6.019909 |\n",
       "| AVL       |   275     |  583.5818 |  8.003831 |\n",
       "\n"
      ],
      "text/plain": [
       "  dest count dist      delay    \n",
       "1 ABQ    254 1826.0000  4.381890\n",
       "2 ACK    265  199.0000  4.852273\n",
       "3 ALB    439  143.0000 14.397129\n",
       "4 ATL  17215  757.1082 11.300113\n",
       "5 AUS   2439 1514.2530  6.019909\n",
       "6 AVL    275  583.5818  8.003831"
      ]
     },
     "metadata": {},
     "output_type": "display_data"
    }
   ],
   "source": [
    "by_dest <- group_by(flights, dest)\n",
    "delay <- summarise (by_dest, \n",
    "                    count = n(), \n",
    "                    dist=mean(distance, na.rm=T), \n",
    "                    delay = mean(arr_delay, na.rm=T))\n",
    "delay <- filter(delay, count > 20, dest != \"HNL\")\n",
    "head(delay)"
   ]
  },
  {
   "cell_type": "code",
   "execution_count": 98,
   "metadata": {
    "scrolled": true
   },
   "outputs": [
    {
     "data": {
      "text/html": [
       "<table>\n",
       "<thead><tr><th scope=col>dest</th><th scope=col>count</th><th scope=col>dist</th><th scope=col>delay</th></tr></thead>\n",
       "<tbody>\n",
       "\t<tr><td>ABQ      </td><td>  254    </td><td>1826.0000</td><td> 4.381890</td></tr>\n",
       "\t<tr><td>ACK      </td><td>  265    </td><td> 199.0000</td><td> 4.852273</td></tr>\n",
       "\t<tr><td>ALB      </td><td>  439    </td><td> 143.0000</td><td>14.397129</td></tr>\n",
       "\t<tr><td>ATL      </td><td>17215    </td><td> 757.1082</td><td>11.300113</td></tr>\n",
       "\t<tr><td>AUS      </td><td> 2439    </td><td>1514.2530</td><td> 6.019909</td></tr>\n",
       "\t<tr><td>AVL      </td><td>  275    </td><td> 583.5818</td><td> 8.003831</td></tr>\n",
       "</tbody>\n",
       "</table>\n"
      ],
      "text/latex": [
       "\\begin{tabular}{r|llll}\n",
       " dest & count & dist & delay\\\\\n",
       "\\hline\n",
       "\t ABQ       &   254     & 1826.0000 &  4.381890\\\\\n",
       "\t ACK       &   265     &  199.0000 &  4.852273\\\\\n",
       "\t ALB       &   439     &  143.0000 & 14.397129\\\\\n",
       "\t ATL       & 17215     &  757.1082 & 11.300113\\\\\n",
       "\t AUS       &  2439     & 1514.2530 &  6.019909\\\\\n",
       "\t AVL       &   275     &  583.5818 &  8.003831\\\\\n",
       "\\end{tabular}\n"
      ],
      "text/markdown": [
       "\n",
       "| dest | count | dist | delay |\n",
       "|---|---|---|---|\n",
       "| ABQ       |   254     | 1826.0000 |  4.381890 |\n",
       "| ACK       |   265     |  199.0000 |  4.852273 |\n",
       "| ALB       |   439     |  143.0000 | 14.397129 |\n",
       "| ATL       | 17215     |  757.1082 | 11.300113 |\n",
       "| AUS       |  2439     | 1514.2530 |  6.019909 |\n",
       "| AVL       |   275     |  583.5818 |  8.003831 |\n",
       "\n"
      ],
      "text/plain": [
       "  dest count dist      delay    \n",
       "1 ABQ    254 1826.0000  4.381890\n",
       "2 ACK    265  199.0000  4.852273\n",
       "3 ALB    439  143.0000 14.397129\n",
       "4 ATL  17215  757.1082 11.300113\n",
       "5 AUS   2439 1514.2530  6.019909\n",
       "6 AVL    275  583.5818  8.003831"
      ]
     },
     "metadata": {},
     "output_type": "display_data"
    }
   ],
   "source": [
    "delays <- flights %>% group_by(dest)%>%\n",
    "        summarise(count = n(),\n",
    "                 dist=mean(distance, na.rm=T), \n",
    "                 delay = mean(arr_delay, na.rm=T) ) %>%\n",
    "        filter(count > 20, dest != \"HNL\")\n",
    "head(delays) # 위의 코드와 동일"
   ]
  },
  {
   "cell_type": "code",
   "execution_count": 58,
   "metadata": {},
   "outputs": [
    {
     "data": {
      "text/html": [
       "<ol class=list-inline>\n",
       "\t<li>'IAH'</li>\n",
       "\t<li>'MIA'</li>\n",
       "\t<li>'BQN'</li>\n",
       "\t<li>'ATL'</li>\n",
       "\t<li>'ORD'</li>\n",
       "\t<li>'FLL'</li>\n",
       "\t<li>'IAD'</li>\n",
       "\t<li>'MCO'</li>\n",
       "\t<li>'PBI'</li>\n",
       "\t<li>'TPA'</li>\n",
       "\t<li>'LAX'</li>\n",
       "\t<li>'SFO'</li>\n",
       "\t<li>'DFW'</li>\n",
       "\t<li>'BOS'</li>\n",
       "\t<li>'LAS'</li>\n",
       "\t<li>'MSP'</li>\n",
       "\t<li>'DTW'</li>\n",
       "\t<li>'RSW'</li>\n",
       "\t<li>'SJU'</li>\n",
       "\t<li>'PHX'</li>\n",
       "\t<li>'BWI'</li>\n",
       "\t<li>'CLT'</li>\n",
       "\t<li>'BUF'</li>\n",
       "\t<li>'DEN'</li>\n",
       "\t<li>'SNA'</li>\n",
       "\t<li>'MSY'</li>\n",
       "\t<li>'SLC'</li>\n",
       "\t<li>'XNA'</li>\n",
       "\t<li>'MKE'</li>\n",
       "\t<li>'SEA'</li>\n",
       "\t<li>'ROC'</li>\n",
       "\t<li>'SYR'</li>\n",
       "\t<li>'SRQ'</li>\n",
       "\t<li>'RDU'</li>\n",
       "\t<li>'CMH'</li>\n",
       "\t<li>'JAX'</li>\n",
       "\t<li>'CHS'</li>\n",
       "\t<li>'MEM'</li>\n",
       "\t<li>'PIT'</li>\n",
       "\t<li>'SAN'</li>\n",
       "\t<li>'DCA'</li>\n",
       "\t<li>'CLE'</li>\n",
       "\t<li>'STL'</li>\n",
       "\t<li>'MYR'</li>\n",
       "\t<li>'JAC'</li>\n",
       "\t<li>'MDW'</li>\n",
       "\t<li>'HNL'</li>\n",
       "\t<li>'BNA'</li>\n",
       "\t<li>'AUS'</li>\n",
       "\t<li>'BTV'</li>\n",
       "\t<li>'PHL'</li>\n",
       "\t<li>'STT'</li>\n",
       "\t<li>'EGE'</li>\n",
       "\t<li>'AVL'</li>\n",
       "\t<li>'PWM'</li>\n",
       "\t<li>'IND'</li>\n",
       "\t<li>'SAV'</li>\n",
       "\t<li>'CAK'</li>\n",
       "\t<li>'HOU'</li>\n",
       "\t<li>'LGB'</li>\n",
       "\t<li>'DAY'</li>\n",
       "\t<li>'ALB'</li>\n",
       "\t<li>'BDL'</li>\n",
       "\t<li>'MHT'</li>\n",
       "\t<li>'MSN'</li>\n",
       "\t<li>'GSO'</li>\n",
       "\t<li>'CVG'</li>\n",
       "\t<li>'BUR'</li>\n",
       "\t<li>'RIC'</li>\n",
       "\t<li>'GSP'</li>\n",
       "\t<li>'GRR'</li>\n",
       "\t<li>'MCI'</li>\n",
       "\t<li>'ORF'</li>\n",
       "\t<li>'SAT'</li>\n",
       "\t<li>'SDF'</li>\n",
       "\t<li>'PDX'</li>\n",
       "\t<li>'SJC'</li>\n",
       "\t<li>'OMA'</li>\n",
       "\t<li>'CRW'</li>\n",
       "\t<li>'OAK'</li>\n",
       "\t<li>'SMF'</li>\n",
       "\t<li>'TUL'</li>\n",
       "\t<li>'TYS'</li>\n",
       "\t<li>'OKC'</li>\n",
       "\t<li>'PVD'</li>\n",
       "\t<li>'DSM'</li>\n",
       "\t<li>'PSE'</li>\n",
       "\t<li>'BHM'</li>\n",
       "\t<li>'CAE'</li>\n",
       "\t<li>'HDN'</li>\n",
       "\t<li>'BZN'</li>\n",
       "\t<li>'MTJ'</li>\n",
       "\t<li>'EYW'</li>\n",
       "\t<li>'PSP'</li>\n",
       "\t<li>'ACK'</li>\n",
       "\t<li>'BGR'</li>\n",
       "\t<li>'ABQ'</li>\n",
       "\t<li>'ILM'</li>\n",
       "\t<li>'MVY'</li>\n",
       "\t<li>'SBN'</li>\n",
       "\t<li>'LEX'</li>\n",
       "\t<li>'CHO'</li>\n",
       "\t<li>'TVC'</li>\n",
       "\t<li>'ANC'</li>\n",
       "\t<li>'LGA'</li>\n",
       "</ol>\n"
      ],
      "text/latex": [
       "\\begin{enumerate*}\n",
       "\\item 'IAH'\n",
       "\\item 'MIA'\n",
       "\\item 'BQN'\n",
       "\\item 'ATL'\n",
       "\\item 'ORD'\n",
       "\\item 'FLL'\n",
       "\\item 'IAD'\n",
       "\\item 'MCO'\n",
       "\\item 'PBI'\n",
       "\\item 'TPA'\n",
       "\\item 'LAX'\n",
       "\\item 'SFO'\n",
       "\\item 'DFW'\n",
       "\\item 'BOS'\n",
       "\\item 'LAS'\n",
       "\\item 'MSP'\n",
       "\\item 'DTW'\n",
       "\\item 'RSW'\n",
       "\\item 'SJU'\n",
       "\\item 'PHX'\n",
       "\\item 'BWI'\n",
       "\\item 'CLT'\n",
       "\\item 'BUF'\n",
       "\\item 'DEN'\n",
       "\\item 'SNA'\n",
       "\\item 'MSY'\n",
       "\\item 'SLC'\n",
       "\\item 'XNA'\n",
       "\\item 'MKE'\n",
       "\\item 'SEA'\n",
       "\\item 'ROC'\n",
       "\\item 'SYR'\n",
       "\\item 'SRQ'\n",
       "\\item 'RDU'\n",
       "\\item 'CMH'\n",
       "\\item 'JAX'\n",
       "\\item 'CHS'\n",
       "\\item 'MEM'\n",
       "\\item 'PIT'\n",
       "\\item 'SAN'\n",
       "\\item 'DCA'\n",
       "\\item 'CLE'\n",
       "\\item 'STL'\n",
       "\\item 'MYR'\n",
       "\\item 'JAC'\n",
       "\\item 'MDW'\n",
       "\\item 'HNL'\n",
       "\\item 'BNA'\n",
       "\\item 'AUS'\n",
       "\\item 'BTV'\n",
       "\\item 'PHL'\n",
       "\\item 'STT'\n",
       "\\item 'EGE'\n",
       "\\item 'AVL'\n",
       "\\item 'PWM'\n",
       "\\item 'IND'\n",
       "\\item 'SAV'\n",
       "\\item 'CAK'\n",
       "\\item 'HOU'\n",
       "\\item 'LGB'\n",
       "\\item 'DAY'\n",
       "\\item 'ALB'\n",
       "\\item 'BDL'\n",
       "\\item 'MHT'\n",
       "\\item 'MSN'\n",
       "\\item 'GSO'\n",
       "\\item 'CVG'\n",
       "\\item 'BUR'\n",
       "\\item 'RIC'\n",
       "\\item 'GSP'\n",
       "\\item 'GRR'\n",
       "\\item 'MCI'\n",
       "\\item 'ORF'\n",
       "\\item 'SAT'\n",
       "\\item 'SDF'\n",
       "\\item 'PDX'\n",
       "\\item 'SJC'\n",
       "\\item 'OMA'\n",
       "\\item 'CRW'\n",
       "\\item 'OAK'\n",
       "\\item 'SMF'\n",
       "\\item 'TUL'\n",
       "\\item 'TYS'\n",
       "\\item 'OKC'\n",
       "\\item 'PVD'\n",
       "\\item 'DSM'\n",
       "\\item 'PSE'\n",
       "\\item 'BHM'\n",
       "\\item 'CAE'\n",
       "\\item 'HDN'\n",
       "\\item 'BZN'\n",
       "\\item 'MTJ'\n",
       "\\item 'EYW'\n",
       "\\item 'PSP'\n",
       "\\item 'ACK'\n",
       "\\item 'BGR'\n",
       "\\item 'ABQ'\n",
       "\\item 'ILM'\n",
       "\\item 'MVY'\n",
       "\\item 'SBN'\n",
       "\\item 'LEX'\n",
       "\\item 'CHO'\n",
       "\\item 'TVC'\n",
       "\\item 'ANC'\n",
       "\\item 'LGA'\n",
       "\\end{enumerate*}\n"
      ],
      "text/markdown": [
       "1. 'IAH'\n",
       "2. 'MIA'\n",
       "3. 'BQN'\n",
       "4. 'ATL'\n",
       "5. 'ORD'\n",
       "6. 'FLL'\n",
       "7. 'IAD'\n",
       "8. 'MCO'\n",
       "9. 'PBI'\n",
       "10. 'TPA'\n",
       "11. 'LAX'\n",
       "12. 'SFO'\n",
       "13. 'DFW'\n",
       "14. 'BOS'\n",
       "15. 'LAS'\n",
       "16. 'MSP'\n",
       "17. 'DTW'\n",
       "18. 'RSW'\n",
       "19. 'SJU'\n",
       "20. 'PHX'\n",
       "21. 'BWI'\n",
       "22. 'CLT'\n",
       "23. 'BUF'\n",
       "24. 'DEN'\n",
       "25. 'SNA'\n",
       "26. 'MSY'\n",
       "27. 'SLC'\n",
       "28. 'XNA'\n",
       "29. 'MKE'\n",
       "30. 'SEA'\n",
       "31. 'ROC'\n",
       "32. 'SYR'\n",
       "33. 'SRQ'\n",
       "34. 'RDU'\n",
       "35. 'CMH'\n",
       "36. 'JAX'\n",
       "37. 'CHS'\n",
       "38. 'MEM'\n",
       "39. 'PIT'\n",
       "40. 'SAN'\n",
       "41. 'DCA'\n",
       "42. 'CLE'\n",
       "43. 'STL'\n",
       "44. 'MYR'\n",
       "45. 'JAC'\n",
       "46. 'MDW'\n",
       "47. 'HNL'\n",
       "48. 'BNA'\n",
       "49. 'AUS'\n",
       "50. 'BTV'\n",
       "51. 'PHL'\n",
       "52. 'STT'\n",
       "53. 'EGE'\n",
       "54. 'AVL'\n",
       "55. 'PWM'\n",
       "56. 'IND'\n",
       "57. 'SAV'\n",
       "58. 'CAK'\n",
       "59. 'HOU'\n",
       "60. 'LGB'\n",
       "61. 'DAY'\n",
       "62. 'ALB'\n",
       "63. 'BDL'\n",
       "64. 'MHT'\n",
       "65. 'MSN'\n",
       "66. 'GSO'\n",
       "67. 'CVG'\n",
       "68. 'BUR'\n",
       "69. 'RIC'\n",
       "70. 'GSP'\n",
       "71. 'GRR'\n",
       "72. 'MCI'\n",
       "73. 'ORF'\n",
       "74. 'SAT'\n",
       "75. 'SDF'\n",
       "76. 'PDX'\n",
       "77. 'SJC'\n",
       "78. 'OMA'\n",
       "79. 'CRW'\n",
       "80. 'OAK'\n",
       "81. 'SMF'\n",
       "82. 'TUL'\n",
       "83. 'TYS'\n",
       "84. 'OKC'\n",
       "85. 'PVD'\n",
       "86. 'DSM'\n",
       "87. 'PSE'\n",
       "88. 'BHM'\n",
       "89. 'CAE'\n",
       "90. 'HDN'\n",
       "91. 'BZN'\n",
       "92. 'MTJ'\n",
       "93. 'EYW'\n",
       "94. 'PSP'\n",
       "95. 'ACK'\n",
       "96. 'BGR'\n",
       "97. 'ABQ'\n",
       "98. 'ILM'\n",
       "99. 'MVY'\n",
       "100. 'SBN'\n",
       "101. 'LEX'\n",
       "102. 'CHO'\n",
       "103. 'TVC'\n",
       "104. 'ANC'\n",
       "105. 'LGA'\n",
       "\n",
       "\n"
      ],
      "text/plain": [
       "  [1] \"IAH\" \"MIA\" \"BQN\" \"ATL\" \"ORD\" \"FLL\" \"IAD\" \"MCO\" \"PBI\" \"TPA\" \"LAX\" \"SFO\"\n",
       " [13] \"DFW\" \"BOS\" \"LAS\" \"MSP\" \"DTW\" \"RSW\" \"SJU\" \"PHX\" \"BWI\" \"CLT\" \"BUF\" \"DEN\"\n",
       " [25] \"SNA\" \"MSY\" \"SLC\" \"XNA\" \"MKE\" \"SEA\" \"ROC\" \"SYR\" \"SRQ\" \"RDU\" \"CMH\" \"JAX\"\n",
       " [37] \"CHS\" \"MEM\" \"PIT\" \"SAN\" \"DCA\" \"CLE\" \"STL\" \"MYR\" \"JAC\" \"MDW\" \"HNL\" \"BNA\"\n",
       " [49] \"AUS\" \"BTV\" \"PHL\" \"STT\" \"EGE\" \"AVL\" \"PWM\" \"IND\" \"SAV\" \"CAK\" \"HOU\" \"LGB\"\n",
       " [61] \"DAY\" \"ALB\" \"BDL\" \"MHT\" \"MSN\" \"GSO\" \"CVG\" \"BUR\" \"RIC\" \"GSP\" \"GRR\" \"MCI\"\n",
       " [73] \"ORF\" \"SAT\" \"SDF\" \"PDX\" \"SJC\" \"OMA\" \"CRW\" \"OAK\" \"SMF\" \"TUL\" \"TYS\" \"OKC\"\n",
       " [85] \"PVD\" \"DSM\" \"PSE\" \"BHM\" \"CAE\" \"HDN\" \"BZN\" \"MTJ\" \"EYW\" \"PSP\" \"ACK\" \"BGR\"\n",
       " [97] \"ABQ\" \"ILM\" \"MVY\" \"SBN\" \"LEX\" \"CHO\" \"TVC\" \"ANC\" \"LGA\""
      ]
     },
     "metadata": {},
     "output_type": "display_data"
    }
   ],
   "source": [
    "unique(flights$dest)"
   ]
  },
  {
   "cell_type": "code",
   "execution_count": 76,
   "metadata": {},
   "outputs": [
    {
     "data": {
      "image/png": "[encoded data removed]",
      "text/plain": [
       "plot without title"
      ]
     },
     "metadata": {},
     "output_type": "display_data"
    }
   ],
   "source": [
    "flights %>%\n",
    "filter(dest == \"DTW\" | dest ==\"MIA\"|dest == \"JAX\" |dest ==\"LEX\" | dest ==\"SNA\"| dest ==\"OAK\" ) %>%\n",
    "group_by(dest) %>%\n",
    "summarize(count=n(),\n",
    "         dist=mean(distance, na.rm=T)) %>%\n",
    "ggplot(aes(x=dest, y=count)) + \n",
    "geom_bar(stat = \"identity\")"
   ]
  },
  {
   "cell_type": "code",
   "execution_count": 78,
   "metadata": {},
   "outputs": [
    {
     "data": {
      "image/png": "[encoded data removed]",
      "text/plain": [
       "plot without title"
      ]
     },
     "metadata": {},
     "output_type": "display_data"
    }
   ],
   "source": [
    "flights %>%\n",
    "filter(dest == \"DTW\" | dest ==\"MIA\"|dest == \"JAX\" |dest ==\"LEX\" | dest ==\"SNA\"| dest ==\"OAK\" ) %>%\n",
    "group_by(dest) %>%\n",
    "summarize(count=n(),\n",
    "         dist=max(distance, na.rm=T)) %>%\n",
    "ggplot(aes(x=dest, y=count)) + \n",
    "geom_bar(stat = \"identity\")"
   ]
  },
  {
   "cell_type": "code",
   "execution_count": 81,
   "metadata": {},
   "outputs": [
    {
     "data": {
      "text/html": [
       "<table>\n",
       "<thead><tr><th scope=col>origin</th><th scope=col>n</th><th scope=col>mean_dep_delay</th></tr></thead>\n",
       "<tbody>\n",
       "</tbody>\n",
       "</table>\n"
      ],
      "text/latex": [
       "\\begin{tabular}{r|lll}\n",
       " origin & n & mean\\_dep\\_delay\\\\\n",
       "\\hline\n",
       "\\end{tabular}\n"
      ],
      "text/markdown": [
       "\n",
       "| origin | n | mean_dep_delay |\n",
       "|---|---|---|\n",
       "\n"
      ],
      "text/plain": [
       "     origin n mean_dep_delay"
      ]
     },
     "metadata": {},
     "output_type": "display_data"
    }
   ],
   "source": [
    "flights %>% \n",
    "filter(dest == \"ALT\" & origin %in% c(\"LGA\", \"JFK\", \"EWR\")) %>%\n",
    "select(dep_delay, arr_time, origin) %>%\n",
    "group_by(origin) %>%\n",
    "summarize( n=n(),\n",
    "         mean_dep_delay= mean(dep_delay, na.rm=T))"
   ]
  },
  {
   "cell_type": "markdown",
   "metadata": {},
   "source": [
    "## tidyr"
   ]
  },
  {
   "cell_type": "markdown",
   "metadata": {},
   "source": [
    "## [**gather**](https://r4ds.had.co.nz/tidy-data.html#gathering)"
   ]
  },
  {
   "cell_type": "code",
   "execution_count": 82,
   "metadata": {},
   "outputs": [
    {
     "data": {
      "text/html": [
       "<table>\n",
       "<thead><tr><th scope=col>country</th><th scope=col>year</th><th scope=col>cases</th><th scope=col>population</th></tr></thead>\n",
       "<tbody>\n",
       "\t<tr><td>Afghanistan</td><td>1999       </td><td>   745     </td><td>  19987071 </td></tr>\n",
       "\t<tr><td>Afghanistan</td><td>2000       </td><td>  2666     </td><td>  20595360 </td></tr>\n",
       "\t<tr><td>Brazil     </td><td>1999       </td><td> 37737     </td><td> 172006362 </td></tr>\n",
       "\t<tr><td>Brazil     </td><td>2000       </td><td> 80488     </td><td> 174504898 </td></tr>\n",
       "\t<tr><td>China      </td><td>1999       </td><td>212258     </td><td>1272915272 </td></tr>\n",
       "\t<tr><td>China      </td><td>2000       </td><td>213766     </td><td>1280428583 </td></tr>\n",
       "</tbody>\n",
       "</table>\n"
      ],
      "text/latex": [
       "\\begin{tabular}{r|llll}\n",
       " country & year & cases & population\\\\\n",
       "\\hline\n",
       "\t Afghanistan & 1999        &    745      &   19987071 \\\\\n",
       "\t Afghanistan & 2000        &   2666      &   20595360 \\\\\n",
       "\t Brazil      & 1999        &  37737      &  172006362 \\\\\n",
       "\t Brazil      & 2000        &  80488      &  174504898 \\\\\n",
       "\t China       & 1999        & 212258      & 1272915272 \\\\\n",
       "\t China       & 2000        & 213766      & 1280428583 \\\\\n",
       "\\end{tabular}\n"
      ],
      "text/markdown": [
       "\n",
       "| country | year | cases | population |\n",
       "|---|---|---|---|\n",
       "| Afghanistan | 1999        |    745      |   19987071  |\n",
       "| Afghanistan | 2000        |   2666      |   20595360  |\n",
       "| Brazil      | 1999        |  37737      |  172006362  |\n",
       "| Brazil      | 2000        |  80488      |  174504898  |\n",
       "| China       | 1999        | 212258      | 1272915272  |\n",
       "| China       | 2000        | 213766      | 1280428583  |\n",
       "\n"
      ],
      "text/plain": [
       "  country     year cases  population\n",
       "1 Afghanistan 1999    745   19987071\n",
       "2 Afghanistan 2000   2666   20595360\n",
       "3 Brazil      1999  37737  172006362\n",
       "4 Brazil      2000  80488  174504898\n",
       "5 China       1999 212258 1272915272\n",
       "6 China       2000 213766 1280428583"
      ]
     },
     "metadata": {},
     "output_type": "display_data"
    }
   ],
   "source": [
    "table4a"
   ]
  },
  {
   "cell_type": "code",
   "execution_count": 83,
   "metadata": {},
   "outputs": [
    {
     "data": {
      "text/html": [
       "<table>\n",
       "<thead><tr><th scope=col>country</th><th scope=col>year</th><th scope=col>cases</th></tr></thead>\n",
       "<tbody>\n",
       "\t<tr><td>Afghanistan</td><td>1999       </td><td>   745     </td></tr>\n",
       "\t<tr><td>Brazil     </td><td>1999       </td><td> 37737     </td></tr>\n",
       "\t<tr><td>China      </td><td>1999       </td><td>212258     </td></tr>\n",
       "\t<tr><td>Afghanistan</td><td>2000       </td><td>  2666     </td></tr>\n",
       "\t<tr><td>Brazil     </td><td>2000       </td><td> 80488     </td></tr>\n",
       "\t<tr><td>China      </td><td>2000       </td><td>213766     </td></tr>\n",
       "</tbody>\n",
       "</table>\n"
      ],
      "text/latex": [
       "\\begin{tabular}{r|lll}\n",
       " country & year & cases\\\\\n",
       "\\hline\n",
       "\t Afghanistan & 1999        &    745     \\\\\n",
       "\t Brazil      & 1999        &  37737     \\\\\n",
       "\t China       & 1999        & 212258     \\\\\n",
       "\t Afghanistan & 2000        &   2666     \\\\\n",
       "\t Brazil      & 2000        &  80488     \\\\\n",
       "\t China       & 2000        & 213766     \\\\\n",
       "\\end{tabular}\n"
      ],
      "text/markdown": [
       "\n",
       "| country | year | cases |\n",
       "|---|---|---|\n",
       "| Afghanistan | 1999        |    745      |\n",
       "| Brazil      | 1999        |  37737      |\n",
       "| China       | 1999        | 212258      |\n",
       "| Afghanistan | 2000        |   2666      |\n",
       "| Brazil      | 2000        |  80488      |\n",
       "| China       | 2000        | 213766      |\n",
       "\n"
      ],
      "text/plain": [
       "  country     year cases \n",
       "1 Afghanistan 1999    745\n",
       "2 Brazil      1999  37737\n",
       "3 China       1999 212258\n",
       "4 Afghanistan 2000   2666\n",
       "5 Brazil      2000  80488\n",
       "6 China       2000 213766"
      ]
     },
     "metadata": {},
     "output_type": "display_data"
    }
   ],
   "source": [
    "table4a %>% \n",
    "  gather(`1999`, `2000`, key = \"year\", value = \"cases\")"
   ]
  },
  {
   "cell_type": "code",
   "execution_count": 84,
   "metadata": {},
   "outputs": [
    {
     "data": {
      "text/html": [
       "<table>\n",
       "<thead><tr><th scope=col>country</th><th scope=col>year</th><th scope=col>population</th></tr></thead>\n",
       "<tbody>\n",
       "\t<tr><td>Afghanistan</td><td>1999       </td><td>  19987071 </td></tr>\n",
       "\t<tr><td>Brazil     </td><td>1999       </td><td> 172006362 </td></tr>\n",
       "\t<tr><td>China      </td><td>1999       </td><td>1272915272 </td></tr>\n",
       "\t<tr><td>Afghanistan</td><td>2000       </td><td>  20595360 </td></tr>\n",
       "\t<tr><td>Brazil     </td><td>2000       </td><td> 174504898 </td></tr>\n",
       "\t<tr><td>China      </td><td>2000       </td><td>1280428583 </td></tr>\n",
       "</tbody>\n",
       "</table>\n"
      ],
      "text/latex": [
       "\\begin{tabular}{r|lll}\n",
       " country & year & population\\\\\n",
       "\\hline\n",
       "\t Afghanistan & 1999        &   19987071 \\\\\n",
       "\t Brazil      & 1999        &  172006362 \\\\\n",
       "\t China       & 1999        & 1272915272 \\\\\n",
       "\t Afghanistan & 2000        &   20595360 \\\\\n",
       "\t Brazil      & 2000        &  174504898 \\\\\n",
       "\t China       & 2000        & 1280428583 \\\\\n",
       "\\end{tabular}\n"
      ],
      "text/markdown": [
       "\n",
       "| country | year | population |\n",
       "|---|---|---|\n",
       "| Afghanistan | 1999        |   19987071  |\n",
       "| Brazil      | 1999        |  172006362  |\n",
       "| China       | 1999        | 1272915272  |\n",
       "| Afghanistan | 2000        |   20595360  |\n",
       "| Brazil      | 2000        |  174504898  |\n",
       "| China       | 2000        | 1280428583  |\n",
       "\n"
      ],
      "text/plain": [
       "  country     year population\n",
       "1 Afghanistan 1999   19987071\n",
       "2 Brazil      1999  172006362\n",
       "3 China       1999 1272915272\n",
       "4 Afghanistan 2000   20595360\n",
       "5 Brazil      2000  174504898\n",
       "6 China       2000 1280428583"
      ]
     },
     "metadata": {},
     "output_type": "display_data"
    }
   ],
   "source": [
    "table4b %>% \n",
    "  gather(`1999`, `2000`, key = \"year\", value = \"population\")"
   ]
  },
  {
   "cell_type": "markdown",
   "metadata": {},
   "source": [
    "## [**spread**](https://r4ds.had.co.nz/tidy-data.html#spreading)"
   ]
  },
  {
   "cell_type": "code",
   "execution_count": 85,
   "metadata": {},
   "outputs": [
    {
     "data": {
      "text/html": [
       "<table>\n",
       "<thead><tr><th scope=col>country</th><th scope=col>year</th><th scope=col>type</th><th scope=col>count</th></tr></thead>\n",
       "<tbody>\n",
       "\t<tr><td>Afghanistan</td><td>1999       </td><td>cases      </td><td>       745 </td></tr>\n",
       "\t<tr><td>Afghanistan</td><td>1999       </td><td>population </td><td>  19987071 </td></tr>\n",
       "\t<tr><td>Afghanistan</td><td>2000       </td><td>cases      </td><td>      2666 </td></tr>\n",
       "\t<tr><td>Afghanistan</td><td>2000       </td><td>population </td><td>  20595360 </td></tr>\n",
       "\t<tr><td>Brazil     </td><td>1999       </td><td>cases      </td><td>     37737 </td></tr>\n",
       "\t<tr><td>Brazil     </td><td>1999       </td><td>population </td><td> 172006362 </td></tr>\n",
       "\t<tr><td>Brazil     </td><td>2000       </td><td>cases      </td><td>     80488 </td></tr>\n",
       "\t<tr><td>Brazil     </td><td>2000       </td><td>population </td><td> 174504898 </td></tr>\n",
       "\t<tr><td>China      </td><td>1999       </td><td>cases      </td><td>    212258 </td></tr>\n",
       "\t<tr><td>China      </td><td>1999       </td><td>population </td><td>1272915272 </td></tr>\n",
       "\t<tr><td>China      </td><td>2000       </td><td>cases      </td><td>    213766 </td></tr>\n",
       "\t<tr><td>China      </td><td>2000       </td><td>population </td><td>1280428583 </td></tr>\n",
       "</tbody>\n",
       "</table>\n"
      ],
      "text/latex": [
       "\\begin{tabular}{r|llll}\n",
       " country & year & type & count\\\\\n",
       "\\hline\n",
       "\t Afghanistan & 1999        & cases       &        745 \\\\\n",
       "\t Afghanistan & 1999        & population  &   19987071 \\\\\n",
       "\t Afghanistan & 2000        & cases       &       2666 \\\\\n",
       "\t Afghanistan & 2000        & population  &   20595360 \\\\\n",
       "\t Brazil      & 1999        & cases       &      37737 \\\\\n",
       "\t Brazil      & 1999        & population  &  172006362 \\\\\n",
       "\t Brazil      & 2000        & cases       &      80488 \\\\\n",
       "\t Brazil      & 2000        & population  &  174504898 \\\\\n",
       "\t China       & 1999        & cases       &     212258 \\\\\n",
       "\t China       & 1999        & population  & 1272915272 \\\\\n",
       "\t China       & 2000        & cases       &     213766 \\\\\n",
       "\t China       & 2000        & population  & 1280428583 \\\\\n",
       "\\end{tabular}\n"
      ],
      "text/markdown": [
       "\n",
       "| country | year | type | count |\n",
       "|---|---|---|---|\n",
       "| Afghanistan | 1999        | cases       |        745  |\n",
       "| Afghanistan | 1999        | population  |   19987071  |\n",
       "| Afghanistan | 2000        | cases       |       2666  |\n",
       "| Afghanistan | 2000        | population  |   20595360  |\n",
       "| Brazil      | 1999        | cases       |      37737  |\n",
       "| Brazil      | 1999        | population  |  172006362  |\n",
       "| Brazil      | 2000        | cases       |      80488  |\n",
       "| Brazil      | 2000        | population  |  174504898  |\n",
       "| China       | 1999        | cases       |     212258  |\n",
       "| China       | 1999        | population  | 1272915272  |\n",
       "| China       | 2000        | cases       |     213766  |\n",
       "| China       | 2000        | population  | 1280428583  |\n",
       "\n"
      ],
      "text/plain": [
       "   country     year type       count     \n",
       "1  Afghanistan 1999 cases             745\n",
       "2  Afghanistan 1999 population   19987071\n",
       "3  Afghanistan 2000 cases            2666\n",
       "4  Afghanistan 2000 population   20595360\n",
       "5  Brazil      1999 cases           37737\n",
       "6  Brazil      1999 population  172006362\n",
       "7  Brazil      2000 cases           80488\n",
       "8  Brazil      2000 population  174504898\n",
       "9  China       1999 cases          212258\n",
       "10 China       1999 population 1272915272\n",
       "11 China       2000 cases          213766\n",
       "12 China       2000 population 1280428583"
      ]
     },
     "metadata": {},
     "output_type": "display_data"
    }
   ],
   "source": [
    "table2"
   ]
  },
  {
   "cell_type": "code",
   "execution_count": 86,
   "metadata": {},
   "outputs": [
    {
     "data": {
      "text/html": [
       "<table>\n",
       "<thead><tr><th scope=col>country</th><th scope=col>year</th><th scope=col>cases</th><th scope=col>population</th></tr></thead>\n",
       "<tbody>\n",
       "\t<tr><td>Afghanistan</td><td>1999       </td><td>   745     </td><td>  19987071 </td></tr>\n",
       "\t<tr><td>Afghanistan</td><td>2000       </td><td>  2666     </td><td>  20595360 </td></tr>\n",
       "\t<tr><td>Brazil     </td><td>1999       </td><td> 37737     </td><td> 172006362 </td></tr>\n",
       "\t<tr><td>Brazil     </td><td>2000       </td><td> 80488     </td><td> 174504898 </td></tr>\n",
       "\t<tr><td>China      </td><td>1999       </td><td>212258     </td><td>1272915272 </td></tr>\n",
       "\t<tr><td>China      </td><td>2000       </td><td>213766     </td><td>1280428583 </td></tr>\n",
       "</tbody>\n",
       "</table>\n"
      ],
      "text/latex": [
       "\\begin{tabular}{r|llll}\n",
       " country & year & cases & population\\\\\n",
       "\\hline\n",
       "\t Afghanistan & 1999        &    745      &   19987071 \\\\\n",
       "\t Afghanistan & 2000        &   2666      &   20595360 \\\\\n",
       "\t Brazil      & 1999        &  37737      &  172006362 \\\\\n",
       "\t Brazil      & 2000        &  80488      &  174504898 \\\\\n",
       "\t China       & 1999        & 212258      & 1272915272 \\\\\n",
       "\t China       & 2000        & 213766      & 1280428583 \\\\\n",
       "\\end{tabular}\n"
      ],
      "text/markdown": [
       "\n",
       "| country | year | cases | population |\n",
       "|---|---|---|---|\n",
       "| Afghanistan | 1999        |    745      |   19987071  |\n",
       "| Afghanistan | 2000        |   2666      |   20595360  |\n",
       "| Brazil      | 1999        |  37737      |  172006362  |\n",
       "| Brazil      | 2000        |  80488      |  174504898  |\n",
       "| China       | 1999        | 212258      | 1272915272  |\n",
       "| China       | 2000        | 213766      | 1280428583  |\n",
       "\n"
      ],
      "text/plain": [
       "  country     year cases  population\n",
       "1 Afghanistan 1999    745   19987071\n",
       "2 Afghanistan 2000   2666   20595360\n",
       "3 Brazil      1999  37737  172006362\n",
       "4 Brazil      2000  80488  174504898\n",
       "5 China       1999 212258 1272915272\n",
       "6 China       2000 213766 1280428583"
      ]
     },
     "metadata": {},
     "output_type": "display_data"
    }
   ],
   "source": [
    "table2 %>%\n",
    "    spread(key = type, value = count)"
   ]
  }
 ],
 "metadata": {
  "kernelspec": {
   "display_name": "R",
   "language": "R",
   "name": "ir"
  },
  "language_info": {
   "codemirror_mode": "r",
   "file_extension": ".r",
   "mimetype": "text/x-r-source",
   "name": "R",
   "pygments_lexer": "r",
   "version": "3.6.1"
  }
 },
 "nbformat": 4,
 "nbformat_minor": 2
}
