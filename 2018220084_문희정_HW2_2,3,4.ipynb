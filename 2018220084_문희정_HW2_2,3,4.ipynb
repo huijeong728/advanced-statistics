{
 "cells": [
  {
   "cell_type": "markdown",
   "metadata": {},
   "source": [
    "# HW2_2"
   ]
  },
  {
   "cell_type": "markdown",
   "metadata": {},
   "source": [
    "###  list compression을 사용하여 1~100사이의 수 중 3의 배수를 나열하라"
   ]
  },
  {
   "cell_type": "code",
   "execution_count": 69,
   "metadata": {
    "collapsed": true
   },
   "outputs": [
    {
     "data": {
      "text/plain": [
       "[3,\n",
       " 6,\n",
       " 9,\n",
       " 12,\n",
       " 15,\n",
       " 18,\n",
       " 21,\n",
       " 24,\n",
       " 27,\n",
       " 30,\n",
       " 33,\n",
       " 36,\n",
       " 39,\n",
       " 42,\n",
       " 45,\n",
       " 48,\n",
       " 51,\n",
       " 54,\n",
       " 57,\n",
       " 60,\n",
       " 63,\n",
       " 66,\n",
       " 69,\n",
       " 72,\n",
       " 75,\n",
       " 78,\n",
       " 81,\n",
       " 84,\n",
       " 87,\n",
       " 90,\n",
       " 93,\n",
       " 96,\n",
       " 99]"
      ]
     },
     "execution_count": 69,
     "metadata": {},
     "output_type": "execute_result"
    }
   ],
   "source": [
    "events= [ x for x in range(1,101) if x % 3 == 0 ]\n",
    "events"
   ]
  },
  {
   "cell_type": "markdown",
   "metadata": {},
   "source": [
    "-----------------------"
   ]
  },
  {
   "cell_type": "markdown",
   "metadata": {},
   "source": [
    "# HW2_3"
   ]
  },
  {
   "cell_type": "markdown",
   "metadata": {},
   "source": [
    "### ids.txt에 있는 사람들의 데이터만 new_data.txt에 저장하라."
   ]
  },
  {
   "cell_type": "markdown",
   "metadata": {},
   "source": [
    "*가정 : data1.txt, data2.txt가 너무 커서, 메모리에 읽을 수 없음.*"
   ]
  },
  {
   "cell_type": "code",
   "execution_count": 153,
   "metadata": {},
   "outputs": [],
   "source": [
    "with open('data/ids.txt', 'w') as f :\n",
    "    f.write('ID\\nJohn\\nKarl\\nAndy\\nTim\\n')"
   ]
  },
  {
   "cell_type": "code",
   "execution_count": 154,
   "metadata": {},
   "outputs": [],
   "source": [
    "with open('data/data1.txt', 'w') as f :\n",
    "    f.write('ID\\tfield1\\tfield2\\tfield3\\nTom\\t1\\t3\\t1\\nJohn\\t1\\t3\\t3\\nTom\\t1\\t1\\t1\\nKarl\\t1\\t1\\t2\\nKarl\\t1\\t3\\t2\\nKarl\\t2\\t2\\t2\\nAndy\\t1\\t2\\t3')"
   ]
  },
  {
   "cell_type": "code",
   "execution_count": 155,
   "metadata": {},
   "outputs": [],
   "source": [
    "with open('data/data2.txt', 'w') as f :\n",
    "    f.write('ID\\tfield1\\tfield2\\tfield3\\nTom\\t2\\t3\\t1\\nJane\\t1\\t1\\t3\\nJane\\t2\\t2\\t1\\nMax\\t3\\t1\\t2\\nKarl\\t1\\t4\\t2\\nMax\\t3\\t2\\t2\\nMax\\t2\\t2\\t1')"
   ]
  },
  {
   "cell_type": "markdown",
   "metadata": {},
   "source": [
    "- process line by line\n",
    "  - open a file to write\n",
    "  - read line by line from data files\n",
    "  - if current id is in the list, write a line in a file"
   ]
  },
  {
   "cell_type": "code",
   "execution_count": 239,
   "metadata": {},
   "outputs": [],
   "source": [
    "ids = []\n",
    "with open('data/ids.txt', 'r') as f :\n",
    "    for line in f :\n",
    "        ids.append(line.strip())"
   ]
  },
  {
   "cell_type": "code",
   "execution_count": 241,
   "metadata": {},
   "outputs": [],
   "source": [
    "with open('data/new_data.txt', \"w\") as f:\n",
    "    \n",
    "    f.write(\"data1 : \\n\\n\")\n",
    "    with open('data/data1.txt', \"r\") as data1:\n",
    "        \n",
    "        for line in data1: \n",
    "            ID=line.strip().split()[0]\n",
    "            if ID in ids:\n",
    "                f.write(line)\n",
    "            \n",
    "    with open('data/data2.txt', \"r\") as data2:\n",
    "        f.write(\"data2 : \\n\\n\")\n",
    "        \n",
    "        for line in data2:\n",
    "            ID=line.strip().split()[0]\n",
    "            if ID in ids:\n",
    "                f.write(line)\n"
   ]
  },
  {
   "cell_type": "markdown",
   "metadata": {},
   "source": [
    "---------------------------------------"
   ]
  },
  {
   "cell_type": "markdown",
   "metadata": {},
   "source": [
    "# HW2_4"
   ]
  },
  {
   "cell_type": "markdown",
   "metadata": {},
   "source": [
    "### yield 를 사용한 Generator 를 만드는 연습 해보기"
   ]
  },
  {
   "cell_type": "code",
   "execution_count": 242,
   "metadata": {},
   "outputs": [],
   "source": [
    "import sys"
   ]
  },
  {
   "cell_type": "code",
   "execution_count": 275,
   "metadata": {},
   "outputs": [],
   "source": [
    "with open('data/score.txt', 'w') as f :\n",
    "    f.write('ID\\tscore1\\tscore2\\tscore3\\nA123\\t2\\t2\\t2\\nBeen\\t2\\t1\\t3\\nB124\\t1\\t1\\t1\\nC125\\t1\\t3\\t2\\nKimD126\\t1\\t3\\t3\\nH129\\t1\\t2\\t3\\nF127\\t3\\t3\\t3\\nG128\\t3\\t2\\t1\\nJ131\\t1\\t3\\t2\\nI130\\t1\\t2\\t3')"
   ]
  },
  {
   "cell_type": "code",
   "execution_count": 276,
   "metadata": {},
   "outputs": [],
   "source": [
    "score = 'data/score.txt'"
   ]
  },
  {
   "cell_type": "code",
   "execution_count": 277,
   "metadata": {},
   "outputs": [],
   "source": [
    "def fgenerator(score, iter_option = 0) :\n",
    "    with open(score, 'r', encoding='utf-8') as f :\n",
    "        for idx, item in enumerate(f) :\n",
    "            ID, V1, V2, V3 = item.strip().split()\n",
    "            if iter_option == 0 :\n",
    "                yield ID\n",
    "            elif iter_option == 1 :\n",
    "                yield V1\n",
    "            elif iter_option == 2 :\n",
    "                yield V2\n",
    "            else :\n",
    "                yield V3"
   ]
  },
  {
   "cell_type": "code",
   "execution_count": 278,
   "metadata": {},
   "outputs": [
    {
     "name": "stdout",
     "output_type": "stream",
     "text": [
      "Wall time: 0 ns\n"
     ]
    }
   ],
   "source": [
    "%%time\n",
    "gen_from_file = fgenerator(score)"
   ]
  },
  {
   "cell_type": "code",
   "execution_count": 280,
   "metadata": {},
   "outputs": [
    {
     "data": {
      "text/plain": [
       "'A123'"
      ]
     },
     "execution_count": 280,
     "metadata": {},
     "output_type": "execute_result"
    }
   ],
   "source": [
    "next(gen_from_file)"
   ]
  },
  {
   "cell_type": "code",
   "execution_count": 281,
   "metadata": {},
   "outputs": [
    {
     "data": {
      "text/plain": [
       "120"
      ]
     },
     "execution_count": 281,
     "metadata": {},
     "output_type": "execute_result"
    }
   ],
   "source": [
    "sys.getsizeof(gen_from_file)"
   ]
  },
  {
   "cell_type": "code",
   "execution_count": 282,
   "metadata": {},
   "outputs": [],
   "source": [
    "def freader(score, iter_option = 0) :\n",
    "    IDs = []\n",
    "    with open(score, 'r', encoding='utf-8') as f :\n",
    "        for idx, item in enumerate(f) :\n",
    "            ID, V1, V2, V3 = item.strip().split()\n",
    "            if iter_option == 0 :\n",
    "                IDs.append(ID)\n",
    "            elif iter_option == 1 :\n",
    "                IDs.append(V1)\n",
    "            elif iter_option == 2 :\n",
    "                IDs.append(V2)\n",
    "            else :\n",
    "                IDs.append(V3)\n",
    "    return IDs"
   ]
  },
  {
   "cell_type": "code",
   "execution_count": 283,
   "metadata": {},
   "outputs": [
    {
     "name": "stdout",
     "output_type": "stream",
     "text": [
      "Wall time: 0 ns\n"
     ]
    }
   ],
   "source": [
    "%%time\n",
    "res = freader(score)"
   ]
  },
  {
   "cell_type": "code",
   "execution_count": 284,
   "metadata": {},
   "outputs": [
    {
     "data": {
      "text/plain": [
       "192"
      ]
     },
     "execution_count": 284,
     "metadata": {},
     "output_type": "execute_result"
    }
   ],
   "source": [
    "sys.getsizeof(res)"
   ]
  },
  {
   "cell_type": "code",
   "execution_count": 285,
   "metadata": {},
   "outputs": [],
   "source": [
    "class DataGenerator() : \n",
    "    def __init__(self, score, iter_option=0) :\n",
    "        self.score = score\n",
    "        self.iter_option = iter_option\n",
    "    \n",
    "    def __iter__(self) :\n",
    "        with open(score, 'r', encoding='utf-8') as f :\n",
    "            for idx, item in enumerate(f) :\n",
    "                ID, V1, V2, V3 = item.strip().split()\n",
    "                if self.iter_option == 0 :\n",
    "                    yield ID\n",
    "                elif self.iter_option == 1 :\n",
    "                    yield V1\n",
    "                elif self.iter_option == 2 :\n",
    "                    yield V2\n",
    "                else :\n",
    "                    yield V3\n",
    "    \n",
    "    def __len__(self) :\n",
    "        with open(score, 'r', encoding='utf-8') as f :\n",
    "            for idx, item in enumerate(f) :\n",
    "                pass\n",
    "            \n",
    "            return idx"
   ]
  },
  {
   "cell_type": "code",
   "execution_count": 286,
   "metadata": {},
   "outputs": [],
   "source": [
    "gen1 = DataGenerator(score)"
   ]
  },
  {
   "cell_type": "code",
   "execution_count": 287,
   "metadata": {},
   "outputs": [
    {
     "data": {
      "text/plain": [
       "10"
      ]
     },
     "execution_count": 287,
     "metadata": {},
     "output_type": "execute_result"
    }
   ],
   "source": [
    "len(gen1)"
   ]
  },
  {
   "cell_type": "code",
   "execution_count": 288,
   "metadata": {},
   "outputs": [
    {
     "name": "stdout",
     "output_type": "stream",
     "text": [
      "ID\n",
      "A123\n",
      "Been\n",
      "B124\n",
      "C125\n",
      "KimD126\n",
      "H129\n",
      "F127\n",
      "G128\n",
      "J131\n",
      "I130\n"
     ]
    }
   ],
   "source": [
    "for idx, item in enumerate(gen1) :\n",
    "    print(item)"
   ]
  }
 ],
 "metadata": {
  "kernelspec": {
   "display_name": "Python 3",
   "language": "python",
   "name": "python3"
  },
  "language_info": {
   "codemirror_mode": {
    "name": "ipython",
    "version": 3
   },
   "file_extension": ".py",
   "mimetype": "text/x-python",
   "name": "python",
   "nbconvert_exporter": "python",
   "pygments_lexer": "ipython3",
   "version": "3.7.4"
  }
 },
 "nbformat": 4,
 "nbformat_minor": 2
}
